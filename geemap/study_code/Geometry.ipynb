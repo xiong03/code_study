{
 "cells": [
  {
   "cell_type": "code",
   "execution_count": 2,
   "id": "207eb10b",
   "metadata": {},
   "outputs": [
    {
     "name": "stdout",
     "output_type": "stream",
     "text": [
      "ee.Date({\n",
      "  \"functionInvocationValue\": {\n",
      "    \"functionName\": \"Date\",\n",
      "    \"arguments\": {\n",
      "      \"value\": {\n",
      "        \"constantValue\": \"1970-01-01\"\n",
      "      }\n",
      "    }\n",
      "  }\n",
      "})\n"
     ]
    }
   ],
   "source": [
    "import ee\n",
    "import geemap"
   ]
  },
  {
   "cell_type": "code",
   "execution_count": 33,
   "id": "7ab686b4",
   "metadata": {
    "scrolled": true
   },
   "outputs": [
    {
     "data": {
      "application/vnd.jupyter.widget-view+json": {
       "model_id": "d3831d07ae0a47739373f3809eb97910",
       "version_major": 2,
       "version_minor": 0
      },
      "text/plain": [
       "Map(center=[20, 0], controls=(WidgetControl(options=['position', 'transparent_bg'], widget=HBox(children=(Togg…"
      ]
     },
     "metadata": {},
     "output_type": "display_data"
    }
   ],
   "source": [
    "Map = geemap.Map()\n",
    "Map"
   ]
  },
  {
   "cell_type": "code",
   "execution_count": 23,
   "id": "f5cbf349",
   "metadata": {},
   "outputs": [],
   "source": [
    "# 1创建并添加一个点至图层\n",
    "point = ee.Geometry.Point([1.5, 1.5])\n",
    "Map.addLayer(point, {}, 'point')\n",
    "# 2缩放至图层\n",
    "Map.center_object(point,3)"
   ]
  },
  {
   "cell_type": "code",
   "execution_count": 24,
   "id": "89fa25b2",
   "metadata": {},
   "outputs": [],
   "source": [
    "# 3创建一条不封闭的线至图层\n",
    "linearString = ee.Geometry.LineString(\n",
    "    [[-35, -10], [35, -10], [35, 10], [-35, 10]])\n",
    "Map.addLayer(linearString, {}, 'linearString')\n",
    "# 缩放至图层\n",
    "Map.center_object(linearString,3)"
   ]
  },
  {
   "cell_type": "code",
   "execution_count": 25,
   "id": "44f715ab",
   "metadata": {},
   "outputs": [],
   "source": [
    "# 4创建一条闭合线至图层\n",
    "linearRing = ee.Geometry.LinearRing(\n",
    "    [[-35, -10], [35, -10], [35, 10], [-35, 10]])\n",
    "Map.addLayer(linearRing, {}, 'linearRing')\n",
    "# 缩放至图层\n",
    "Map.center_object(linearRing,3)"
   ]
  },
  {
   "cell_type": "code",
   "execution_count": 26,
   "id": "38b104bc",
   "metadata": {},
   "outputs": [],
   "source": [
    "# 5创建一个矩形添加至图层\n",
    "rectangle = ee.Geometry.Rectangle([-40, -20, 40, 20])\n",
    "Map.addLayer(rectangle, {}, 'rectangle')\n",
    "# 缩放至图层\n",
    "Map.center_object(rectangle,3)"
   ]
  },
  {
   "cell_type": "code",
   "execution_count": 27,
   "id": "f3a73d8d",
   "metadata": {},
   "outputs": [],
   "source": [
    "# 6创建多种要素至图层（包括点线面）\n",
    "polygon = ee.Geometry.Polygon([\n",
    "    [[-5, 40], [65, 40], [65, 60], [-5, 60]]\n",
    "])\n",
    "Map.addLayer(polygon, {'color': 'ff0000'}, 'polygon')\n",
    "# 缩放至图层\n",
    "Map.center_object(polygon,3)"
   ]
  },
  {
   "cell_type": "code",
   "execution_count": 28,
   "id": "f56ee6b7",
   "metadata": {},
   "outputs": [],
   "source": [
    "# 7几何平面\n",
    "planarPolygon = ee.Geometry(polygon, None, False)\n",
    "Map.addLayer(planarPolygon, {}, 'planarPolygon')"
   ]
  },
  {
   "cell_type": "code",
   "execution_count": 29,
   "id": "ed78a0aa",
   "metadata": {},
   "outputs": [
    {
     "name": "stdout",
     "output_type": "stream",
     "text": [
      "Point 1 {'type': 'Point', 'coordinates': [-121.68, 39.91]}\n",
      "Point 2 {'type': 'Point', 'coordinates': [-97.38, 40.34]}\n"
     ]
    }
   ],
   "source": [
    "# 8Geometry分解\n",
    "multiPoint = ee.Geometry.MultiPoint([[-121.68, 39.91], [-97.38, 40.34]])\n",
    "# geometries ：将 MultiPoint 转化为 List\n",
    "geometries = multiPoint.geometries()\n",
    "pt1 = geometries.get(0)\n",
    "pt2 = geometries.get(1)\n",
    "print('Point 1', pt1.getInfo())\n",
    "print('Point 2', pt2.getInfo())"
   ]
  },
  {
   "cell_type": "code",
   "execution_count": 30,
   "id": "dce83748",
   "metadata": {},
   "outputs": [],
   "source": [
    "# 9缓冲区\n",
    "buffer = polygon.buffer(1000000)\n",
    "Map.addLayer(buffer, {}, 'buffer')"
   ]
  },
  {
   "cell_type": "code",
   "execution_count": 31,
   "id": "8ac2627a",
   "metadata": {},
   "outputs": [],
   "source": [
    "# 10几何质心\n",
    "centroid = polygon.centroid()\n",
    "Map.addLayer(centroid, {'color': '00ff00'}, 'centroid')"
   ]
  },
  {
   "cell_type": "code",
   "execution_count": 34,
   "id": "ac5187c2",
   "metadata": {},
   "outputs": [],
   "source": [
    "poly1 = ee.Geometry.Point([-50, 30]).buffer(1e6)\n",
    "poly2 = ee.Geometry.Point([-40, 30]).buffer(1e6)\n",
    "\n",
    "Map.setCenter(-45, 30)\n",
    "Map.addLayer(poly1, {'color': 'FF0000'}, 'poly1')\n",
    "Map.addLayer(poly2, {'color': '0000FF'}, 'poly2')\n",
    "\n",
    "# intersection() ：交集\n",
    "intersection = poly1.intersection(poly2, ee.ErrorMargin(1))\n",
    "Map.addLayer(intersection, {'color': '00FF00'}, 'intersection')\n",
    "# union() ：并集\n",
    "union = poly1.union(poly2, ee.ErrorMargin(1))\n",
    "Map.addLayer(union, {'color': 'FF00FF'}, 'union')\n",
    "# difference() ：差集\n",
    "diff1 = poly1.difference(poly2, ee.ErrorMargin(1))\n",
    "Map.addLayer(diff1, {'color': 'FFFF00'}, 'diff1')\n",
    "# symmetricDifference() ：并集与交集的差集\n",
    "symDiff = poly1.symmetricDifference(poly2, ee.ErrorMargin(1))\n",
    "Map.addLayer(symDiff, {'color': '000000'}, 'symmetric difference')"
   ]
  },
  {
   "cell_type": "code",
   "execution_count": null,
   "id": "561426ff",
   "metadata": {},
   "outputs": [],
   "source": []
  }
 ],
 "metadata": {
  "kernelspec": {
   "display_name": "Python 3 (ipykernel)",
   "language": "python",
   "name": "python3"
  },
  "language_info": {
   "codemirror_mode": {
    "name": "ipython",
    "version": 3
   },
   "file_extension": ".py",
   "mimetype": "text/x-python",
   "name": "python",
   "nbconvert_exporter": "python",
   "pygments_lexer": "ipython3",
   "version": "3.9.7"
  },
  "varInspector": {
   "cols": {
    "lenName": 16,
    "lenType": 16,
    "lenVar": 40
   },
   "kernels_config": {
    "python": {
     "delete_cmd_postfix": "",
     "delete_cmd_prefix": "del ",
     "library": "var_list.py",
     "varRefreshCmd": "print(var_dic_list())"
    },
    "r": {
     "delete_cmd_postfix": ") ",
     "delete_cmd_prefix": "rm(",
     "library": "var_list.r",
     "varRefreshCmd": "cat(var_dic_list()) "
    }
   },
   "types_to_exclude": [
    "module",
    "function",
    "builtin_function_or_method",
    "instance",
    "_Feature"
   ],
   "window_display": false
  }
 },
 "nbformat": 4,
 "nbformat_minor": 5
}
