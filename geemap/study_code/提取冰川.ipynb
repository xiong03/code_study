{
 "cells": [
  {
   "cell_type": "code",
   "execution_count": null,
   "id": "2c48f122-743a-4d01-bab8-115e3c61ecf9",
   "metadata": {},
   "outputs": [],
   "source": [
    "import geemap\n",
    "import ee\n",
    "Map = geemap.Map()\n",
    "Map"
   ]
  },
  {
   "cell_type": "code",
   "execution_count": null,
   "id": "d29cda49-c882-423e-9457-60372b1b44ae",
   "metadata": {},
   "outputs": [],
   "source": [
    "roi = ee.Geometry.Rectangle([93, 37, 103, 40], None, False)\n",
    "Map.addLayer(roi, {}, \"roi\")"
   ]
  },
  {
   "cell_type": "code",
   "execution_count": null,
   "id": "860d0a35-8dfe-405f-bff5-692ef255df80",
   "metadata": {},
   "outputs": [],
   "source": [
    "def cloudMask(image):\n",
    "    qa = image.select('QA_PIXEL')\n",
    "    # If the cloud bit (5) is set and the cloud confidence (7) is high\n",
    "    # or the cloud shadow bit is set (3), then it's a bad pixel.\n",
    "    cloud = qa.bitwiseAnd(1 << 3)\\\n",
    "          .And(qa.bitwiseAnd(1 << 8))\\\n",
    "          .Or(qa.bitwiseAnd(1 << 4))\n",
    "    # 删除不出现在所有波段的边缘像元\n",
    "    # Remove edge pixels that don't occur in all bands\n",
    "    mask2 = image.mask().reduce(ee.Reducer.min())\n",
    "    return image.updateMask(cloud.Not()).updateMask(mask2)\n",
    "\n",
    "def NDSI1(image):\n",
    "    img = image.expression(\n",
    "        '((green - sho) / (green + sho))', {\n",
    "      'green': image.select(\"SR_B2\"),\n",
    "      'sho': image.select(\"SR_B5\")\n",
    "    }).rename('NDSI')\n",
    "    # img.updateMask(img.gt(0.5).And(img.lt(0.8)))\n",
    "    # img.updateMask(img.gt(0.5))\n",
    "    return image.addBands(img)\n",
    "\n",
    "def NDSI2(image):\n",
    "    img = image.expression(\n",
    "        '((green - sho) / (green + sho))', {\n",
    "      'green': image.select(\"SR_B3\"),\n",
    "      'sho': image.select(\"SR_B6\")\n",
    "    }).rename('NDSI')\n",
    "    # img.updateMask(img.gt(0.5).And(img.lt(0.8)))\n",
    "    # img.updateMask(img.gt(0.5))\n",
    "    return image.addBands(img)"
   ]
  },
  {
   "cell_type": "code",
   "execution_count": null,
   "id": "6cfbb6bd-e1ac-4a64-8fed-74096a7dcfcf",
   "metadata": {
    "tags": []
   },
   "outputs": [],
   "source": [
    "for year in range(1986,2022):\n",
    "    start = str(year)\n",
    "    end = str(year+1)\n",
    "    collection4 = ee.ImageCollection(\"LANDSAT/LT04/C02/T1_L2\")\\\n",
    "                    .filterBounds(roi)\\\n",
    "                    .filterDate(start,end)\\\n",
    "                    .map(cloudMask).map(NDSI1)\n",
    "    collection5 = ee.ImageCollection(\"LANDSAT/LT05/C02/T1_L2\")\\\n",
    "                    .filterBounds(roi)\\\n",
    "                    .filterDate(start,end)\\\n",
    "                    .map(cloudMask).map(NDSI1)\n",
    "    collection7 = ee.ImageCollection(\"LANDSAT/LE07/C02/T1_L2\")\\\n",
    "                    .filterBounds(roi)\\\n",
    "                    .filterDate(start,end)\\\n",
    "                    .map(cloudMask).map(NDSI1)\n",
    "    collection8 = ee.ImageCollection(\"LANDSAT/LC08/C02/T1_L2\")\\\n",
    "                    .filterBounds(roi)\\\n",
    "                    .filterDate(start,end)\\\n",
    "                    .map(cloudMask).map(NDSI2)\n",
    "    col1 = ee.ImageCollection(collection4.merge(collection5))\n",
    "    col2 = ee.ImageCollection(col1.merge(collection7))\n",
    "    collection = ee.ImageCollection(col2.merge(collection8))\n",
    "    img = collection.select('NDSI').mean()\n",
    "    img1 = img.updateMask(img.gt(0.5).And(img.lt(0.8)))\n",
    "    img1 = img1.multiply(1000).toInt().divide(1000)\n",
    "    outfile = r\"E:\\冰川/\"+start\n",
    "    #     clip_dow_merge(roi, img1, outfile, 30)\n",
    "    from tolocal import export\n",
    "    export(region=roi, image=img1,\n",
    "    outfile=outfile, scale=30, sep=0.1)"
   ]
  }
 ],
 "metadata": {
  "kernelspec": {
   "display_name": "Python 3 (ipykernel)",
   "language": "python",
   "name": "python3"
  },
  "language_info": {
   "codemirror_mode": {
    "name": "ipython",
    "version": 3
   },
   "file_extension": ".py",
   "mimetype": "text/x-python",
   "name": "python",
   "nbconvert_exporter": "python",
   "pygments_lexer": "ipython3",
   "version": "3.9.7"
  },
  "varInspector": {
   "cols": {
    "lenName": 16,
    "lenType": 16,
    "lenVar": 40
   },
   "kernels_config": {
    "python": {
     "delete_cmd_postfix": "",
     "delete_cmd_prefix": "del ",
     "library": "var_list.py",
     "varRefreshCmd": "print(var_dic_list())"
    },
    "r": {
     "delete_cmd_postfix": ") ",
     "delete_cmd_prefix": "rm(",
     "library": "var_list.r",
     "varRefreshCmd": "cat(var_dic_list()) "
    }
   },
   "types_to_exclude": [
    "module",
    "function",
    "builtin_function_or_method",
    "instance",
    "_Feature"
   ],
   "window_display": false
  }
 },
 "nbformat": 4,
 "nbformat_minor": 5
}
