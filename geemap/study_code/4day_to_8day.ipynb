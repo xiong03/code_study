{
 "cells": [
  {
   "cell_type": "code",
   "execution_count": 1,
   "id": "e90766c4",
   "metadata": {},
   "outputs": [
    {
     "ename": "NameError",
     "evalue": "name 'geemap' is not defined",
     "output_type": "error",
     "traceback": [
      "\u001b[1;31m---------------------------------------------------------------------------\u001b[0m",
      "\u001b[1;31mNameError\u001b[0m                                 Traceback (most recent call last)",
      "\u001b[1;32m~\\AppData\\Local\\Temp/ipykernel_93276/343793012.py\u001b[0m in \u001b[0;36m<module>\u001b[1;34m\u001b[0m\n\u001b[1;32m----> 1\u001b[1;33m \u001b[0mMap\u001b[0m \u001b[1;33m=\u001b[0m \u001b[0mgeemap\u001b[0m\u001b[1;33m.\u001b[0m\u001b[0mMap\u001b[0m\u001b[1;33m(\u001b[0m\u001b[1;33m)\u001b[0m\u001b[1;33m\u001b[0m\u001b[1;33m\u001b[0m\u001b[0m\n\u001b[0m\u001b[0;32m      2\u001b[0m \u001b[1;33m\u001b[0m\u001b[0m\n\u001b[0;32m      3\u001b[0m \u001b[0mee_shp\u001b[0m \u001b[1;33m=\u001b[0m \u001b[0mgeemap\u001b[0m\u001b[1;33m.\u001b[0m\u001b[0mshp_to_ee\u001b[0m\u001b[1;33m(\u001b[0m\u001b[1;34mr\"C:\\Users\\xiong\\Documents\\geemap\\shp\\boundary\\boundary2.shp\"\u001b[0m\u001b[1;33m)\u001b[0m\u001b[1;33m\u001b[0m\u001b[1;33m\u001b[0m\u001b[0m\n\u001b[0;32m      4\u001b[0m \u001b[1;33m\u001b[0m\u001b[0m\n\u001b[0;32m      5\u001b[0m \u001b[0mS1\u001b[0m \u001b[1;33m=\u001b[0m \u001b[0mee\u001b[0m\u001b[1;33m.\u001b[0m\u001b[0mImageCollection\u001b[0m\u001b[1;33m(\u001b[0m\u001b[1;34m\"MODIS/061/MCD15A3H\"\u001b[0m\u001b[1;33m)\u001b[0m\u001b[1;33m.\u001b[0m\u001b[0mselect\u001b[0m\u001b[1;33m(\u001b[0m\u001b[1;34m'Fpar'\u001b[0m\u001b[1;33m)\u001b[0m\u001b[1;33m.\u001b[0m\u001b[0mfilterBounds\u001b[0m\u001b[1;33m(\u001b[0m\u001b[0mee_shp\u001b[0m\u001b[1;33m.\u001b[0m\u001b[0mgeometry\u001b[0m\u001b[1;33m(\u001b[0m\u001b[1;33m)\u001b[0m\u001b[1;33m)\u001b[0m\u001b[1;33m\u001b[0m\u001b[1;33m\u001b[0m\u001b[0m\n",
      "\u001b[1;31mNameError\u001b[0m: name 'geemap' is not defined"
     ]
    }
   ],
   "source": [
    "# import geemap,ee\n",
    "\n",
    "Map = geemap.Map()\n",
    "\n",
    "ee_shp = geemap.shp_to_ee(r\"C:\\Users\\xiong\\Documents\\geemap\\shp\\boundary\\boundary2.shp\")\n",
    "\n",
    "S1 = ee.ImageCollection(\"MODIS/061/MCD15A3H\").select('Fpar').filterBounds(ee_shp.geometry())\n",
    "\n",
    "# 将数据合并并转为list存放image\n",
    "def map_m(i):\n",
    "    # i is year list\n",
    "    i = ee.Number(i)\n",
    "\n",
    "    def func_dva(n):\n",
    "        # n is 8 days list\n",
    "        # 将时间从每年1月1号开始\n",
    "        yr = ee.Date.fromYMD(i,1,1)\n",
    "        # 将时间增加8天\n",
    "        date = yr.advance(n, 'day')\n",
    "        # 取时间戳\n",
    "        day1 = yr.advance(n, 'day').millis()\n",
    "        day2 = yr.advance(ee.Number(n).add(4),'day').millis()\n",
    "        \n",
    "#         # 每天合并为8天\n",
    "#         day1 = yr.advance(n, 'day').millis()\n",
    "#         day2 = yr.advance(ee.Number(n).add(1),'day').millis()\n",
    "#         day3 = yr.advance(ee.Number(n).add(2),'day').millis()\n",
    "#         day4 = yr.advance(ee.Number(n).add(3),'day').millis()\n",
    "#         day5 = yr.advance(ee.Number(n).add(4),'day').millis()\n",
    "#         day6 = yr.advance(ee.Number(n).add(5),'day').millis()\n",
    "#         day7 = yr.advance(ee.Number(n).add(6),'day').millis()\n",
    "#         day8 = yr.advance(ee.Number(n).add(7),'day').millis()\n",
    "        \n",
    "        # 筛选时间\n",
    "        filter1 = ee.Filter.date(day1)\n",
    "        filter2 = ee.Filter.date(day2)\n",
    "        # 时间筛选出为image\n",
    "        x1 = S1.filter(filter1)\n",
    "        x2 = S1.filter(filter2)\n",
    "        # 合并数据image\n",
    "        col = x1.merge(x2)\n",
    "        # 重命名image并求平均 \n",
    "        fstr = ee.String('MCD_').cat(date.format('yyyy-MM-dd'))\n",
    "        dat = col.mean().rename(fstr)\n",
    "        return dat\n",
    "    \n",
    "    # 将一年分按照8天分割\n",
    "    dats = ee.List.sequence(0, 361, 8).map(func_dva)\n",
    "\n",
    "    return dats\n",
    "\n",
    "# 获取时间ee.list\n",
    "years = ee.List.sequence(2003, 2018, 1)\n",
    "datalist = years.map(map_m)\n",
    "# print(datalist.getInfo())\n",
    "\n",
    "# 将image list数据转为imagecollection\n",
    "image= ee.ImageCollection.fromImages(datalist.get(0))\n",
    "for i in range(1, 16):\n",
    "    d1 = ee.ImageCollection.fromImages(datalist.get(i))\n",
    "    image = image.merge(d1)\n",
    "\n",
    "print(image.getInfo())"
   ]
  },
  {
   "cell_type": "code",
   "execution_count": null,
   "id": "9f89a45e",
   "metadata": {},
   "outputs": [],
   "source": []
  }
 ],
 "metadata": {
  "kernelspec": {
   "display_name": "Python 3 (ipykernel)",
   "language": "python",
   "name": "python3"
  },
  "language_info": {
   "codemirror_mode": {
    "name": "ipython",
    "version": 3
   },
   "file_extension": ".py",
   "mimetype": "text/x-python",
   "name": "python",
   "nbconvert_exporter": "python",
   "pygments_lexer": "ipython3",
   "version": "3.9.7"
  },
  "varInspector": {
   "cols": {
    "lenName": 16,
    "lenType": 16,
    "lenVar": 40
   },
   "kernels_config": {
    "python": {
     "delete_cmd_postfix": "",
     "delete_cmd_prefix": "del ",
     "library": "var_list.py",
     "varRefreshCmd": "print(var_dic_list())"
    },
    "r": {
     "delete_cmd_postfix": ") ",
     "delete_cmd_prefix": "rm(",
     "library": "var_list.r",
     "varRefreshCmd": "cat(var_dic_list()) "
    }
   },
   "types_to_exclude": [
    "module",
    "function",
    "builtin_function_or_method",
    "instance",
    "_Feature"
   ],
   "window_display": false
  }
 },
 "nbformat": 4,
 "nbformat_minor": 5
}
