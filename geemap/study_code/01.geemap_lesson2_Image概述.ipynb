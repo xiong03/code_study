{
 "cells": [
  {
   "cell_type": "raw",
   "id": "72e01afd",
   "metadata": {},
   "source": [
    "# Table of Contents\n",
    "1  Image概述\n",
    "2  Image operator(mask, clip, select, addBands, export)\n",
    "3  ImageCollection概述\n",
    "4  ImageCollection operator(filter, select, set/get, calculation, toList)\n",
    "5  Example 1. Calculate NDVI for Jiangxi and Extract NDWI for poyang Lake between 1982 to 2021;\n",
    "6  Example 2. Download Image or ImageCollection from google earth engine;\n",
    "7  Example 3. Extract NDVI values of climate stations from 1982 to 2021;\n",
    "8  Example 4. Supervised Classification\n",
    "9  Example 5. Unsupervised Classification (clustering) "
   ]
  },
  {
   "cell_type": "code",
   "execution_count": 2,
   "id": "9724d2b9",
   "metadata": {},
   "outputs": [
    {
     "data": {
      "application/vnd.jupyter.widget-view+json": {
       "model_id": "4e9d8a9e16a84077b462483f8d6b36dc",
       "version_major": 2,
       "version_minor": 0
      },
      "text/plain": [
       "Map(center=[39, 110], controls=(WidgetControl(options=['position', 'transparent_bg'], widget=HBox(children=(To…"
      ]
     },
     "metadata": {},
     "output_type": "display_data"
    }
   ],
   "source": [
    "import ee, os\n",
    "import geemap\n",
    "# ee.Initialize()\n",
    "Map = geemap.Map()\n",
    "Map = geemap.Map(center=(39, 110), zoom=4)\n",
    "Map"
   ]
  },
  {
   "cell_type": "raw",
   "id": "36d950ee",
   "metadata": {},
   "source": [
    "# -------------------------------------------------------\n",
    "# 1  Image 概述\n",
    "# https://github.com/monarch-beluga/Study-notes/tree/master/python/jupyter/geemap/Image\n",
    "# -------------------------------------------------------\n"
   ]
  },
  {
   "cell_type": "code",
   "execution_count": 3,
   "id": "0ab752e3",
   "metadata": {},
   "outputs": [],
   "source": [
    "# -------------------------------------------------------\n",
    "# 2  Image operator(mask, clip, select, addBands, export)\n",
    "#     a.Image数据的基础操作\n",
    "# -------------------------------------------------------\n",
    "# 根据常量创建ee对象\n",
    "image1 = ee.Image(1)\n",
    "Map.addLayer(image1,{min: -1e3, max: 5e3},'image1')"
   ]
  },
  {
   "cell_type": "code",
   "execution_count": 4,
   "id": "d9af5f23",
   "metadata": {},
   "outputs": [
    {
     "name": "stdout",
     "output_type": "stream",
     "text": [
      "{'type': 'Image', 'bands': [{'id': 'constant', 'data_type': {'type': 'PixelType', 'precision': 'int', 'min': 1, 'max': 1}, 'crs': 'EPSG:4326', 'crs_transform': [1, 0, 0, 0, 1, 0]}, {'id': 'constant_1', 'data_type': {'type': 'PixelType', 'precision': 'int', 'min': 2, 'max': 2}, 'crs': 'EPSG:4326', 'crs_transform': [1, 0, 0, 0, 1, 0]}, {'id': 'constant_2', 'data_type': {'type': 'PixelType', 'precision': 'int', 'min': 3, 'max': 3}, 'crs': 'EPSG:4326', 'crs_transform': [1, 0, 0, 0, 1, 0]}]}\n"
     ]
    }
   ],
   "source": [
    "# ee对象的合并\n",
    "image2 = ee.Image(2)\n",
    "image3 = ee.Image(3)\n",
    "image4 = ee.Image.cat([image1, image2, image3])\n",
    "print(image4.getInfo())\n",
    "\n"
   ]
  },
  {
   "cell_type": "code",
   "execution_count": 5,
   "id": "b9c8a057",
   "metadata": {},
   "outputs": [
    {
     "name": "stdout",
     "output_type": "stream",
     "text": [
      "{'type': 'Image', 'bands': [{'id': 'constant', 'data_type': {'type': 'PixelType', 'precision': 'int', 'min': 1, 'max': 1}, 'crs': 'EPSG:4326', 'crs_transform': [1, 0, 0, 0, 1, 0]}, {'id': 'constant_1', 'data_type': {'type': 'PixelType', 'precision': 'int', 'min': 2, 'max': 2}, 'crs': 'EPSG:4326', 'crs_transform': [1, 0, 0, 0, 1, 0]}, {'id': 'constant_2', 'data_type': {'type': 'PixelType', 'precision': 'int', 'min': 3, 'max': 3}, 'crs': 'EPSG:4326', 'crs_transform': [1, 0, 0, 0, 1, 0]}, {'id': 'constant_3', 'data_type': {'type': 'PixelType', 'precision': 'int', 'min': 42, 'max': 42}, 'crs': 'EPSG:4326', 'crs_transform': [1, 0, 0, 0, 1, 0]}]}\n"
     ]
    }
   ],
   "source": [
    "# 向ee对象中添加波段i\n",
    "image5 = image4.addBands(ee.Image(42))\n",
    "print(image5.getInfo())\n"
   ]
  },
  {
   "cell_type": "code",
   "execution_count": 6,
   "id": "cf491585",
   "metadata": {},
   "outputs": [
    {
     "name": "stdout",
     "output_type": "stream",
     "text": [
      "{'type': 'Image', 'bands': [{'id': 'band1', 'data_type': {'type': 'PixelType', 'precision': 'int', 'min': 1, 'max': 1}, 'crs': 'EPSG:4326', 'crs_transform': [1, 0, 0, 0, 1, 0]}, {'id': 'band2', 'data_type': {'type': 'PixelType', 'precision': 'int', 'min': 2, 'max': 2}, 'crs': 'EPSG:4326', 'crs_transform': [1, 0, 0, 0, 1, 0]}, {'id': 'band3', 'data_type': {'type': 'PixelType', 'precision': 'int', 'min': 3, 'max': 3}, 'crs': 'EPSG:4326', 'crs_transform': [1, 0, 0, 0, 1, 0]}]}\n"
     ]
    }
   ],
   "source": [
    "# ee对象修改波段名 select的用法   重点！！！！！！！！！！！\n",
    "renamed = image4.select(\n",
    "    [0, 1, 2], # old names\n",
    "    ['band1', 'band2', 'band3']               # new names\n",
    ")\n",
    "print(renamed.getInfo())\n"
   ]
  },
  {
   "cell_type": "code",
   "execution_count": 7,
   "id": "e12c5dc4",
   "metadata": {},
   "outputs": [
    {
     "name": "stdout",
     "output_type": "stream",
     "text": [
      "['AVE_DSM', 'AVE_STK', 'AVE_MSK']\n"
     ]
    }
   ],
   "source": [
    "# 导入ee图层中的指定波段————select函数，select有两种传递的参数方式\n",
    "# 第一种直接传递波段索引值或波段名称或其名称的正则表达式组成的非列表序列，如下：\n",
    "loadedImage = ee.Image('JAXA/ALOS/AW3D30/V2_2').select('.*?DSM', 'AVE_STK', 2)\n",
    "print(loadedImage.bandNames().getInfo())\n",
    "Map.addLayer(loadedImage, {}, 'loadedImage')"
   ]
  },
  {
   "cell_type": "code",
   "execution_count": 8,
   "id": "36859dff",
   "metadata": {
    "collapsed": true
   },
   "outputs": [
    {
     "name": "stdout",
     "output_type": "stream",
     "text": [
      "{'type': 'Image', 'bands': [{'id': 'A', 'data_type': {'type': 'PixelType', 'precision': 'int', 'min': -32768, 'max': 32767}, 'dimensions': [1296000, 597600], 'crs': 'EPSG:4326', 'crs_transform': [0.0002777777777777778, 0, -180, 0, -0.0002777777777777778, 84]}, {'id': 'B', 'data_type': {'type': 'PixelType', 'precision': 'int', 'min': 0, 'max': 255}, 'dimensions': [1296000, 597600], 'crs': 'EPSG:4326', 'crs_transform': [0.0002777777777777778, 0, -180, 0, -0.0002777777777777778, 84]}], 'id': 'JAXA/ALOS/AW3D30/V2_2', 'version': 1641990176334383, 'properties': {'type_name': 'Image', 'keywords': ['alos', 'dem', 'elevation', 'geophysical', 'jaxa', 'topography'], 'thumb': 'https://mw1.google.com/ges/dd/images/AW3D30_thumb.png', 'description': '<p>ALOS World 3D - 30m (AW3D30) is a global digital surface\\nmodel (DSM) dataset with a horizontal resolution of approximately\\n30 meters (1 arcsec mesh). The dataset is based on the DSM dataset\\n(5-meter mesh version) of the <a href=\"https://www.aw3d.jp/en/\">World 3D Topographic Data</a>.\\nMore details are available in the dataset <a href=\"https://www.eorc.jaxa.jp/ALOS/en/aw3d30/aw3d30v11_format_e.pdf\">documentation</a>.</p><p>Version 2.2, released in April 2019 is an improved version of the\\nnorthern region over 60 degrees north. Along with the complement of no-data or\\nlow-quality area, updating of coastline was also performed.</p><p><b>Provider: <a href=\"https://www.eorc.jaxa.jp/ALOS/en/aw3d30/\">JAXA Earth Observation Research Center</a></b><br><p><b>Resolution</b><br>30 meters\\n</p><p><b>Bands</b><table class=\"eecat\"><tr><th scope=\"col\">Name</th><th scope=\"col\">Description</th></tr><tr><td>AVE_DSM</td><td><p>Height above sea level. Signed 16 bits (Little endian) raster data.\\nElevation (in meter) converted from the ellipsoidal height based on ITRF97\\nand GRS80, using EGM96†1 geoid model.</p></td></tr><tr><td>AVE_STK</td><td><p>Stacking number of the scene unit DSM used in producing\\nDSM. The band is derived by resampling the stacking number for\\n5m resolution DSM to 30m resolution.</p></td></tr><tr><td>AVE_MSK</td><td><p>8-bit mask for the ave band.</p></td></tr><tr><td colspan=100>\\n      Bitmask for AVE_MSK\\n<ul><li>\\n          Bits 0-7: Generated from resampled DSM.\\n<ul><li>0: Valid</li><li>1: Cloud and snow mask (invalid).</li><li>2: Land water and low correlation mask (valid).</li><li>3: Sea mask (valid).</li><li>4: Void filled with GSI DTM (valid).</li><li>8: Void filled with Shuttle Radar Topography Mission\\nSRTM-1 Version 3 (valid).</li><li>12: Void filled with PRISM DSM (valid).</li><li>24: Void filled with ASTER GDEM v2 (valid).</li><li>28: Void filled with ArcticDEM v2 (valid).</li><li>252: Void filled with applied IDW method (gdal_fillnodata) (valid)</li></ul></li></ul></td></tr></table><p><sup>The AW3D DSM elevation is calculated by an image matching process\\nthat uses a stereo pair of optical images. Clouds, snow, and ice are\\nautomatically identified during processing and applied the\\nmask information. However, mismatched points sometimes\\nremain especially surrounding (or at the edges of) clouds, snow,\\nand ice areas, which cause some height errors in the final DSM.\\nHere are some example areas with data values outside of valid elevation\\nrange. Impossibly low negative values are concentrated in Antarctica around\\n(-63.77, -61.660), (-77.22, -150.27), and (-73.29, 168.14); in Indonesia\\naround (-5.36, 134.55); in Brazil around (-1.667113844, -50.6269684);\\nand in Peru around (-10.45048137, -75.39459876) with approximate values of\\n-1013, -998, -635, and -610 respectively. Impossibly high\\npositive values are found in several locations in the Arctic around\\n(79.83, -77.67) and (69.54, -75.42); in Fiji around (-16.58, 179.44)\\nand (-18.96, 178.39); and in Nepal around (28.50, 84.56) with\\napproximate values of 15369, 15213, and 10900 respectively.</sup><p><b>Terms of Use</b><br><p>This dataset is available to use with no charge under\\nthe conditions specified in the <a href=\"https://www.eorc.jaxa.jp/ALOS/en/aw3d30/\">Terms of use for ALOS Global Digital\\nSurface Model</a>.</p><p><b>Suggested citation(s)</b><ul><li><dl><dt>T. Tadono, H. Ishida, F. Oda, S. Naito, K. Minakawa, H. Iwamoto</dt><dd>Precise Global DEM Generation By ALOS PRISM, ISPRS Annals of\\nthe Photogrammetry, Remote Sensing and Spatial Information Sciences,\\nVol.II-4, pp.71-76, 2014. <a href=\"https://www.isprs-ann-photogramm-remote-sens-spatial-inf-sci.net/II-4/71/2014/isprsannals-II-4-71-2014.pdf\">PDF file</a></dd></dl></li><li><p>J. Takaku, T. Tadono, K. Tsutsui : Generation of High Resolution\\nGlobal DSM from ALOS PRISM, The International Archives of the Photogrammetry,\\nRemote Sensing and Spatial Information Sciences, Vol. XL-4, pp.243-248,\\nISPRS, 2014. <a href=\"https://www.int-arch-photogramm-remote-sens-spatial-inf-sci.net/XL-4/243/2014/isprsarchives-XL-4-243-2014.pdf\">PDF file</a></p></li><li><p>J. Takaku, T. Tadono, K. Tsutsui, M. Ichikawa : Validation of\\n\\\\u2018AW3D\\\\u2019 Global DSM Generated from ALOS PRISM, ISPRS\\nAnnals of the Photogrammetry, Remote Sensing and Spatial Information\\nSciences, Vol.III-4, pp.25-31, 2016. <a href=\"https://www.isprs-ann-photogramm-remote-sens-spatial-inf-sci.net/III-4/25/2016/isprs-annals-III-4-25-2016.pdf\">PDF file</a></p></li><li><p>T. Tadono, H. Nagai, H. Ishida, F. Oda, S. Naito, K. Minakawa,\\nH. Iwamoto : Initial Validation of the 30 m-mesh Global Digital\\nSurface Model Generated by ALOS PRISM, The International Archives\\nof the Photogrammetry, Remote Sensing and Spatial Information Sciences,\\nISPRS, Vol. XLI-B4, pp.157-162, 2016. <a href=\"https://www.int-arch-photogramm-remote-sens-spatial-inf-sci.net/XLI-B4/157/2016/isprs-archives-XLI-B4-157-2016.pdf\">PDF file</a></p></li></ul><style>\\n  table.eecat {\\n  border: 1px solid black;\\n  border-collapse: collapse;\\n  font-size: 13px;\\n  }\\n  table.eecat td, tr, th {\\n  text-align: left; vertical-align: top;\\n  border: 1px solid gray; padding: 3px;\\n  }\\n  td.nobreak { white-space: nowrap; }\\n</style>', 'source_tags': ['jaxa'], 'visualization_0_max': '15355.0', 'title': 'ALOS DSM: Global 30m [deprecated]', 'superseded_by': 'JAXA/ALOS/AW3D30/V3_2', 'product_tags': ['alos', 'elevation', 'dem', 'geophysical', 'topography'], 'provider': 'JAXA Earth Observation Research Center', 'system:footprint': {'type': 'LinearRing', 'coordinates': [[-180, -90], [180, -90], [180, 90], [-180, 90], [-180, -90]]}, 'visualization_0_min': '0.0', 'visualization_0_name': 'Elevation', 'date_range': [1138060800000, 1305158400000], 'period': 0, 'system:time_end': 1306800000000, 'provider_url': 'https://www.eorc.jaxa.jp/ALOS/en/aw3d30/', 'sample': 'https://mw1.google.com/ges/dd/images/AW3D30_sample.png', 'tags': ['alos', 'dem', 'elevation', 'geophysical', 'jaxa', 'topography'], 'system:time_start': 1136073600000, 'visualization_0_palette': '0000ff,00ffff,ffff00,ff0000,ffffff', 'system:asset_size': 206498044910, 'visualization_0_bands': 'AVE_DSM'}}\n"
     ]
    }
   ],
   "source": [
    "# 第二种传递两个列表，第一个列表用于波段筛选，第二个列表用于指定波段的新名称\n",
    "# 两个列表的元素个数必须一致，如下：\n",
    "loadedImage_All = ee.Image('JAXA/ALOS/AW3D30/V2_2').select([0, 1], ['A', 'B'])\n",
    "print(loadedImage_All.getInfo())\n",
    "Map.addLayer(loadedImage_All, {}, 'All')\n",
    "Map.addLayer(loadedImage_All.select(0), {}, 'A')\n",
    "Map.addLayer(loadedImage_All.select('B'), {}, 'B')"
   ]
  },
  {
   "cell_type": "code",
   "execution_count": 9,
   "id": "fb7f1a5f",
   "metadata": {
    "collapsed": true
   },
   "outputs": [
    {
     "name": "stdout",
     "output_type": "stream",
     "text": [
      "band :['B3', 'B4', 'B5']\n",
      "projection :{'type': 'Projection', 'crs': 'EPSG:32610', 'transform': [30, 0, 460785, 0, -30, 4264215]}\n",
      "scale :30\n",
      "properties: ['system:version', 'system:id', 'RADIANCE_MULT_BAND_5', 'RADIANCE_MULT_BAND_6', 'RADIANCE_MULT_BAND_3', 'RADIANCE_MULT_BAND_4', 'RADIANCE_MULT_BAND_1', 'RADIANCE_MULT_BAND_2', 'K2_CONSTANT_BAND_11', 'K2_CONSTANT_BAND_10', 'system:footprint', 'REFLECTIVE_SAMPLES', 'SUN_AZIMUTH', 'CPF_NAME', 'DATE_ACQUIRED', 'ELLIPSOID', 'google:registration_offset_x', 'google:registration_offset_y', 'STATION_ID', 'RESAMPLING_OPTION', 'ORIENTATION', 'WRS_ROW', 'RADIANCE_MULT_BAND_9', 'TARGET_WRS_ROW', 'RADIANCE_MULT_BAND_7', 'RADIANCE_MULT_BAND_8', 'IMAGE_QUALITY_TIRS', 'TRUNCATION_OLI', 'CLOUD_COVER', 'GEOMETRIC_RMSE_VERIFY', 'COLLECTION_CATEGORY', 'GRID_CELL_SIZE_REFLECTIVE', 'CLOUD_COVER_LAND', 'GEOMETRIC_RMSE_MODEL', 'COLLECTION_NUMBER', 'IMAGE_QUALITY_OLI', 'LANDSAT_SCENE_ID', 'WRS_PATH', 'google:registration_count', 'PANCHROMATIC_SAMPLES', 'PANCHROMATIC_LINES', 'GEOMETRIC_RMSE_MODEL_Y', 'REFLECTIVE_LINES', 'TIRS_STRAY_LIGHT_CORRECTION_SOURCE', 'GEOMETRIC_RMSE_MODEL_X', 'system:asset_size', 'system:index', 'REFLECTANCE_ADD_BAND_1', 'REFLECTANCE_ADD_BAND_2', 'DATUM', 'REFLECTANCE_ADD_BAND_3', 'REFLECTANCE_ADD_BAND_4', 'RLUT_FILE_NAME', 'REFLECTANCE_ADD_BAND_5', 'REFLECTANCE_ADD_BAND_6', 'REFLECTANCE_ADD_BAND_7', 'REFLECTANCE_ADD_BAND_8', 'BPF_NAME_TIRS', 'GROUND_CONTROL_POINTS_VERSION', 'DATA_TYPE', 'UTM_ZONE', 'LANDSAT_PRODUCT_ID', 'REFLECTANCE_ADD_BAND_9', 'google:registration_ratio', 'GRID_CELL_SIZE_PANCHROMATIC', 'RADIANCE_ADD_BAND_4', 'REFLECTANCE_MULT_BAND_7', 'system:time_start', 'RADIANCE_ADD_BAND_5', 'REFLECTANCE_MULT_BAND_6', 'RADIANCE_ADD_BAND_6', 'REFLECTANCE_MULT_BAND_9', 'PROCESSING_SOFTWARE_VERSION', 'RADIANCE_ADD_BAND_7', 'REFLECTANCE_MULT_BAND_8', 'RADIANCE_ADD_BAND_1', 'RADIANCE_ADD_BAND_2', 'RADIANCE_ADD_BAND_3', 'REFLECTANCE_MULT_BAND_1', 'RADIANCE_ADD_BAND_8', 'REFLECTANCE_MULT_BAND_3', 'RADIANCE_ADD_BAND_9', 'REFLECTANCE_MULT_BAND_2', 'REFLECTANCE_MULT_BAND_5', 'REFLECTANCE_MULT_BAND_4', 'THERMAL_LINES', 'TIRS_SSM_POSITION_STATUS', 'GRID_CELL_SIZE_THERMAL', 'NADIR_OFFNADIR', 'RADIANCE_ADD_BAND_11', 'REQUEST_ID', 'EARTH_SUN_DISTANCE', 'TIRS_SSM_MODEL', 'FILE_DATE', 'SCENE_CENTER_TIME', 'SUN_ELEVATION', 'BPF_NAME_OLI', 'RADIANCE_ADD_BAND_10', 'ROLL_ANGLE', 'K1_CONSTANT_BAND_10', 'SATURATION_BAND_1', 'SATURATION_BAND_2', 'SATURATION_BAND_3', 'SATURATION_BAND_4', 'SATURATION_BAND_5', 'MAP_PROJECTION', 'SATURATION_BAND_6', 'SENSOR_ID', 'SATURATION_BAND_7', 'K1_CONSTANT_BAND_11', 'SATURATION_BAND_8', 'SATURATION_BAND_9', 'TARGET_WRS_PATH', 'RADIANCE_MULT_BAND_11', 'RADIANCE_MULT_BAND_10', 'GROUND_CONTROL_POINTS_MODEL', 'SPACECRAFT_ID', 'ELEVATION_SOURCE', 'THERMAL_SAMPLES', 'GROUND_CONTROL_POINTS_VERIFY', 'system:bands', 'system:band_names']\n",
      "CLOUD_COVER: 0.05999999865889549\n",
      "date :2014-03-18 18:46:32\n"
     ]
    }
   ],
   "source": [
    "image = ee.Image('LANDSAT/LC08/C01/T1_TOA/LC08_044034_20140318').select('B3', 'B4', 'B5')\n",
    "# 影像数据的波段名字\n",
    "bandNames = image.bandNames().getInfo()\n",
    "print(f'band :{bandNames}')\n",
    "# 波段B3的投影信息\n",
    "b1proj = image.select('B3').projection().getInfo()\n",
    "print(f'projection :{b1proj}')\n",
    "# 波段B4的像元大小\n",
    "b1scale = image.select('B4').projection().nominalScale().getInfo()\n",
    "print(f'scale :{b1scale}')\n",
    "# 影像数据的属性名称\n",
    "properties = image.propertyNames().getInfo()\n",
    "print(f'properties: {properties}')\n",
    "# 影像数据的云量\n",
    "cloudiness = image.get('CLOUD_COVER').getInfo()\n",
    "print(f'CLOUD_COVER: {cloudiness}')\n",
    "# 影像数据的时间（格式已转换）\n",
    "date = ee.Date(image.get('system:time_start')).format('YYYY-MM-dd HH:mm:ss').getInfo()\n",
    "print(f'date :{date}')"
   ]
  },
  {
   "cell_type": "code",
   "execution_count": 10,
   "id": "403c976b",
   "metadata": {
    "collapsed": true
   },
   "outputs": [
    {
     "name": "stdout",
     "output_type": "stream",
     "text": [
      "['system:version', 'system:id', 'RADIANCE_MULT_BAND_5', 'RADIANCE_MULT_BAND_6', 'RADIANCE_MULT_BAND_3', 'RADIANCE_MULT_BAND_4', 'RADIANCE_MULT_BAND_1', 'RADIANCE_MULT_BAND_2', 'K2_CONSTANT_BAND_11', 'K2_CONSTANT_BAND_10', 'system:footprint', 'REFLECTIVE_SAMPLES', 'SUN_AZIMUTH', 'CPF_NAME', 'DATE_ACQUIRED', 'ELLIPSOID', 'google:registration_offset_x', 'google:registration_offset_y', 'STATION_ID', 'RESAMPLING_OPTION', 'ORIENTATION', 'WRS_ROW', 'RADIANCE_MULT_BAND_9', 'TARGET_WRS_ROW', 'RADIANCE_MULT_BAND_7', 'RADIANCE_MULT_BAND_8', 'IMAGE_QUALITY_TIRS', 'TRUNCATION_OLI', 'CLOUD_COVER', 'GEOMETRIC_RMSE_VERIFY', 'COLLECTION_CATEGORY', 'GRID_CELL_SIZE_REFLECTIVE', 'CLOUD_COVER_LAND', 'GEOMETRIC_RMSE_MODEL', 'COLLECTION_NUMBER', 'IMAGE_QUALITY_OLI', 'LANDSAT_SCENE_ID', 'WRS_PATH', 'google:registration_count', 'PANCHROMATIC_SAMPLES', 'PANCHROMATIC_LINES', 'GEOMETRIC_RMSE_MODEL_Y', 'REFLECTIVE_LINES', 'TIRS_STRAY_LIGHT_CORRECTION_SOURCE', 'GEOMETRIC_RMSE_MODEL_X', 'system:asset_size', 'system:index', 'REFLECTANCE_ADD_BAND_1', 'REFLECTANCE_ADD_BAND_2', 'DATUM', 'REFLECTANCE_ADD_BAND_3', 'REFLECTANCE_ADD_BAND_4', 'RLUT_FILE_NAME', 'REFLECTANCE_ADD_BAND_5', 'REFLECTANCE_ADD_BAND_6', 'REFLECTANCE_ADD_BAND_7', 'REFLECTANCE_ADD_BAND_8', 'BPF_NAME_TIRS', 'GROUND_CONTROL_POINTS_VERSION', 'DATA_TYPE', 'UTM_ZONE', 'LANDSAT_PRODUCT_ID', 'REFLECTANCE_ADD_BAND_9', 'google:registration_ratio', 'GRID_CELL_SIZE_PANCHROMATIC', 'RADIANCE_ADD_BAND_4', 'REFLECTANCE_MULT_BAND_7', 'system:time_start', 'RADIANCE_ADD_BAND_5', 'REFLECTANCE_MULT_BAND_6', 'RADIANCE_ADD_BAND_6', 'REFLECTANCE_MULT_BAND_9', 'PROCESSING_SOFTWARE_VERSION', 'RADIANCE_ADD_BAND_7', 'REFLECTANCE_MULT_BAND_8', 'RADIANCE_ADD_BAND_1', 'RADIANCE_ADD_BAND_2', 'RADIANCE_ADD_BAND_3', 'REFLECTANCE_MULT_BAND_1', 'RADIANCE_ADD_BAND_8', 'REFLECTANCE_MULT_BAND_3', 'RADIANCE_ADD_BAND_9', 'REFLECTANCE_MULT_BAND_2', 'REFLECTANCE_MULT_BAND_5', 'REFLECTANCE_MULT_BAND_4', 'THERMAL_LINES', 'TIRS_SSM_POSITION_STATUS', 'GRID_CELL_SIZE_THERMAL', 'NADIR_OFFNADIR', 'RADIANCE_ADD_BAND_11', 'REQUEST_ID', 'EARTH_SUN_DISTANCE', 'TIRS_SSM_MODEL', 'FILE_DATE', 'SCENE_CENTER_TIME', 'SUN_ELEVATION', 'BPF_NAME_OLI', 'RADIANCE_ADD_BAND_10', 'ROLL_ANGLE', 'K1_CONSTANT_BAND_10', 'SATURATION_BAND_1', 'SATURATION_BAND_2', 'SATURATION_BAND_3', 'SATURATION_BAND_4', 'SATURATION_BAND_5', 'MAP_PROJECTION', 'SATURATION_BAND_6', 'SENSOR_ID', 'SATURATION_BAND_7', 'K1_CONSTANT_BAND_11', 'SATURATION_BAND_8', 'SATURATION_BAND_9', 'TARGET_WRS_PATH', 'RADIANCE_MULT_BAND_11', 'RADIANCE_MULT_BAND_10', 'GROUND_CONTROL_POINTS_MODEL', 'SPACECRAFT_ID', 'ELEVATION_SOURCE', 'THERMAL_SAMPLES', 'GROUND_CONTROL_POINTS_VERIFY', 'system:bands', 'system:band_names']\n"
     ]
    }
   ],
   "source": [
    "# 可通过image.propertyNames()获取属性名字\n",
    "props = ee.Image('LANDSAT/LC08/C01/T1_TOA/LC08_044034_20140318').propertyNames().getInfo()\n",
    "print(props)"
   ]
  },
  {
   "cell_type": "code",
   "execution_count": 11,
   "id": "d746fc35",
   "metadata": {},
   "outputs": [
    {
     "name": "stdout",
     "output_type": "stream",
     "text": [
      "LANDSAT/LC08/C01/T1_TOA/LC08_044034_20140318\n"
     ]
    }
   ],
   "source": [
    "# 可通过get().getInfo()获取属性名字中的常量\n",
    "ID = ee.Image('LANDSAT/LC08/C01/T1_TOA/LC08_044034_20140318').get('system:id').getInfo()\n",
    "print(ID)"
   ]
  },
  {
   "cell_type": "raw",
   "id": "796028a7",
   "metadata": {},
   "source": [
    "--*--*----*--*----*--*----*--*----*--*----*--*--\n",
    "Relational, conditional operations for Images\n",
    "--*--*----*--*----*--*----*--*----*--*----*--*--"
   ]
  },
  {
   "cell_type": "code",
   "execution_count": 12,
   "id": "2067beb9",
   "metadata": {
    "collapsed": true
   },
   "outputs": [
    {
     "name": "stdout",
     "output_type": "stream",
     "text": [
      "ndvi: {'type': 'Image', 'bands': [{'id': 'nd', 'data_type': {'type': 'PixelType', 'precision': 'float', 'min': -1, 'max': 1}, 'dimensions': [7661, 7801], 'crs': 'EPSG:32610', 'crs_transform': [30, 0, 460785, 0, -30, 4264215]}], 'properties': {'system:footprint': {'type': 'LinearRing', 'coordinates': [[-121.3637119499993, 36.41016684133052], [-121.35905784815819, 36.42528989660049], [-121.2315833015866, 36.840374852891664], [-121.09978718573184, 37.26438246506325], [-121.00571062336425, 37.564795515259384], [-120.98453376062118, 37.632161601008896], [-120.95100979452299, 37.73864548098522], [-120.90277241165228, 37.89149086576169], [-120.8836409072059, 37.951976016520376], [-120.85713152433351, 38.03584247073611], [-120.82804345546616, 38.12789513604401], [-122.38148159443172, 38.42337450676813], [-122.9500220192271, 38.525813632077686], [-122.95103687833704, 38.52422133103557], [-122.9569591344694, 38.504384836247866], [-123.43853932998316, 36.805122381748035], [-123.18722447462653, 36.759167415189125], [-121.5105534682754, 36.43765126135182], [-121.36447385999617, 36.408418528930035], [-121.3637119499993, 36.41016684133052]]}}}\n",
      " ndwi: {'type': 'Image', 'bands': [{'id': 'nd', 'data_type': {'type': 'PixelType', 'precision': 'float', 'min': -1, 'max': 1}, 'dimensions': [7661, 7801], 'crs': 'EPSG:32610', 'crs_transform': [30, 0, 460785, 0, -30, 4264215]}], 'properties': {'system:footprint': {'type': 'LinearRing', 'coordinates': [[-121.3637119499993, 36.41016684133052], [-121.35905784815819, 36.42528989660049], [-121.2315833015866, 36.840374852891664], [-121.09978718573184, 37.26438246506325], [-121.00571062336425, 37.564795515259384], [-120.98453376062118, 37.632161601008896], [-120.95100979452299, 37.73864548098522], [-120.90277241165228, 37.89149086576169], [-120.8836409072059, 37.951976016520376], [-120.85713152433351, 38.03584247073611], [-120.82804345546616, 38.12789513604401], [-122.38148159443172, 38.42337450676813], [-122.9500220192271, 38.525813632077686], [-122.95103687833704, 38.52422133103557], [-122.9569591344694, 38.504384836247866], [-123.43853932998316, 36.805122381748035], [-123.18722447462653, 36.759167415189125], [-121.5105534682754, 36.43765126135182], [-121.36447385999617, 36.408418528930035], [-121.3637119499993, 36.41016684133052]]}}}\n",
      "bare :{'type': 'Image', 'bands': [{'id': 'nd', 'data_type': {'type': 'PixelType', 'precision': 'int', 'min': 0, 'max': 1}, 'dimensions': [7661, 7801], 'crs': 'EPSG:32610', 'crs_transform': [30, 0, 460785, 0, -30, 4264215]}]}\n"
     ]
    }
   ],
   "source": [
    "# // Load a Landsat 8 image.\n",
    "image = ee.Image('LANDSAT/LC08/C01/T1_TOA/LC08_044034_20140318').select('B3', 'B4', 'B5')\n",
    "\n",
    "# // Create NDVI and NDWI spectral indices.（计算两个波段之间的归一化差值）\n",
    "ndvi = image.normalizedDifference(['B5', 'B4'])\n",
    "ndwi = image.normalizedDifference(['B3', 'B5'])\n",
    "print(f'ndvi: {ndvi.getInfo()}\\n ndwi: {ndwi.getInfo()}')\n",
    "\n",
    "# // Create a binary layer using logical operations.\n",
    "# 获取ndvi小于0.2和ndwi小于0的数据\n",
    "bare = ndvi.lt(0.2).And(ndwi.lt(0))\n",
    "print(f'bare :{bare.getInfo()}')\n",
    "\n",
    "# // Mask and display the binary layer.\n",
    "Map.setCenter(-122.3578, 37.7726, 12)\n",
    "# 图层转化\n",
    "Map.setOptions('SATELLITE')\n",
    "Map.addLayer(bare.updateMask(bare), {}, 'bare')"
   ]
  },
  {
   "cell_type": "code",
   "execution_count": 14,
   "id": "82f18279",
   "metadata": {},
   "outputs": [],
   "source": [
    "# ------------------------------------------------------------------------------------------\n",
    "# +++++++++++++++++++++++++++++++++++++++++++++++++++++++++++++++++++++++++++++++++++++++++++\n",
    "# ------------------------------------------------------------------------------------------\n",
    "# // Load a 2012 nightlights image.\n",
    "# 选取2012年数据集中stable_lights数据（光污染）\n",
    "nl2012 = ee.Image('NOAA/DMSP-OLS/NIGHTTIME_LIGHTS/F182012')\n",
    "lights = nl2012.select('stable_lights')\n",
    "\n",
    "# // Define arbitrary thresholds on the 6-bit stable lights band.\n",
    "# 将大于30的数据加上大于55的数据再加上大于62的数据（参数的选取和数据有关）\n",
    "zones = lights.gt(30).add(lights.gt(55)).add(lights.gt(62))\n",
    "\n",
    "# // Display the thresholded image as three distinct zones near Paris.\n",
    "# 设置数据颜色\n",
    "palette = ['000000', '0000FF', '00FF00', 'FF0000']\n",
    "Map.setCenter(2.373, 48.8683, 8)\n",
    "Map.addLayer(zones, {min: 0, max: 3, 'palette': palette}, 'development zones')"
   ]
  },
  {
   "cell_type": "code",
   "execution_count": 15,
   "id": "d18a80f3",
   "metadata": {},
   "outputs": [],
   "source": [
    "# -------------------------------------------------------\n",
    "# 2  Image operator(export)\n",
    "#     b.export an Image to Google drive\n",
    "# -------------------------------------------------------\n",
    "# max: 3784216,672,400 pixels\n",
    "# geemap.ee_export_image(image, filename=file, scale=1000, region=roi,file_per_band=True)\n",
    "# 将数据导入到云盘中\n",
    "geemap.ee_export_image_to_drive(image, description=\"LC08_044034_20140318\", folder=\"export\", scale=30)"
   ]
  },
  {
   "cell_type": "code",
   "execution_count": 16,
   "id": "ea40b45f",
   "metadata": {},
   "outputs": [
    {
     "ename": "NameError",
     "evalue": "name 'roi' is not defined",
     "output_type": "error",
     "traceback": [
      "\u001b[1;31m---------------------------------------------------------------------------\u001b[0m",
      "\u001b[1;31mNameError\u001b[0m                                 Traceback (most recent call last)",
      "\u001b[1;32m~\\AppData\\Local\\Temp/ipykernel_26540/2560739194.py\u001b[0m in \u001b[0;36m<module>\u001b[1;34m\u001b[0m\n\u001b[0;32m      5\u001b[0m \u001b[1;31m# max: 3784216,672,400 pixels\u001b[0m\u001b[1;33m\u001b[0m\u001b[1;33m\u001b[0m\u001b[0m\n\u001b[0;32m      6\u001b[0m \u001b[0mf_img\u001b[0m \u001b[1;33m=\u001b[0m \u001b[1;34mr\"C:\\Users\\YeHui\\Downloads\\LC08_044034_20140318.tif\"\u001b[0m\u001b[1;33m\u001b[0m\u001b[1;33m\u001b[0m\u001b[0m\n\u001b[1;32m----> 7\u001b[1;33m \u001b[0mgeemap\u001b[0m\u001b[1;33m.\u001b[0m\u001b[0mee_export_image\u001b[0m\u001b[1;33m(\u001b[0m\u001b[0mimage\u001b[0m\u001b[1;33m,\u001b[0m \u001b[0mfilename\u001b[0m\u001b[1;33m=\u001b[0m\u001b[0mf_img\u001b[0m\u001b[1;33m,\u001b[0m \u001b[0mscale\u001b[0m\u001b[1;33m=\u001b[0m\u001b[1;36m300\u001b[0m\u001b[1;33m,\u001b[0m \u001b[0mregion\u001b[0m\u001b[1;33m=\u001b[0m\u001b[0mroi\u001b[0m\u001b[1;33m,\u001b[0m\u001b[0mfile_per_band\u001b[0m\u001b[1;33m=\u001b[0m\u001b[1;32mTrue\u001b[0m\u001b[1;33m)\u001b[0m\u001b[1;33m\u001b[0m\u001b[1;33m\u001b[0m\u001b[0m\n\u001b[0m\u001b[0;32m      8\u001b[0m \u001b[1;31m# geemap.ee_export_image_to_drive(image, description=\"LC08_044034_20140318\", folder=\"export\", scale=30)\u001b[0m\u001b[1;33m\u001b[0m\u001b[1;33m\u001b[0m\u001b[0m\n",
      "\u001b[1;31mNameError\u001b[0m: name 'roi' is not defined"
     ]
    }
   ],
   "source": [
    "# -------------------------------------------------------\n",
    "# 2  Image operator(export)\n",
    "#     b.export an Image to local directory\n",
    "# -------------------------------------------------------\n",
    "# max: 3784216,672,400 pixels\n",
    "# 将数据导入到本地中\n",
    "f_img = r\"C:\\Users\\xiong\\Downloads\\LC08_044034_20140318.tif\"\n",
    "geemap.ee_export_image(image, filename=f_img, scale=300, region=roi, file_per_band=True)\n",
    "# geemap.ee_export_image_to_drive(image, description=\"LC08_044034_20140318\", folder=\"export\", scale=30)"
   ]
  },
  {
   "cell_type": "code",
   "execution_count": 36,
   "id": "41f533f6",
   "metadata": {
    "collapsed": true
   },
   "outputs": [
    {
     "name": "stdout",
     "output_type": "stream",
     "text": [
      "ee.Image({\n",
      "  \"functionInvocationValue\": {\n",
      "    \"functionName\": \"Image.select\",\n",
      "    \"arguments\": {\n",
      "      \"bandSelectors\": {\n",
      "        \"constantValue\": [\n",
      "          \"B3\",\n",
      "          \"B4\",\n",
      "          \"B5\"\n",
      "        ]\n",
      "      },\n",
      "      \"input\": {\n",
      "        \"functionInvocationValue\": {\n",
      "          \"functionName\": \"Image.load\",\n",
      "          \"arguments\": {\n",
      "            \"id\": {\n",
      "              \"constantValue\": \"LANDSAT/LC08/C01/T1_TOA/LC08_044034_20140318\"\n",
      "            }\n",
      "          }\n",
      "        }\n",
      "      }\n",
      "    }\n",
      "  }\n",
      "})\n"
     ]
    }
   ],
   "source": [
    "# -------------------------------------------------------\n",
    "# 2  Image operator(export)\n",
    "#     b.export an Image to local directory\n",
    "# -------------------------------------------------------\n",
    "# from Gee import ee_export\n",
    "\n",
    "image = ee.Image('LANDSAT/LC08/C01/T1_TOA/LC08_044034_20140318').select('B3', 'B4', 'B5')\n",
    "print(image)\n",
    "# f_img = r\"C:\\Users\\YeHui\\Downloads\\LC08_044034_20140318b\"   # do not use name of extension for image\n",
    "# roi = image.geometry()\n",
    "\n",
    "# ee_export(region=roi, image=image, outfile=f_img, scale=30, sep=0.25, num_workers=None)\n",
    "# ------------------------------------------------------------------------------------------\n",
    "# +++++++++++++++++++++++++++++++++++++++++++++++++++++++++++++++++++++++++++++++++++++++++++\n",
    "# ------------------------------------------------------------------------------------------\n",
    "# def ee_export(region: ee.Geometry, image: ee.Image, outfile: str, scale: int,\n",
    "#                    crs='epsg:4326', sep=0.2):\n",
    "#     \"\"\"\n",
    "#     Args:\n",
    "#         geo: ee.Geometry, 需要下载的区域矢量几何\n",
    "#         image: ee.Image, 需要下载的影像\n",
    "#         outfile: str, 输出文件路径和名称，不需要文件后缀，下载的影响默认后缀为tif\n",
    "#         scale: int, 下载时的像元大小\n",
    "#         crs: str, 下载影像的投影，默认为 'epsg:4326' wgs1984投影\n",
    "#         sep: float, 单波段10m分辨率像元的影像裁剪大小(单位：经纬度)，默认为0.2\n",
    "# ------------------------------------------------------------------------------------------\n",
    "# +++++++++++++++++++++++++++++++++++++++++++++++++++++++++++++++++++++++++++++++++++++++++++\n",
    "# ------------------------------------------------------------------------------------------"
   ]
  },
  {
   "cell_type": "code",
   "execution_count": null,
   "id": "a08f27fa",
   "metadata": {},
   "outputs": [],
   "source": [
    "# -------------------------------------------------------\n",
    "# 2  Image operator(export)\n",
    "#     b.export a ImageCollection to local directory\n",
    "# -------------------------------------------------------"
   ]
  }
 ],
 "metadata": {
  "kernelspec": {
   "display_name": "Python 3 (ipykernel)",
   "language": "python",
   "name": "python3"
  },
  "language_info": {
   "codemirror_mode": {
    "name": "ipython",
    "version": 3
   },
   "file_extension": ".py",
   "mimetype": "text/x-python",
   "name": "python",
   "nbconvert_exporter": "python",
   "pygments_lexer": "ipython3",
   "version": "3.9.7"
  },
  "varInspector": {
   "cols": {
    "lenName": 16,
    "lenType": 16,
    "lenVar": 40
   },
   "kernels_config": {
    "python": {
     "delete_cmd_postfix": "",
     "delete_cmd_prefix": "del ",
     "library": "var_list.py",
     "varRefreshCmd": "print(var_dic_list())"
    },
    "r": {
     "delete_cmd_postfix": ") ",
     "delete_cmd_prefix": "rm(",
     "library": "var_list.r",
     "varRefreshCmd": "cat(var_dic_list()) "
    }
   },
   "position": {
    "height": "258.844px",
    "left": "1550px",
    "right": "20px",
    "top": "120px",
    "width": "350px"
   },
   "types_to_exclude": [
    "module",
    "function",
    "builtin_function_or_method",
    "instance",
    "_Feature"
   ],
   "window_display": true
  }
 },
 "nbformat": 4,
 "nbformat_minor": 5
}
