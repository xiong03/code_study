{
 "cells": [
  {
   "cell_type": "code",
   "execution_count": 9,
   "id": "94de3d92",
   "metadata": {},
   "outputs": [],
   "source": [
    "import geemap,ee\n",
    "\n",
    "Map = geemap.Map()\n",
    "\n",
    "# Upsample MODIS landcover classification (250m) to Landsat\n",
    "# resolution (30m) using a supervised classifier.\n",
    "\n",
    "geometry = ee.Geometry.Polygon(\n",
    "        [[[29.972731783841393, 31.609824974226175],\n",
    "          [29.972731783841393, 30.110383818311096],\n",
    "          [32.56550522134139, 30.110383818311096],\n",
    "          [32.56550522134139, 31.609824974226175]]], None, False)\n",
    "\n",
    "# Use the MCD12 land-cover as training data.\n",
    "collection = ee.ImageCollection('MODIS/006/MCD12Q1')\n",
    "# See the collection docs to get details on classification system.\n",
    "modisLandcover = collection \\\n",
    "    .filterDate('2001-01-01', '2001-12-31') \\\n",
    "    .first() \\\n",
    "    .select('LC_Type1') \\\n",
    "    .subtract(1)\n",
    "\n",
    "# A palette to use for visualizing landcover images.  You can get this\n",
    "# from the properties of the collection.\n",
    "landcoverPalette = ['05450a','086a10','54a708','78d203','009900','c6b044',\\\n",
    "    'dade48','fbff13','b6ff05','27ff87','c24f44','a5a5a5','ff6d4c','69fff8','f9ffa4','1c0dff']\n",
    "# A set of visualization parameters using the landcover palette.\n",
    "landcoverVisualization = {'palette': landcoverPalette, 'min': 0, 'max': 16, 'format': 'png'}\n",
    "# Center over our region of interest.\n",
    "Map.centerObject(geometry, 11)\n",
    "# Draw the MODIS landcover image.\n",
    "Map.addLayer(modisLandcover, landcoverVisualization, 'MODIS landcover')"
   ]
  },
  {
   "cell_type": "code",
   "execution_count": null,
   "id": "7c034a58",
   "metadata": {},
   "outputs": [],
   "source": []
  },
  {
   "cell_type": "code",
   "execution_count": 2,
   "id": "6e2d6e13",
   "metadata": {},
   "outputs": [
    {
     "data": {
      "application/vnd.jupyter.widget-view+json": {
       "model_id": "d3be3fd937db4405bfe90de970d40f75",
       "version_major": 2,
       "version_minor": 0
      },
      "text/plain": [
       "Map(center=[30.860302970745657, 31.26911850259141], controls=(WidgetControl(options=['position', 'transparent_…"
      ]
     },
     "metadata": {},
     "output_type": "display_data"
    }
   ],
   "source": [
    "# Load and filter Landsat data.\n",
    "l7 = ee.ImageCollection('LANDSAT/LE07/C01/T1') \\\n",
    "    .filterBounds(geometry) \\\n",
    "    .filterDate('2000-01-01', '2001-01-01')\n",
    "\n",
    "# Draw the Landsat composite, visualizing True color bands.\n",
    "landsatComposite = ee.Algorithms.Landsat.simpleComposite(**{\n",
    "  'collection': l7,\n",
    "  'asFloat': True\n",
    "})\n",
    "Map.addLayer(landsatComposite, {'min': 0, 'max': 0.3, 'bands': ['B3','B2','B1']}, 'Landsat composite')"
   ]
  },
  {
   "cell_type": "code",
   "execution_count": 3,
   "id": "dc1025a0",
   "metadata": {
    "collapsed": true
   },
   "outputs": [
    {
     "data": {
      "application/vnd.jupyter.widget-view+json": {
       "model_id": "d3be3fd937db4405bfe90de970d40f75",
       "version_major": 2,
       "version_minor": 0
      },
      "text/plain": [
       "Map(center=[30.860302970745657, 31.26911850259141], controls=(WidgetControl(options=['position', 'transparent_…"
      ]
     },
     "metadata": {},
     "output_type": "display_data"
    }
   ],
   "source": [
    "# Make a training dataset by sampling the stacked images.\n",
    "training = modisLandcover.addBands(landsatComposite).sample(**{\n",
    "  'region': geometry,\n",
    "  'scale': 30,\n",
    "  'numPixels': 1000\n",
    "})\n",
    "\n",
    "# Train a classifier using the training data.\n",
    "classifier = ee.Classifier.smileCart().train(**{\n",
    "  'features': training,\n",
    "  'classProperty': 'LC_Type1',\n",
    "})\n",
    "\n",
    "# Apply the classifier to the original composite.\n",
    "upsampled = landsatComposite.classify(classifier)\n",
    "\n",
    "# Draw the upsampled landcover image.\n",
    "Map.addLayer(upsampled, landcoverVisualization, 'Upsampled landcover')\n",
    "\n",
    "# Show the training area.\n",
    "Map.addLayer(geometry, {}, 'Training region', False)"
   ]
  },
  {
   "cell_type": "code",
   "execution_count": null,
   "id": "637f2f37",
   "metadata": {},
   "outputs": [],
   "source": []
  }
 ],
 "metadata": {
  "kernelspec": {
   "display_name": "Python 3 (ipykernel)",
   "language": "python",
   "name": "python3"
  },
  "language_info": {
   "codemirror_mode": {
    "name": "ipython",
    "version": 3
   },
   "file_extension": ".py",
   "mimetype": "text/x-python",
   "name": "python",
   "nbconvert_exporter": "python",
   "pygments_lexer": "ipython3",
   "version": "3.9.7"
  },
  "varInspector": {
   "cols": {
    "lenName": 16,
    "lenType": 16,
    "lenVar": 40
   },
   "kernels_config": {
    "python": {
     "delete_cmd_postfix": "",
     "delete_cmd_prefix": "del ",
     "library": "var_list.py",
     "varRefreshCmd": "print(var_dic_list())"
    },
    "r": {
     "delete_cmd_postfix": ") ",
     "delete_cmd_prefix": "rm(",
     "library": "var_list.r",
     "varRefreshCmd": "cat(var_dic_list()) "
    }
   },
   "types_to_exclude": [
    "module",
    "function",
    "builtin_function_or_method",
    "instance",
    "_Feature"
   ],
   "window_display": false
  }
 },
 "nbformat": 4,
 "nbformat_minor": 5
}
