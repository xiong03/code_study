{
 "cells": [
  {
   "cell_type": "markdown",
   "id": "1f4e6ed8",
   "metadata": {},
   "source": [
    "# Table of Contents\n",
    "  Example 2. Download huge ImageCollection from google earth engine; -> Download Images or ImageCollection\n",
    "  Example 3. Extract NDVI values of climate stations from 1982 to 2021; -> Spatial analysis\n",
    "  Example 4. Supervised Classification -> Images Classification\n",
    "  Example 5. Unsupervised Classification (clustering) "
   ]
  },
  {
   "cell_type": "code",
   "execution_count": 1,
   "id": "a6692d8e",
   "metadata": {},
   "outputs": [
    {
     "data": {
      "application/vnd.jupyter.widget-view+json": {
       "model_id": "1d4ac243e95545848daab038c8f97040",
       "version_major": 2,
       "version_minor": 0
      },
      "text/plain": [
       "Map(center=[39, 110], controls=(WidgetControl(options=['position', 'transparent_bg'], widget=HBox(children=(To…"
      ]
     },
     "metadata": {},
     "output_type": "display_data"
    }
   ],
   "source": [
    "import ee, os\n",
    "import geemap\n",
    "# ee.Initialize()\n",
    "Map = geemap.Map()\n",
    "Map = geemap.Map(center=(39, 110), zoom=4)\n",
    "Map"
   ]
  },
  {
   "cell_type": "raw",
   "id": "cb8ba329",
   "metadata": {},
   "source": [
    "# -------------------------------------------------------\n",
    "# 1  ImageCollection 概述\n",
    "# https://github.com/monarch-beluga/Study-notes/tree/master/python/jupyter/geemap/ImageCollection\n",
    "# -------------------------------------------------------\n",
    "\tGamma Correction\n",
    "https://learnopengl-cn.github.io/05%20Advanced%20Lighting/02%20Gamma%20Correction/\n",
    "# -------------------------------------------------------\n"
   ]
  },
  {
   "cell_type": "code",
   "execution_count": 63,
   "id": "37cae645",
   "metadata": {},
   "outputs": [],
   "source": [
    "# -------------------------------------------------------\n",
    "# 2  ImageCollection 去云\n",
    "#  Calculate NDVI for Jiangxi\n",
    "# -------------------------------------------------------\n",
    "year = 2021, 2021\n",
    "doy = '-01-01', '-12-30'\n",
    "\n",
    "start_date = str(year[0]) + doy[0]\n",
    "end_date = str(year[1]) + doy[1]\n",
    "\n",
    "jx_bound = ee.FeatureCollection('users/yehuigeo/jx_bound')\n",
    "roi = jx_bound.geometry()"
   ]
  },
  {
   "cell_type": "code",
   "execution_count": 3,
   "id": "9427a146",
   "metadata": {
    "cell_style": "center"
   },
   "outputs": [],
   "source": [
    "def cloudMaskL457(image):\n",
    "    qa = image.select('pixel_qa')\n",
    "  # If the cloud bit (5) is set and the cloud confidence (7) is high\n",
    "  # or the cloud shadow bit is set (3), then it's a bad pixel.\n",
    "    cloud = qa.bitwiseAnd(1 << 5) \\\n",
    "                  .And(qa.bitwiseAnd(1 << 7)) \\\n",
    "                  .Or(qa.bitwiseAnd(1 << 3))\n",
    "  # Remove edge pixels that don't occur in all bands\n",
    "    mask2 = image.mask().reduce(ee.Reducer.min())\n",
    "    return image.updateMask(cloud.Not()).updateMask(mask2).divide(10000).copyProperties(image, [\"system:time_start\",'system:id'])\n",
    "\n",
    "def maskS2clouds(image):   # This function was used to mask the clouds for sentinel-2\n",
    "    qa = image.select('QA60')\n",
    "\n",
    "  # Bits 10 and 11 are clouds and cirrus, respectively.\n",
    "    cloudBitMask = 1 << 10\n",
    "    cirrusBitMask = 1 << 11\n",
    "\n",
    "  # Both flags should be set to zero, indicating clear conditions.\n",
    "    mask = qa.bitwiseAnd(cloudBitMask).eq(0).And(\n",
    "             qa.bitwiseAnd(cirrusBitMask).eq(0))\n",
    "\n",
    "  # Return the masked and scaled data, without the QA bands.\n",
    "    return image.updateMask(mask).divide(10000).select(\"B.*\").copyProperties(image, [\"system:time_start\",'system:id'])\n",
    "\n",
    "def maskL8sr(image):\n",
    "  # Bits 3 and 5 are cloud shadow and cloud, respectively.\n",
    "    cloudShadowBitMask = (1 << 3)\n",
    "    cloudsBitMask = (1 << 5)\n",
    "    # Get the pixel QA band.\n",
    "    qa = image.select('pixel_qa')\n",
    "    # Both flags should be set to zero, indicating clear conditions.\n",
    "    mask = qa.bitwiseAnd(cloudShadowBitMask).eq(0) \\\n",
    "                 .And(qa.bitwiseAnd(cloudsBitMask).eq(0)).divide(10000)\n",
    "    return image.updateMask(mask).copyProperties(image, [\"system:time_start\",'system:id'])"
   ]
  },
  {
   "cell_type": "code",
   "execution_count": 65,
   "id": "3fcf535c",
   "metadata": {},
   "outputs": [
    {
     "data": {
      "text/plain": [
       "96"
      ]
     },
     "execution_count": 65,
     "metadata": {},
     "output_type": "execute_result"
    }
   ],
   "source": [
    "collection8 = ee.ImageCollection('LANDSAT/LC08/C01/T1_SR')\\\n",
    "    .filterBounds(jx_bound) \\\n",
    "    .filterDate(start_date, end_date).filter(ee.Filter.lt('CLOUD_COVER',20)) \\\n",
    "    .map(maskL8sr).select(['B2', 'B3', 'B4', 'B5', 'B6', 'B7', 'pixel_qa'],['B1', 'B2', 'B3', 'B4', 'B5', 'B7', 'pixel_qa']) \n",
    "collection8.size().getInfo()"
   ]
  },
  {
   "cell_type": "code",
   "execution_count": 66,
   "id": "cc6eef23",
   "metadata": {
    "scrolled": true
   },
   "outputs": [],
   "source": [
    "# col8 = collection8\n",
    "col8_ids = collection8.aggregate_array('system:id').getInfo()\n",
    "# print(col8_ids)"
   ]
  },
  {
   "cell_type": "code",
   "execution_count": 67,
   "id": "1b3739da",
   "metadata": {},
   "outputs": [],
   "source": [
    "f_dir = r'C:\\Users\\xiong\\Downloads'\n",
    "def dow(i):  # 用地图id做循环\n",
    "    Layer = ee.Image(i).select(['B3', 'B2', 'B1']) # 使用地图，select为确定地图波段，可以去除，则为全波段\n",
    "    # 保存文件名为地图id加文件格式\n",
    "    a = i.split('/')[2:]\n",
    "    b = '_'.join(a)\n",
    "    f_img = f_dir + os.sep + b + '.tif'\n",
    "    # 导出栅格影像，file_per_band为是否按波段分别导出\n",
    "    geemap.ee_export_image(Layer, filename=f_img, scale=500, region=roi,file_per_band=False)\n",
    "#     ee_export(region=roi, image=Layer.clip(roi), outfile=f_img, scale=1000, sep=0.25, num_workers=8)"
   ]
  },
  {
   "cell_type": "code",
   "execution_count": 68,
   "id": "6b63b1f1",
   "metadata": {
    "collapsed": true
   },
   "outputs": [
    {
     "name": "stdout",
     "output_type": "stream",
     "text": [
      "Generating URL ...\n",
      "Generating URL ...\n",
      "Generating URL ...\n",
      "Generating URL ...\n",
      "Generating URL ...\n",
      "Generating URL ...\n",
      "Generating URL ...\n",
      "Generating URL ...\n",
      "Downloading data from https://earthengine.googleapis.com/v1alpha/projects/earthengine-legacy/thumbnails/2dabcefea0c75d153fe278d419ba6941-8ef131c5bddefb7f0fc791a28061d34b:getPixels\n",
      "Please wait ...\n",
      "Downloading data from https://earthengine.googleapis.com/v1alpha/projects/earthengine-legacy/thumbnails/a8b9a4d7a52c82688f28a2badecbd028-b8e4ffd82c33ef09ef821d877c288326:getPixels\n",
      "Please wait ...\n",
      "Downloading data from https://earthengine.googleapis.com/v1alpha/projects/earthengine-legacy/thumbnails/02a290064547c213e44feca009088cf8-15b1c747633455484a086dc4e83e5141:getPixels\n",
      "Please wait ...\n",
      "Downloading data from https://earthengine.googleapis.com/v1alpha/projects/earthengine-legacy/thumbnails/1355bf03e39581acf3e3f882f3bf3de0-38fb7026ec161e74194bdc94229fd33d:getPixels\n",
      "Please wait ...\n",
      "Downloading data from https://earthengine.googleapis.com/v1alpha/projects/earthengine-legacy/thumbnails/177986b9da807d8b68c6593fdbf4bbba-3a0c9af4b650954ab0e3c884b2015b28:getPixels\n",
      "Please wait ...\n",
      "Downloading data from https://earthengine.googleapis.com/v1alpha/projects/earthengine-legacy/thumbnails/31fb6dc4583e952384095ec81d186503-90e19bfe109af30b4493141ff71167cf:getPixels\n",
      "Please wait ...\n",
      "Downloading data from https://earthengine.googleapis.com/v1alpha/projects/earthengine-legacy/thumbnails/a646bfdec42c02da0670a8c711fa788b-60fd8ea88d4d3b647e4d51a62431efed:getPixels\n",
      "Please wait ...\n",
      "Downloading data from https://earthengine.googleapis.com/v1alpha/projects/earthengine-legacy/thumbnails/456b98ff965ff06b28628436d7d9b8c7-021a01eec773533c5396cdb93fd4ad6e:getPixels\n",
      "Please wait ...\n",
      "Data downloaded to C:\\Users\\YeHui\\Downloads\\C01_T1_SR_LC08_120039_20210326.tif\n",
      "Generating URL ...\n",
      "Data downloaded to C:\\Users\\YeHui\\Downloads\\C01_T1_SR_LC08_120039_20211223.tif\n",
      "Generating URL ...\n",
      "Data downloaded to C:\\Users\\YeHui\\Downloads\\C01_T1_SR_LC08_120039_20210918.tif\n",
      "Generating URL ...\n",
      "Data downloaded to C:\\Users\\YeHui\\Downloads\\C01_T1_SR_LC08_120039_20211004.tif\n",
      "Generating URL ...\n",
      "Data downloaded to C:\\Users\\YeHui\\Downloads\\C01_T1_SR_LC08_120039_20211207.tif\n",
      "Generating URL ...\n",
      "Downloading data from https://earthengine.googleapis.com/v1alpha/projects/earthengine-legacy/thumbnails/6fee7b486c2d722937b8634898766c25-953b6c342489a8630f3609350f422513:getPixels\n",
      "Please wait ...\n",
      "Data downloaded to C:\\Users\\YeHui\\Downloads\\C01_T1_SR_LC08_120040_20210326.tif\n",
      "Generating URL ...\n",
      "Data downloaded to C:\\Users\\YeHui\\Downloads\\C01_T1_SR_LC08_120040_20210902.tif\n",
      "Generating URL ...\n",
      "Data downloaded to C:\\Users\\YeHui\\Downloads\\C01_T1_SR_LC08_120040_20210121.tif\n",
      "Generating URL ...\n",
      "Downloading data from https://earthengine.googleapis.com/v1alpha/projects/earthengine-legacy/thumbnails/9efdb90d75d990c261ed583fd8dd0102-6aef7957d410adac007b7ce1b1313915:getPixels\n",
      "Please wait ...\n",
      "Downloading data from https://earthengine.googleapis.com/v1alpha/projects/earthengine-legacy/thumbnails/4a2b461f2c0a191f15765de966ebde7c-5d8ffcfb7d4240fb0218c1f4979197bf:getPixels\n",
      "Please wait ...\n",
      "Downloading data from https://earthengine.googleapis.com/v1alpha/projects/earthengine-legacy/thumbnails/e3a2164c9426e43323f561f29ab095fc-2b0439d996d539958705d56970cf6b8f:getPixels\n",
      "Please wait ...\n",
      "Downloading data from https://earthengine.googleapis.com/v1alpha/projects/earthengine-legacy/thumbnails/e76c246fe57a9672b1bccd519e53a836-48f21edd49c32977bf0104664ec7acd7:getPixels\n",
      "Please wait ...\n",
      "Downloading data from https://earthengine.googleapis.com/v1alpha/projects/earthengine-legacy/thumbnails/69fa22a59e81523229bcf2860050fa1e-891a8365dd5c31cb2cb4507dac2f72b8:getPixels\n",
      "Please wait ...\n",
      "Downloading data from https://earthengine.googleapis.com/v1alpha/projects/earthengine-legacy/thumbnails/be8d9d906036204680836b5deb2c712e-300e444beca4c5c2c4038bb0ca2094e8:getPixels\n",
      "Please wait ...\n",
      "Downloading data from https://earthengine.googleapis.com/v1alpha/projects/earthengine-legacy/thumbnails/5829f5185d07c0b8ad16d6adac9b52d4-5ab6108382d0954679b3c22822853629:getPixels\n",
      "Please wait ...\n",
      "Data downloaded to C:\\Users\\YeHui\\Downloads\\C01_T1_SR_LC08_120040_20210918.tif\n",
      "Generating URL ...\n",
      "Data downloaded to C:\\Users\\YeHui\\Downloads\\C01_T1_SR_LC08_120040_20211004.tif\n",
      "Generating URL ...\n",
      "Downloading data from https://earthengine.googleapis.com/v1alpha/projects/earthengine-legacy/thumbnails/1617a202a5a1eb035c9f56976db96541-f00a7402a8c2135e0c0ebf753be66583:getPixels\n",
      "Please wait ...\n",
      "Data downloaded to C:\\Users\\YeHui\\Downloads\\C01_T1_SR_LC08_120041_20210326.tif\n",
      "Generating URL ...\n",
      "Data downloaded to C:\\Users\\YeHui\\Downloads\\C01_T1_SR_LC08_120040_20211223.tif\n",
      "Generating URL ...\n",
      "Data downloaded to C:\\Users\\YeHui\\Downloads\\C01_T1_SR_LC08_120041_20210902.tif\n",
      "Generating URL ...\n",
      "Data downloaded to C:\\Users\\YeHui\\Downloads\\C01_T1_SR_LC08_120040_20211207.tif\n",
      "Generating URL ...\n",
      "Data downloaded to C:\\Users\\YeHui\\Downloads\\C01_T1_SR_LC08_120041_20211004.tif\n",
      "Generating URL ...\n",
      "Data downloaded to C:\\Users\\YeHui\\Downloads\\C01_T1_SR_LC08_120041_20211207.tif\n",
      "Generating URL ...\n",
      "Downloading data from https://earthengine.googleapis.com/v1alpha/projects/earthengine-legacy/thumbnails/4a0efd34a582d2aa60f318c025977a5c-34c9ffcee114508fc8f6c319f5360136:getPixels\n",
      "Please wait ...\n",
      "Downloading data from https://earthengine.googleapis.com/v1alpha/projects/earthengine-legacy/thumbnails/15981c48cf8ce251740a986dfab49408-5c67dbfafad8d8742eecb8f794ea7850:getPixels\n",
      "Please wait ...\n",
      "Downloading data from https://earthengine.googleapis.com/v1alpha/projects/earthengine-legacy/thumbnails/a429b4ea5f06bdb0eb76babe76f8c5a5-133c3d10f5fcf4091782fe70d77192f5:getPixels\n",
      "Please wait ...\n",
      "Downloading data from https://earthengine.googleapis.com/v1alpha/projects/earthengine-legacy/thumbnails/4af5e887b2d0f908829379faafa89f61-d3c9a234a2b1e05a5722a7ef510c82d7:getPixels\n",
      "Please wait ...\n",
      "Downloading data from https://earthengine.googleapis.com/v1alpha/projects/earthengine-legacy/thumbnails/c6e363e90f07aff776be66ff32d6b1f1-11cad561bb7d4f24e7570209b74b938a:getPixels\n",
      "Please wait ...\n",
      "Downloading data from https://earthengine.googleapis.com/v1alpha/projects/earthengine-legacy/thumbnails/5d2d8884b9b48bbc8dfeec2ca7f9bfc6-7022a78f063d6d3ad7a7a8049f59b3c6:getPixels\n",
      "Please wait ...\n",
      "Data downloaded to C:\\Users\\YeHui\\Downloads\\C01_T1_SR_LC08_120042_20210121.tif\n",
      "Generating URL ...\n",
      "Downloading data from https://earthengine.googleapis.com/v1alpha/projects/earthengine-legacy/thumbnails/2d49374fb733c5212036d9a015a504a5-81761dee1a032e4756a90feef214dfad:getPixels\n",
      "Please wait ...\n",
      "Downloading data from https://earthengine.googleapis.com/v1alpha/projects/earthengine-legacy/thumbnails/1f4a765461d939ee8c65fa3f04d6080b-7f9813cff6202065ff95fab3eaacc300:getPixels\n",
      "Please wait ...\n",
      "Data downloaded to C:\\Users\\YeHui\\Downloads\\C01_T1_SR_LC08_120042_20211207.tif\n",
      "Generating URL ...\n",
      "Data downloaded to C:\\Users\\YeHui\\Downloads\\C01_T1_SR_LC08_121039_20210112.tif\n",
      "Generating URL ...\n",
      "Data downloaded to C:\\Users\\YeHui\\Downloads\\C01_T1_SR_LC08_121039_20210128.tif\n",
      "Generating URL ...\n",
      "Data downloaded to C:\\Users\\YeHui\\Downloads\\C01_T1_SR_LC08_120042_20210326.tif\n",
      "Generating URL ...\n",
      "Data downloaded to C:\\Users\\YeHui\\Downloads\\C01_T1_SR_LC08_121039_20211112.tif\n",
      "Generating URL ...\n",
      "Data downloaded to C:\\Users\\YeHui\\Downloads\\C01_T1_SR_LC08_121039_20210808.tif\n",
      "Generating URL ...\n",
      "Downloading data from https://earthengine.googleapis.com/v1alpha/projects/earthengine-legacy/thumbnails/6d6413e96588af3603d5018c40febedb-dbd9c38f4ec78cd48a60d5dee68abf44:getPixels\n",
      "Please wait ...\n",
      "Data downloaded to C:\\Users\\YeHui\\Downloads\\C01_T1_SR_LC08_121039_20210605.tif\n",
      "Generating URL ...\n",
      "Downloading data from https://earthengine.googleapis.com/v1alpha/projects/earthengine-legacy/thumbnails/e05e25fbf6852937567665e086825172-4caab7bb553de13ee4fbbf6929079a26:getPixels\n",
      "Please wait ...\n",
      "Downloading data from https://earthengine.googleapis.com/v1alpha/projects/earthengine-legacy/thumbnails/774155fe429054ce44b6fd05dd8eca72-2795d4a40ff275e49272f9ef5a75321b:getPixels\n",
      "Please wait ...\n",
      "Downloading data from https://earthengine.googleapis.com/v1alpha/projects/earthengine-legacy/thumbnails/0f926239d02c8e6b7ae5b473e0902ca8-9e8fa53a5deefc351972f052f113433a:getPixels\n",
      "Please wait ...\n",
      "Downloading data from https://earthengine.googleapis.com/v1alpha/projects/earthengine-legacy/thumbnails/6c637ef1d2e12c4d8fb2bb871876b336-69115c22b19e828b9c4a6300a4f4dda1:getPixels\n",
      "Please wait ...\n",
      "Downloading data from https://earthengine.googleapis.com/v1alpha/projects/earthengine-legacy/thumbnails/c3cba7f11724ef86c6359fdba14ed7ec-5cb9e4c8fc8ee7a1db2cb4ad7dbf9e52:getPixels\n",
      "Please wait ...\n"
     ]
    },
    {
     "name": "stdout",
     "output_type": "stream",
     "text": [
      "Downloading data from https://earthengine.googleapis.com/v1alpha/projects/earthengine-legacy/thumbnails/6978ba9fe6427bc743f5494e01fe2e78-bc6472d73f764a58993193d7c684d7ec:getPixels\n",
      "Please wait ...\n",
      "Data downloaded to C:\\Users\\YeHui\\Downloads\\C01_T1_SR_LC08_121039_20211128.tif\n",
      "Generating URL ...\n",
      "Downloading data from https://earthengine.googleapis.com/v1alpha/projects/earthengine-legacy/thumbnails/b0a019b2f795a8f5b1ec3d30ca1e6cb3-d76767608edbcf7e346bb7df4c0ecb03:getPixels\n",
      "Please wait ...\n",
      "Data downloaded to C:\\Users\\YeHui\\Downloads\\C01_T1_SR_LC08_121040_20210112.tif\n",
      "Generating URL ...\n",
      "Data downloaded to C:\\Users\\YeHui\\Downloads\\C01_T1_SR_LC08_121040_20210808.tif\n",
      "Generating URL ...\n",
      "Data downloaded to C:\\Users\\YeHui\\Downloads\\C01_T1_SR_LC08_121040_20210605.tif\n",
      "Generating URL ...\n",
      "Data downloaded to C:\\Users\\YeHui\\Downloads\\C01_T1_SR_LC08_121041_20210112.tif\n",
      "Generating URL ...\n",
      "Downloading data from https://earthengine.googleapis.com/v1alpha/projects/earthengine-legacy/thumbnails/6ec8d37e0e615a4402b54c0ab98ae258-ac33f176e9d128434eb02c6df4e9d989:getPixels\n",
      "Please wait ...\n",
      "Data downloaded to C:\\Users\\YeHui\\Downloads\\C01_T1_SR_LC08_121040_20211112.tif\n",
      "Generating URL ...\n",
      "Data downloaded to C:\\Users\\YeHui\\Downloads\\C01_T1_SR_LC08_121041_20210925.tif\n",
      "Generating URL ...\n",
      "Data downloaded to C:\\Users\\YeHui\\Downloads\\C01_T1_SR_LC08_121040_20210925.tif\n",
      "Generating URL ...\n",
      "Data downloaded to C:\\Users\\YeHui\\Downloads\\C01_T1_SR_LC08_121041_20211112.tif\n",
      "Generating URL ...\n",
      "Downloading data from https://earthengine.googleapis.com/v1alpha/projects/earthengine-legacy/thumbnails/26ab6e77a2b953caea20d3521bae1c74-1a97bfd94932442aca01f5a572688dab:getPixels\n",
      "Please wait ...\n",
      "Downloading data from https://earthengine.googleapis.com/v1alpha/projects/earthengine-legacy/thumbnails/daef2368c52baecdd2e40f6f6a2eb55e-34e2a83c3cee12ef9e1738d062fe7c6b:getPixels\n",
      "Please wait ...\n",
      "Downloading data from https://earthengine.googleapis.com/v1alpha/projects/earthengine-legacy/thumbnails/dd5e6f3d44b70d965cd192c7ae584596-9f45eea7221995c8c3dfa5837cffc792:getPixels\n",
      "Please wait ...\n",
      "Downloading data from https://earthengine.googleapis.com/v1alpha/projects/earthengine-legacy/thumbnails/df0c0b289c855978565f0d111418c8e1-2c8556cc6ce7957a57619ebbeb670593:getPixels\n",
      "Please wait ...\n",
      "Downloading data from https://earthengine.googleapis.com/v1alpha/projects/earthengine-legacy/thumbnails/12ba9029e30b0decc6c49d5850ce5338-f1fe12c45105454ff51b45c59aef6c62:getPixels\n",
      "Please wait ...\n",
      "Downloading data from https://earthengine.googleapis.com/v1alpha/projects/earthengine-legacy/thumbnails/fd6c23a272d69e54ff1514a9a947c5b9-e7c723ce69242ac6951a06a1baf84d0f:getPixels\n",
      "Please wait ...\n",
      "Downloading data from https://earthengine.googleapis.com/v1alpha/projects/earthengine-legacy/thumbnails/adce2dfcd012527e060a6c8cbefafb7e-880ead97c4451fd15af9b9d5396137e4:getPixels\n",
      "Please wait ...\n",
      "Data downloaded to C:\\Users\\YeHui\\Downloads\\C01_T1_SR_LC08_121041_20211128.tif\n",
      "Generating URL ...\n",
      "Data downloaded to C:\\Users\\YeHui\\Downloads\\C01_T1_SR_LC08_121043_20210112.tif\n",
      "Generating URL ...\n",
      "Data downloaded to C:\\Users\\YeHui\\Downloads\\C01_T1_SR_LC08_121043_20210317.tif\n",
      "Generating URL ...\n",
      "Downloading data from https://earthengine.googleapis.com/v1alpha/projects/earthengine-legacy/thumbnails/1101360d17b1a7443fa5b09ab629f6ad-915c0c7291272dd96c1cd2542a5d0d3c:getPixels\n",
      "Please wait ...\n",
      "Data downloaded to C:\\Users\\YeHui\\Downloads\\C01_T1_SR_LC08_121042_20211128.tif\n",
      "Generating URL ...\n",
      "Data downloaded to C:\\Users\\YeHui\\Downloads\\C01_T1_SR_LC08_121042_20210112.tif\n",
      "Generating URL ...\n",
      "Data downloaded to C:\\Users\\YeHui\\Downloads\\C01_T1_SR_LC08_121043_20211112.tif\n",
      "Generating URL ...\n",
      "Data downloaded to C:\\Users\\YeHui\\Downloads\\C01_T1_SR_LC08_121042_20210317.tif\n",
      "Generating URL ...\n",
      "Downloading data from https://earthengine.googleapis.com/v1alpha/projects/earthengine-legacy/thumbnails/7f50b30c196f8d62990a8ea24bf94bde-871640d2b96c82fe4749ef2aac99b7b1:getPixels\n",
      "Please wait ...\n",
      "Downloading data from https://earthengine.googleapis.com/v1alpha/projects/earthengine-legacy/thumbnails/2faca6d4988503f5133b0940c1f9f629-bb4ecc87dcf991ee64314ba630943b20:getPixels\n",
      "Please wait ...\n",
      "Downloading data from https://earthengine.googleapis.com/v1alpha/projects/earthengine-legacy/thumbnails/6040a7fef0eabd151bd83b2d03832456-3dedb919e32305569bcc01e6005459c4:getPixels\n",
      "Please wait ...\n",
      "Data downloaded to C:\\Users\\YeHui\\Downloads\\C01_T1_SR_LC08_121043_20211128.tif\n",
      "Generating URL ...\n",
      "Downloading data from https://earthengine.googleapis.com/v1alpha/projects/earthengine-legacy/thumbnails/ac7c2837df1464971a7caf22c08c5ed8-284b0f61b03c111542cccb4817d40c11:getPixels\n",
      "Please wait ...\n",
      "Downloading data from https://earthengine.googleapis.com/v1alpha/projects/earthengine-legacy/thumbnails/68961a37660c17e74296aac6a9ad44f4-b321f6b0a92a5b42d5a6bee3bb61f6f9:getPixels\n",
      "Please wait ...\n",
      "Downloading data from https://earthengine.googleapis.com/v1alpha/projects/earthengine-legacy/thumbnails/6ebd18fda4348be9fa1f95f7d7107c66-b615970135d655bcf6871d3ad2c77127:getPixels\n",
      "Please wait ...\n",
      "Data downloaded to C:\\Users\\YeHui\\Downloads\\C01_T1_SR_LC08_121043_20211214.tif\n",
      "Generating URL ...\n",
      "Downloading data from https://earthengine.googleapis.com/v1alpha/projects/earthengine-legacy/thumbnails/fe29282395779652009248615fdaa84d-de1afacb46815a66495a959cfd83093e:getPixels\n",
      "Please wait ...\n",
      "Data downloaded to C:\\Users\\YeHui\\Downloads\\C01_T1_SR_LC08_122039_20210324.tif\n",
      "Generating URL ...\n",
      "Data downloaded to C:\\Users\\YeHui\\Downloads\\C01_T1_SR_LC08_122039_20210119.tif\n",
      "Generating URL ...\n",
      "Downloading data from https://earthengine.googleapis.com/v1alpha/projects/earthengine-legacy/thumbnails/0b0488074b651062c6faf244eb619d9b-9b1360e2334fcbfb7ad35b08ce1232c6:getPixels\n",
      "Please wait ...\n",
      "Data downloaded to C:\\Users\\YeHui\\Downloads\\C01_T1_SR_LC08_122039_20210220.tif\n",
      "Generating URL ...\n",
      "Data downloaded to C:\\Users\\YeHui\\Downloads\\C01_T1_SR_LC08_122039_20210409.tif\n",
      "Generating URL ...\n",
      "Downloading data from https://earthengine.googleapis.com/v1alpha/projects/earthengine-legacy/thumbnails/32b1b90f8d63fec279e9b30377cd8e2e-c810f8a0bdfac88bc5af970f8b5fe922:getPixels\n",
      "Please wait ...\n",
      "Downloading data from https://earthengine.googleapis.com/v1alpha/projects/earthengine-legacy/thumbnails/2f77f6a32f47e77e3ae2da32729e5b1f-14b05a9e028c720b5ea6e578f2f2793f:getPixels\n",
      "Please wait ...\n",
      "Data downloaded to C:\\Users\\YeHui\\Downloads\\C01_T1_SR_LC08_122039_20210730.tif\n",
      "Generating URL ...\n",
      "Data downloaded to C:\\Users\\YeHui\\Downloads\\C01_T1_SR_LC08_122039_20210714.tif\n",
      "Generating URL ...\n",
      "Downloading data from https://earthengine.googleapis.com/v1alpha/projects/earthengine-legacy/thumbnails/d3a5bfffc386924ba4d4436b82bd1856-e0f568a4cf7923ed1d26e50331277d3a:getPixels\n",
      "Please wait ...\n",
      "Data downloaded to C:\\Users\\YeHui\\Downloads\\C01_T1_SR_LC08_122039_20210831.tif\n",
      "Generating URL ...\n",
      "Downloading data from https://earthengine.googleapis.com/v1alpha/projects/earthengine-legacy/thumbnails/fc3dfab01a478b51ef8db1b9a8322ad2-3510b3d476914c061df4ba4f9aa2683d:getPixels\n",
      "Please wait ...\n",
      "Downloading data from https://earthengine.googleapis.com/v1alpha/projects/earthengine-legacy/thumbnails/ffed6ed8e87d0f758ea9dca655c3827c-9b54a0721ee211875db9fd835687b891:getPixels\n",
      "Please wait ...\n",
      "Data downloaded to C:\\Users\\YeHui\\Downloads\\C01_T1_SR_LC08_122039_20210916.tif\n",
      "Generating URL ...\n",
      "Downloading data from https://earthengine.googleapis.com/v1alpha/projects/earthengine-legacy/thumbnails/3c7406f3e9512f054cb28478aa506802-66619f0d208f9ad72a250cb86e66e89e:getPixels\n",
      "Please wait ...\n",
      "Downloading data from https://earthengine.googleapis.com/v1alpha/projects/earthengine-legacy/thumbnails/3942105398d5b185dc4a39d46007ac56-c6096c485c3264189eb4851aa2b2bde0:getPixels\n",
      "Please wait ...\n",
      "Data downloaded to C:\\Users\\YeHui\\Downloads\\C01_T1_SR_LC08_122039_20211002.tif\n",
      "Generating URL ...\n",
      "Data downloaded to C:\\Users\\YeHui\\Downloads\\C01_T1_SR_LC08_122039_20211205.tif\n",
      "Generating URL ...\n",
      "Downloading data from https://earthengine.googleapis.com/v1alpha/projects/earthengine-legacy/thumbnails/97936a6da33ecf56987b1a92784b5db9-f6652986d3d6fd21cc9a179617e51d01:getPixels\n",
      "Please wait ...\n",
      "Data downloaded to C:\\Users\\YeHui\\Downloads\\C01_T1_SR_LC08_122039_20211221.tif\n",
      "Generating URL ...\n",
      "Downloading data from https://earthengine.googleapis.com/v1alpha/projects/earthengine-legacy/thumbnails/eeca9145be441a5bad292300df7ddcdd-840cd88b6b4667b1b465dad0e162c2b9:getPixels\n",
      "Please wait ...\n"
     ]
    },
    {
     "name": "stdout",
     "output_type": "stream",
     "text": [
      "Downloading data from https://earthengine.googleapis.com/v1alpha/projects/earthengine-legacy/thumbnails/7132e8f73ac9a3074ecc01d4c2809dc2-dddecb2183097240a32aacbf841d3fe7:getPixels\n",
      "Please wait ...\n",
      "Downloading data from https://earthengine.googleapis.com/v1alpha/projects/earthengine-legacy/thumbnails/308c42e964441ec445dca39d32d66b3e-f3c0320aa02ee165efb518c0e86ffcf5:getPixels\n",
      "Please wait ...\n",
      "Data downloaded to C:\\Users\\YeHui\\Downloads\\C01_T1_SR_LC08_122039_20211103.tif\n",
      "Generating URL ...\n",
      "Data downloaded to C:\\Users\\YeHui\\Downloads\\C01_T1_SR_LC08_122040_20210119.tif\n",
      "Generating URL ...\n",
      "Data downloaded to C:\\Users\\YeHui\\Downloads\\C01_T1_SR_LC08_122040_20210220.tif\n",
      "Generating URL ...\n",
      "Data downloaded to C:\\Users\\YeHui\\Downloads\\C01_T1_SR_LC08_122040_20210324.tif\n",
      "Generating URL ...\n",
      "Downloading data from https://earthengine.googleapis.com/v1alpha/projects/earthengine-legacy/thumbnails/8c08b58a08b3ce52a76b4d62f0c90690-1b8de6e7ffc70f2861e8e62b7e17159e:getPixels\n",
      "Please wait ...\n",
      "Data downloaded to C:\\Users\\YeHui\\Downloads\\C01_T1_SR_LC08_122040_20210714.tif\n",
      "Generating URL ...\n",
      "Downloading data from https://earthengine.googleapis.com/v1alpha/projects/earthengine-legacy/thumbnails/d437c375f92e614c0551c6cc5aef05d1-57008f4c285df00dcd61c626bb8ee638:getPixels\n",
      "Please wait ...\n",
      "Data downloaded to C:\\Users\\YeHui\\Downloads\\C01_T1_SR_LC08_122040_20210831.tif\n",
      "Generating URL ...\n",
      "Downloading data from https://earthengine.googleapis.com/v1alpha/projects/earthengine-legacy/thumbnails/f867ca96dcebbe1d180abde128dd2515-bb43ae0396fd7a8ed351c2dcbaf96c7b:getPixels\n",
      "Please wait ...\n",
      "Downloading data from https://earthengine.googleapis.com/v1alpha/projects/earthengine-legacy/thumbnails/640f009dad572d40908cf6f3f1dbe8eb-e69237dadd0d9151af3f9c6a3786a432:getPixels\n",
      "Please wait ...\n",
      "Downloading data from https://earthengine.googleapis.com/v1alpha/projects/earthengine-legacy/thumbnails/b3243e47f0694b4790084746a601df78-5d142d408d1efae10566bf743c269d14:getPixels\n",
      "Please wait ...\n",
      "Data downloaded to C:\\Users\\YeHui\\Downloads\\C01_T1_SR_LC08_122040_20210916.tif\n",
      "Generating URL ...\n",
      "Downloading data from https://earthengine.googleapis.com/v1alpha/projects/earthengine-legacy/thumbnails/31bf6b77aa17a7cb7c0c7fda20f8ac72-da5e2076533558cd7133ac8498173dca:getPixels\n",
      "Please wait ...\n",
      "Downloading data from https://earthengine.googleapis.com/v1alpha/projects/earthengine-legacy/thumbnails/f56fec6eaab76a62aab43ab9ea42900b-35b74daf9f4dd443c7cc1702375c1027:getPixels\n",
      "Please wait ...\n",
      "Data downloaded to C:\\Users\\YeHui\\Downloads\\C01_T1_SR_LC08_122040_20211002.tif\n",
      "Generating URL ...\n",
      "Data downloaded to C:\\Users\\YeHui\\Downloads\\C01_T1_SR_LC08_122040_20211205.tif\n",
      "Generating URL ...\n",
      "Downloading data from https://earthengine.googleapis.com/v1alpha/projects/earthengine-legacy/thumbnails/0a2e063efce9de973f26e010ac6d0a63-616b64a536cbc07cf00f9e5d2cfbeb1a:getPixels\n",
      "Please wait ...\n",
      "Downloading data from https://earthengine.googleapis.com/v1alpha/projects/earthengine-legacy/thumbnails/9541fcad10a61481c7cdd490a0c8f6a1-5e6c27ae547ac46ad965603255ccd2ee:getPixels\n",
      "Please wait ...\n",
      "Data downloaded to C:\\Users\\YeHui\\Downloads\\C01_T1_SR_LC08_122041_20210119.tif\n",
      "Generating URL ...\n",
      "Data downloaded to C:\\Users\\YeHui\\Downloads\\C01_T1_SR_LC08_122041_20210220.tif\n",
      "Generating URL ...\n",
      "Data downloaded to C:\\Users\\YeHui\\Downloads\\C01_T1_SR_LC08_122041_20210324.tif\n",
      "Generating URL ...\n",
      "Data downloaded to C:\\Users\\YeHui\\Downloads\\C01_T1_SR_LC08_122040_20211221.tif\n",
      "Generating URL ...\n",
      "Downloading data from https://earthengine.googleapis.com/v1alpha/projects/earthengine-legacy/thumbnails/1e27be4ac2af86128fd407b96906f1d8-418b41c70135733578bfbf2a9048cc8d:getPixels\n",
      "Please wait ...\n",
      "Data downloaded to C:\\Users\\YeHui\\Downloads\\C01_T1_SR_LC08_122041_20210714.tif\n",
      "Generating URL ...\n",
      "Data downloaded to C:\\Users\\YeHui\\Downloads\\C01_T1_SR_LC08_122041_20210730.tif\n",
      "Generating URL ...\n",
      "Downloading data from https://earthengine.googleapis.com/v1alpha/projects/earthengine-legacy/thumbnails/ae2fa8f332a2eeba42adc82388511c3d-7485598cc3ab52ca6d8b28022117ce3f:getPixels\n",
      "Please wait ...\n",
      "Downloading data from https://earthengine.googleapis.com/v1alpha/projects/earthengine-legacy/thumbnails/1e27e537c3fbb59bd7b9529d330f7f58-78466defea913155cb71e3b35dec1dc2:getPixels\n",
      "Please wait ...\n",
      "Downloading data from https://earthengine.googleapis.com/v1alpha/projects/earthengine-legacy/thumbnails/55494d248c69e1ad8677d3c2602e5804-3066c37f47cc7ff2d220a0317f9725fd:getPixels\n",
      "Please wait ...\n",
      "Downloading data from https://earthengine.googleapis.com/v1alpha/projects/earthengine-legacy/thumbnails/0627ed181a8ac7e7d82f859c1ac5a791-51917986e567d3dd4d408d5d71a955e6:getPixels\n",
      "Please wait ...\n",
      "Data downloaded to C:\\Users\\YeHui\\Downloads\\C01_T1_SR_LC08_122041_20210831.tif\n",
      "Generating URL ...\n",
      "Data downloaded to C:\\Users\\YeHui\\Downloads\\C01_T1_SR_LC08_122041_20210916.tif\n",
      "Generating URL ...\n",
      "Downloading data from https://earthengine.googleapis.com/v1alpha/projects/earthengine-legacy/thumbnails/3af2708a42e356a9d05ed8c7e8124ae0-67fbc924583af406173d293a5480f6de:getPixels\n",
      "Please wait ...\n",
      "Downloading data from https://earthengine.googleapis.com/v1alpha/projects/earthengine-legacy/thumbnails/602d8fc2a9336a056029ef4e139b3db4-7e30246836b2fea57aebd6c55492d46f:getPixels\n",
      "Please wait ...\n",
      "Downloading data from https://earthengine.googleapis.com/v1alpha/projects/earthengine-legacy/thumbnails/cb983d71defe5d5917ae611a706a0765-911b243e2cc7256037ea59da017a5cf7:getPixels\n",
      "Please wait ...\n",
      "Data downloaded to C:\\Users\\YeHui\\Downloads\\C01_T1_SR_LC08_122041_20211002.tif\n",
      "Generating URL ...\n",
      "Data downloaded to C:\\Users\\YeHui\\Downloads\\C01_T1_SR_LC08_122042_20210324.tif\n",
      "Generating URL ...\n",
      "Data downloaded to C:\\Users\\YeHui\\Downloads\\C01_T1_SR_LC08_122041_20211205.tif\n",
      "Generating URL ...\n",
      "Downloading data from https://earthengine.googleapis.com/v1alpha/projects/earthengine-legacy/thumbnails/b2a2e19c973d1cbc978b40732e7e13e2-6cff5df4de80b9b49e370aa3851cdc39:getPixels\n",
      "Please wait ...\n",
      "Data downloaded to C:\\Users\\YeHui\\Downloads\\C01_T1_SR_LC08_122042_20210119.tif\n",
      "Generating URL ...\n",
      "Data downloaded to C:\\Users\\YeHui\\Downloads\\C01_T1_SR_LC08_122042_20210916.tif\n",
      "Generating URL ...\n",
      "Downloading data from https://earthengine.googleapis.com/v1alpha/projects/earthengine-legacy/thumbnails/013a076ca8b34da81e8a310f772fc58f-5499d8e5bc795f2cf16bea06389264cc:getPixels\n",
      "Please wait ...\n",
      "Downloading data from https://earthengine.googleapis.com/v1alpha/projects/earthengine-legacy/thumbnails/b7439211543ccbfbbe67559656402e44-859b93803145f241ed69320f60e4c484:getPixels\n",
      "Please wait ...\n",
      "Data downloaded to C:\\Users\\YeHui\\Downloads\\C01_T1_SR_LC08_122042_20210220.tif\n",
      "Generating URL ...\n",
      "Data downloaded to C:\\Users\\YeHui\\Downloads\\C01_T1_SR_LC08_122042_20211002.tif\n",
      "Generating URL ...\n",
      "Downloading data from https://earthengine.googleapis.com/v1alpha/projects/earthengine-legacy/thumbnails/ea0c85795458bbc2e15754f6bfa0219d-aef2f55253e7a59de0833d179a4b8097:getPixels\n",
      "Please wait ...\n",
      "Downloading data from https://earthengine.googleapis.com/v1alpha/projects/earthengine-legacy/thumbnails/b6e2c84780e526fbacb4c5122ce6fb81-4cf3d33ceb02447d28fac3246c021302:getPixels\n",
      "Please wait ...\n",
      "Data downloaded to C:\\Users\\YeHui\\Downloads\\C01_T1_SR_LC08_122042_20211205.tif\n",
      "Generating URL ...\n",
      "Downloading data from https://earthengine.googleapis.com/v1alpha/projects/earthengine-legacy/thumbnails/582a80d9d87bdd67002be11f5243990f-0bcb290cd171affcf8cf6bd37ae7913f:getPixels\n",
      "Please wait ...\n",
      "Data downloaded to C:\\Users\\YeHui\\Downloads\\C01_T1_SR_LC08_122043_20210103.tif\n",
      "Generating URL ...\n",
      "Downloading data from https://earthengine.googleapis.com/v1alpha/projects/earthengine-legacy/thumbnails/2487e61dbf5a8f106f7f60f1d814cc67-01479736248f9204aaf41ff5d69b03a4:getPixels\n",
      "Please wait ...\n",
      "Downloading data from https://earthengine.googleapis.com/v1alpha/projects/earthengine-legacy/thumbnails/0b3d1e73b4e876ecde96b2f08bea4a10-6f2664fc320edb64bca4c8ec72dffc3a:getPixels\n",
      "Please wait ...\n",
      "Data downloaded to C:\\Users\\YeHui\\Downloads\\C01_T1_SR_LC08_122043_20210204.tif\n",
      "Generating URL ...\n",
      "Data downloaded to C:\\Users\\YeHui\\Downloads\\C01_T1_SR_LC08_122043_20210119.tif\n",
      "Generating URL ...\n",
      "Downloading data from https://earthengine.googleapis.com/v1alpha/projects/earthengine-legacy/thumbnails/22149274875bef0d96b94629265fd2f2-ae38b9214d5d6edcbe3a2f4b996d9745:getPixels\n",
      "Please wait ...\n"
     ]
    },
    {
     "name": "stdout",
     "output_type": "stream",
     "text": [
      "Data downloaded to C:\\Users\\YeHui\\Downloads\\C01_T1_SR_LC08_122043_20210220.tif\n",
      "Generating URL ...\n",
      "Downloading data from https://earthengine.googleapis.com/v1alpha/projects/earthengine-legacy/thumbnails/53b7362116dd91a6367dd1f26c2b765b-f359ba25f9b81e6aaffe5c34561ca380:getPixels\n",
      "Please wait ...\n",
      "Data downloaded to C:\\Users\\YeHui\\Downloads\\C01_T1_SR_LC08_122043_20211205.tif\n",
      "Generating URL ...\n",
      "Downloading data from https://earthengine.googleapis.com/v1alpha/projects/earthengine-legacy/thumbnails/2b79910bf90f1d6837c492e7b1f8418f-c8886ce53ff2cfbbc392ce4652916b89:getPixels\n",
      "Please wait ...\n",
      "Data downloaded to C:\\Users\\YeHui\\Downloads\\C01_T1_SR_LC08_122043_20211002.tif\n",
      "Generating URL ...\n",
      "Downloading data from https://earthengine.googleapis.com/v1alpha/projects/earthengine-legacy/thumbnails/45409e18b11434c8540bb1ad093c3c60-22332e00b2846c2d3b28206ed1261734:getPixels\n",
      "Please wait ...\n",
      "Data downloaded to C:\\Users\\YeHui\\Downloads\\C01_T1_SR_LC08_123039_20210923.tif\n",
      "Generating URL ...\n",
      "Downloading data from https://earthengine.googleapis.com/v1alpha/projects/earthengine-legacy/thumbnails/beac05d801ae420f545ffa6e2cbb40f1-c390f864439cdd20af90932f22c512a9:getPixels\n",
      "Please wait ...\n",
      "Downloading data from https://earthengine.googleapis.com/v1alpha/projects/earthengine-legacy/thumbnails/929488b25e3514f8f50240c857c7971e-7d67e17e6b7b960606b651ab2c09b941:getPixels\n",
      "Please wait ...\n",
      "Data downloaded to C:\\Users\\YeHui\\Downloads\\C01_T1_SR_LC08_123039_20211110.tif\n",
      "Generating URL ...\n",
      "Data downloaded to C:\\Users\\YeHui\\Downloads\\C01_T1_SR_LC08_123040_20210923.tif\n",
      "Generating URL ...\n",
      "Downloading data from https://earthengine.googleapis.com/v1alpha/projects/earthengine-legacy/thumbnails/e7820f59e1e69668749a5b92a14f93d2-b3ca56826d143345dafdfb96ccdca3f1:getPixels\n",
      "Please wait ...\n",
      "Data downloaded to C:\\Users\\YeHui\\Downloads\\C01_T1_SR_LC08_123040_20211025.tif\n",
      "Generating URL ...\n",
      "Downloading data from https://earthengine.googleapis.com/v1alpha/projects/earthengine-legacy/thumbnails/c4682f07cbc374b67175aed14ee76611-4a42f4c0e6e1b0b3fb4ae08438465605:getPixels\n",
      "Please wait ...\n",
      "Data downloaded to C:\\Users\\YeHui\\Downloads\\C01_T1_SR_LC08_123040_20211126.tif\n",
      "Downloading data from https://earthengine.googleapis.com/v1alpha/projects/earthengine-legacy/thumbnails/78d39f6e0810883c5a8d6a8c3f7174d2-2ad47346e6dd161cde08c640f64a9d4f:getPixels\n",
      "Please wait ...\n",
      "Downloading data from https://earthengine.googleapis.com/v1alpha/projects/earthengine-legacy/thumbnails/3a6563d282aa92830c3b099fd8d66db2-55c4be3c860f2ee2b64405a3feda54ac:getPixels\n",
      "Please wait ...\n",
      "Data downloaded to C:\\Users\\YeHui\\Downloads\\C01_T1_SR_LC08_123041_20210822.tif\n",
      "Data downloaded to C:\\Users\\YeHui\\Downloads\\C01_T1_SR_LC08_123041_20210923.tif\n",
      "Data downloaded to C:\\Users\\YeHui\\Downloads\\C01_T1_SR_LC08_123040_20211110.tif\n",
      "Data downloaded to C:\\Users\\YeHui\\Downloads\\C01_T1_SR_LC08_123041_20211025.tif\n",
      "Data downloaded to C:\\Users\\YeHui\\Downloads\\C01_T1_SR_LC08_123041_20211110.tif\n",
      "Data downloaded to C:\\Users\\YeHui\\Downloads\\C01_T1_SR_LC08_123042_20210923.tif\n",
      "Data downloaded to C:\\Users\\YeHui\\Downloads\\C01_T1_SR_LC08_123041_20211126.tif\n"
     ]
    }
   ],
   "source": [
    "from concurrent.futures.thread import ThreadPoolExecutor\n",
    "\n",
    "with ThreadPoolExecutor(max_workers=8) as executor:\n",
    "    executor.map(dow, col8_ids)"
   ]
  },
  {
   "cell_type": "code",
   "execution_count": 11,
   "id": "ad657ef0",
   "metadata": {},
   "outputs": [],
   "source": [
    "sl2 = sentinel2.select(['mNDWI']).toBands()\n",
    "# merged = sl2.iterate(merge_bd, sl2.first())"
   ]
  },
  {
   "cell_type": "code",
   "execution_count": null,
   "id": "d3eb5b60",
   "metadata": {},
   "outputs": [],
   "source": [
    "from GEE import ee_export\n",
    "f_img = r\"C:\\Users\\xiong\\Downloads\\sl2_mNDWI\"\n",
    "roi = jx_bound.geometry()\n",
    "ee_export(region=roi, image=sl2, outfile=f_img, scale=10, sep=0.25, num_workers=8)"
   ]
  },
  {
   "cell_type": "code",
   "execution_count": 18,
   "id": "e32e2127",
   "metadata": {},
   "outputs": [
    {
     "name": "stdout",
     "output_type": "stream",
     "text": [
      "None\n"
     ]
    }
   ],
   "source": [
    "image = sentinel2.select('mNDWI').median()\n",
    "Msize = image.get('system:asset_size').getInfo()\n",
    "print(Msize)"
   ]
  },
  {
   "cell_type": "code",
   "execution_count": 36,
   "id": "adf5a485",
   "metadata": {},
   "outputs": [
    {
     "name": "stdout",
     "output_type": "stream",
     "text": [
      "['COPERNICUS/S2_SR/20210605T024549_20210605T025350_T49RHJ', 'COPERNICUS/S2_SR/20210605T024549_20210605T025350_T50RKP', 'COPERNICUS/S2_SR/20210605T024549_20210605T025350_T50RLR', 'COPERNICUS/S2_SR/20210605T024549_20210605T025350_T50RLS', 'COPERNICUS/S2_SR/20210605T024549_20210605T025350_T50RLT', 'COPERNICUS/S2_SR/20210605T024549_20210605T025350_T50RMR', 'COPERNICUS/S2_SR/20210605T024549_20210605T025350_T50RMS', 'COPERNICUS/S2_SR/20210605T024549_20210605T025350_T50RMT', 'COPERNICUS/S2_SR/20210605T024549_20210605T025350_T50RMU', 'COPERNICUS/S2_SR/20210605T024549_20210605T025350_T50RNS', 'COPERNICUS/S2_SR/20210605T024549_20210605T025350_T50RNT', 'COPERNICUS/S2_SR/20210605T024549_20210605T025350_T50RNU', 'COPERNICUS/S2_SR/20210605T024549_20210605T025350_T50RPS', 'COPERNICUS/S2_SR/20210605T024549_20210605T025350_T50RPT', 'COPERNICUS/S2_SR/20210608T025549_20210608T030747_T50RLU', 'COPERNICUS/S2_SR/20210608T025549_20210608T031000_T49RGL', 'COPERNICUS/S2_SR/20210608T025549_20210608T031000_T50RKQ', 'COPERNICUS/S2_SR/20210613T025551_20210613T030736_T49RGN', 'COPERNICUS/S2_SR/20210613T025551_20210613T030949_T49RGL', 'COPERNICUS/S2_SR/20210613T025551_20210613T030949_T49RGN', 'COPERNICUS/S2_SR/20210623T025551_20210623T030736_T50RLU', 'COPERNICUS/S2_SR/20210623T025551_20210623T030736_T50RMU']\n"
     ]
    }
   ],
   "source": [
    "name = sentinel2.select('mNDWI').aggregate_array('system:id').getInfo()\n",
    "print(name)"
   ]
  },
  {
   "cell_type": "code",
   "execution_count": null,
   "id": "a7ffaf93",
   "metadata": {},
   "outputs": [],
   "source": [
    "dow_img_dir = r'C:\\Users\\xiong\\Downloads'\n",
    "from tolocal import ee_export\n",
    "roi = jx_bound.geometry()\n",
    "def dow(i):  # 用地图id做循环\n",
    "    Layer = ee.Image(i).select(['B4', 'B3', 'B2']) # 使用地图，select为确定地图波段，可以去除，则为全波段\n",
    "    # 保存文件名为地图id加文件格式\n",
    "    a = i.split('/')\n",
    "    str = '-'\n",
    "    b = str.join(a)\n",
    "    file = dow_img_dir + os.sep + b\n",
    "    # 导出栅格影像，file_per_band为是否按波段分别导出\n",
    "#     ee_export(region=roi, image=Layer.clip(roi), outfile=file, scale=10, sep=0.1, num_workers=4)\n",
    "    geemap.ee_export_image(Layer, filename=file, scale=500, region=roi,file_per_band=True)"
   ]
  },
  {
   "cell_type": "code",
   "execution_count": null,
   "id": "fe6a2191",
   "metadata": {},
   "outputs": [],
   "source": [
    "from concurrent.futures.thread import ThreadPoolExecutor\n",
    "\n",
    "with ThreadPoolExecutor(max_workers=8) as executor:\n",
    "    executor.map(dow, names_id)"
   ]
  },
  {
   "cell_type": "code",
   "execution_count": null,
   "id": "c4ec2268",
   "metadata": {},
   "outputs": [],
   "source": [
    "roi = jx_bound.geometry()\n",
    "Layer = ee.Image('COPERNICUS/S2_SR/20210601T000729_20210601T000731')"
   ]
  },
  {
   "cell_type": "code",
   "execution_count": null,
   "id": "95537620",
   "metadata": {
    "scrolled": true
   },
   "outputs": [],
   "source": [
    "for i in names_id:\n",
    "    i = r\"COPERNICUS/S2_SR/20210605T024549_20210605T025350_T49RHJ\"\n",
    "    Layer = ee.Image(i).select(['B4', 'B3', 'B2']) # 使用地图，select为确定地图波段，可以去除，则为全波段\n",
    "    # 保存文件名为地图id加文件格式\n",
    "    a = i.split('/')\n",
    "    str = '-'\n",
    "    b = str.join(a)\n",
    "    file = dow_img_dir + os.sep + b\n",
    "    ee_export(region=roi, image=Layer.clip(roi), outfile=file, scale=10, sep=0.1, num_workers=4)"
   ]
  },
  {
   "cell_type": "code",
   "execution_count": null,
   "id": "1fdda17d",
   "metadata": {},
   "outputs": [],
   "source": [
    "from tolocal import ee_export\n",
    "ee_export(region=roi, image=Layer.clip(roi), outfile=file, scale=10, sep=0.1, num_workers=4)"
   ]
  },
  {
   "cell_type": "code",
   "execution_count": null,
   "id": "a922882a",
   "metadata": {},
   "outputs": [],
   "source": [
    "img = sentinel2.select(['B4', 'B3', 'B2']).median().clip(roi)\n",
    "print(img.propertyNames().getInfo())"
   ]
  },
  {
   "cell_type": "code",
   "execution_count": null,
   "id": "2e372ddf",
   "metadata": {},
   "outputs": [],
   "source": [
    "Map.addLayer(sentinel2.select(['B4', 'B3', 'B2']).median().clip(roi),{'bands': ['B4', 'B3', 'B2'], 'min': 0, 'max': 0.3},\"Layer\")"
   ]
  },
  {
   "cell_type": "code",
   "execution_count": null,
   "id": "7d5387ca",
   "metadata": {},
   "outputs": [],
   "source": [
    "a = sl1.toList(100).getInfo()"
   ]
  },
  {
   "cell_type": "code",
   "execution_count": null,
   "id": "a22eddd2",
   "metadata": {},
   "outputs": [],
   "source": [
    "a = ee.ImageCollection(\"COPERNICUS/S2_SR\").select('mNDWI').filterDate(start_date, end_date).filterBounds(roi)"
   ]
  },
  {
   "cell_type": "code",
   "execution_count": null,
   "id": "7c99bc58",
   "metadata": {},
   "outputs": [],
   "source": [
    "a.size().getInfo()"
   ]
  },
  {
   "cell_type": "code",
   "execution_count": null,
   "id": "0410ef8f",
   "metadata": {},
   "outputs": [],
   "source": []
  }
 ],
 "metadata": {
  "kernelspec": {
   "display_name": "Python 3 (ipykernel)",
   "language": "python",
   "name": "python3"
  },
  "language_info": {
   "codemirror_mode": {
    "name": "ipython",
    "version": 3
   },
   "file_extension": ".py",
   "mimetype": "text/x-python",
   "name": "python",
   "nbconvert_exporter": "python",
   "pygments_lexer": "ipython3",
   "version": "3.9.7"
  },
  "varInspector": {
   "cols": {
    "lenName": 16,
    "lenType": 16,
    "lenVar": 40
   },
   "kernels_config": {
    "python": {
     "delete_cmd_postfix": "",
     "delete_cmd_prefix": "del ",
     "library": "var_list.py",
     "varRefreshCmd": "print(var_dic_list())"
    },
    "r": {
     "delete_cmd_postfix": ") ",
     "delete_cmd_prefix": "rm(",
     "library": "var_list.r",
     "varRefreshCmd": "cat(var_dic_list()) "
    }
   },
   "position": {
    "height": "349.844px",
    "left": "1550px",
    "right": "20px",
    "top": "120px",
    "width": "350px"
   },
   "types_to_exclude": [
    "module",
    "function",
    "builtin_function_or_method",
    "instance",
    "_Feature"
   ],
   "window_display": true
  }
 },
 "nbformat": 4,
 "nbformat_minor": 5
}
