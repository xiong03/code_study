{
 "cells": [
  {
   "cell_type": "raw",
   "id": "7714b92d",
   "metadata": {},
   "source": [
    "NDVI与温度：0.34\n",
    "NDVI与降水：0.37\n",
    "NDVI与降水温度：0.44\n",
    "EVI与温度：0.42\n",
    "EVI与降水：0.34\n",
    "EVI与降水温度：0.47\n",
    "NDVI,EVI,温度，降水：0.47\n",
    "NDVI,EVI,温度：0.44\n",
    "NDVI,EVI,降水：0.38\n",
    "NDVI,elevation:0.40\n",
    "NDVI,slope:0.31\n",
    "NVDI,elevation，slope：0.43\n",
    "EVI,elevation:0.35\n",
    "EVI,slope:0.31\n",
    "EVI,elevation,slope:0.41\n",
    "NDVI,EVI,elevation,slope:0.43\n",
    "NDVI,温度，elevation：0.41\n",
    "NDVI,温度，slope:0.41\n",
    "NDVI,降水，elevation:0.44\n",
    "NDVI,降水，slope:0.39\n",
    "EVI,温度，elevation:0.43\n",
    "EVI,温度，slope:0.43\n",
    "EVI,降水，elevation:0.42\n",
    "EVI,降水，slope:0.39\n",
    "EVI,降水，温度，elevation,slope:0.47\n",
    "NDVI,EVI,降水，温度，elevation,slope:0.49\n",
    "NDVI,EVI,降水，温度，elevation,slope,K:0.52"
   ]
  },
  {
   "cell_type": "code",
   "execution_count": 1,
   "id": "535c28f9",
   "metadata": {},
   "outputs": [],
   "source": [
    "import geemap, ee\n",
    "\n",
    "ee.Initialize()\n",
    "\n",
    "roi = geemap.shp_to_ee(r'D:/work/new/shp/fw.shp')\n",
    "fw = roi.geometry()\n",
    "\n",
    "sample = geemap.shp_to_ee(r'D:/work/new/point/result.shp')\n",
    "Map = geemap.Map()\n",
    "# Map"
   ]
  },
  {
   "cell_type": "code",
   "execution_count": 2,
   "id": "a37f4ed7",
   "metadata": {},
   "outputs": [],
   "source": [
    "def fun(image):\n",
    "    return (image.select('tmmx').add(image.select('tmmn'))).multiply(0.5).rename('tem')\n",
    "\n",
    "def NDVI(img):\n",
    "    ndvi = img.normalizedDifference(['SR_B4', 'SR_B3']).rename('NDVI')\n",
    "    return img.addBands(ndvi)\n",
    "\n",
    "def EVI(img):\n",
    "    nir = img.select(\"SR_B4\")\n",
    "    red = img.select(\"SR_B3\")\n",
    "    blue = img.select(\"SR_B1\")\n",
    "    evi = img.expression(\"2.5*(B4 - B3)/(B4 + 6*B3 - 7.5*B1 + 1)\",{\"B4\": nir,\"B3\": red ,\"B1\": blue})\n",
    "    evi = evi.rename('EVI')\n",
    "    return img.addBands(evi)\n",
    "\n",
    "def EVI2(img):\n",
    "    nir = img.select(\"SR_B4\")\n",
    "    red = img.select(\"SR_B3\")\n",
    "    evi2 = img.expression(\"2.5*(B4 - B3)/(B4 + 2.4*B3 + 1)\",{\"B4\": nir,\"B3\": red})\n",
    "    evi2 = evi2.rename('EVI2')\n",
    "    return img.addBands(evi2)\n",
    "\n",
    "def LSWI(img):\n",
    "    lswi = img.normalizedDifference(['SR_B4', 'SR_B5']).rename('LSWI')\n",
    "    return img.addBands(lswi)\n",
    "\n",
    "def GCVI(img):\n",
    "    nir = img.select(\"SR_B4\")\n",
    "    green = img.select(\"SR_B2\")\n",
    "    gcvi = img.expression(\"B4/B2-1\",{\"B4\": nir,\"B2\": green})\n",
    "    gcvi = gcvi.rename('GCVI')\n",
    "    return img.addBands(gcvi)\n",
    "\n",
    "def RVI(img):\n",
    "    nir = img.select(\"SR_B4\")\n",
    "    red = img.select(\"SR_B3\")\n",
    "    rvi = img.expression(\"B4/B3\",{\"B4\": nir,\"B3\": red})\n",
    "    rvi = rvi.rename('RVI')\n",
    "    return img.addBands(rvi)\n",
    "\n",
    "def maskL8sr(image):\n",
    "    qaMask = image.select('QA_PIXEL').bitwiseAnd(int('11111',2)).eq(0);\n",
    "    saturationMask = image.select('QA_RADSAT').eq(0);\n",
    "\n",
    "#   // Apply the scaling factors to the appropriate bands.\n",
    "    opticalBands = image.select('SR_B.').multiply(0.0000275).add(-0.2);\n",
    "    thermalBands = image.select('ST_B.*').multiply(0.00341802).add(149.0);\n",
    "    \n",
    "    return image.addBands(opticalBands, None, True)\\\n",
    "                 .addBands(thermalBands, None, True)\\\n",
    "                 .updateMask(qaMask)\\\n",
    "                 .updateMask(saturationMask)\\\n",
    "                 .copyProperties(image, [\"system:time_start\",'system:id'])\n",
    "\n",
    "def K(image):\n",
    "    return image.expression(\n",
    "        'pr/aet',{\n",
    "            'pr':image.select('pr'),\n",
    "            'aet':image.select('aet').multiply(0.1)\n",
    "        }\n",
    "    ).rename('K')\n",
    "\n",
    "# 投影\n",
    "def project(image):\n",
    "    return image.reproject(ee.ImageCollection(\"IDAHO_EPSCOR/TERRACLIMATE\").first().select(0).projection())"
   ]
  },
  {
   "cell_type": "code",
   "execution_count": 3,
   "id": "d3c369a2",
   "metadata": {},
   "outputs": [],
   "source": [
    "year  = 2020\n",
    "images = []\n",
    "bands = ['EVI','pr','tem','elevation','slope','NDVI']\n",
    "label = 'CID'\n",
    "\n",
    "# CRU  https://developers.google.com/earth-engine/datasets/catalog/IDAHO_EPSCOR_TERRACLIMATE\n",
    "collection = ee.ImageCollection('LANDSAT/LC08/C02/T1_L2')\\\n",
    "            .filterBounds(fw) \\\n",
    "            .filter(ee.Filter.calendarRange(year,year,'year')) \\\n",
    "            .filterMetadata('CLOUD_COVER', 'less_than', 25)\\\n",
    "            .map(maskL8sr) \\\n",
    "            .map(NDVI).map(EVI).map(RVI).mosaic()\n",
    "images.append(collection.select('NDVI'))\n",
    "images.append(collection.select('EVI'))\n",
    "images.append(collection.select('RVI'))\n",
    "\n",
    "temperature = ee.ImageCollection(\"IDAHO_EPSCOR/TERRACLIMATE\")\\\n",
    "                .filterBounds(fw)\\\n",
    "                .filter(ee.Filter.calendarRange(year,year,'year'))\\\n",
    "                .select(['tmmn','tmmx'])\\\n",
    "                .map(fun).mean().multiply(0.1)\\\n",
    "                .clip(fw)\n",
    "images.append(project(temperature))\n",
    "\n",
    "precipitation = ee.ImageCollection(\"IDAHO_EPSCOR/TERRACLIMATE\")\\\n",
    "                .filterBounds(fw)\\\n",
    "                .filter(ee.Filter.calendarRange(year,year,'year'))\\\n",
    "                .select('pr')\\\n",
    "                .sum().clip(fw)\n",
    "images.append(project(precipitation))\n",
    "\n",
    "Kdata = ee.ImageCollection(\"IDAHO_EPSCOR/TERRACLIMATE\")\\\n",
    "            .filterBounds(fw)\\\n",
    "            .filter(ee.Filter.calendarRange(year, year, 'year'))\\\n",
    "            .select(['pr','aet'])\n",
    "Ks = Kdata.map(K).mean().float().clip(fw)\n",
    "images.append(project(Ks))\n",
    "\n",
    "dataset = ee.Image('USGS/SRTMGL1_003').clip(fw)\n",
    "elevation = dataset.select('elevation')\n",
    "slope = ee.Terrain.slope(elevation).rename('slope')\n",
    "images.append(elevation)\n",
    "images.append(slope)"
   ]
  },
  {
   "cell_type": "code",
   "execution_count": 4,
   "id": "11d4a765",
   "metadata": {},
   "outputs": [],
   "source": [
    "image = ee.Image(images)"
   ]
  },
  {
   "cell_type": "code",
   "execution_count": 5,
   "id": "f9df2e8a",
   "metadata": {},
   "outputs": [],
   "source": [
    "# 特征值的提取\n",
    "training = image.select(bands).sampleRegions(**{\n",
    "    'collection':sample,\n",
    "    'scale':30,\n",
    "    'geometries': True\n",
    "})\n",
    "\n",
    "#  random uniforms to the training dataset.\n",
    "withRandom = training.randomColumn() #样本点随机的排列\n",
    "\n",
    "# 我们想保留一些数据进行测试，以避免模型过度拟合\n",
    "split = 0.70\n",
    "trainingPartition = withRandom.filter(ee.Filter.lt('random', split))#筛选70%的样本作为训练样本\n",
    "testingPartition = withRandom.filter(ee.Filter.gte('random', split))#筛选30%的样本作为测试样本"
   ]
  },
  {
   "cell_type": "code",
   "execution_count": 6,
   "id": "324b64ce",
   "metadata": {},
   "outputs": [],
   "source": [
    "# 分类方法选择smileCart() randomForest() minimumDistance libsvm\n",
    "classifier = ee.Classifier.smileRandomForest(120).train(trainingPartition,label,bands)\n",
    "classified = image.select(bands).classify(classifier)"
   ]
  },
  {
   "cell_type": "code",
   "execution_count": 7,
   "id": "26f16e46",
   "metadata": {},
   "outputs": [
    {
     "name": "stdout",
     "output_type": "stream",
     "text": [
      "总体精度: 0.5944584382871536\n"
     ]
    }
   ],
   "source": [
    "# 运用测试样本分类，确定要进行函数运算的数据集以及函数\n",
    "test = testingPartition.classify(classifier)\n",
    "test_accuracy = test.errorMatrix(label, 'classification')\n",
    "print('总体精度:',test_accuracy.accuracy().getInfo())"
   ]
  },
  {
   "cell_type": "raw",
   "id": "e2dc95e5",
   "metadata": {},
   "source": [
    "# 草地点\n",
    "NDVI与温度：0.68\n",
    "NDVI与降水：0.55\n",
    "NDVI与降水温度：0.78\n",
    "EVI与温度：0.67\n",
    "EVI与降水：0.58\n",
    "EVI与降水温度：0.78\n",
    "NDVI,EVI,温度，降水：0.78\n",
    "NDVI,elevation:0.65\n",
    "NDVI,slope:0.45\n",
    "NVDI,elevation，slope：0.67\n",
    "EVI,elevation:0.63\n",
    "EVI,slope:0.48\n",
    "EVI,elevation,slope:0.62\n",
    "NDVI,EVI,elevation,slope:0.63"
   ]
  },
  {
   "cell_type": "raw",
   "id": "e98cb8ce",
   "metadata": {},
   "source": [
    "NDVI,EVI,降水，温度，elevation,slope,K,EVI2:0.48\n",
    "NDVI,EVI,降水，温度，elevation,slope,K,LSWI:0.55\n",
    "NDVI,EVI,降水，温度，elevation,slope,K,GCVI:0.51\n",
    "NDVI,EVI,降水，温度，elevation,slope,K,RVI:0.50"
   ]
  }
 ],
 "metadata": {
  "kernelspec": {
   "display_name": "Python 3 (ipykernel)",
   "language": "python",
   "name": "python3"
  },
  "language_info": {
   "codemirror_mode": {
    "name": "ipython",
    "version": 3
   },
   "file_extension": ".py",
   "mimetype": "text/x-python",
   "name": "python",
   "nbconvert_exporter": "python",
   "pygments_lexer": "ipython3",
   "version": "3.9.7"
  },
  "varInspector": {
   "cols": {
    "lenName": 16,
    "lenType": 16,
    "lenVar": 40
   },
   "kernels_config": {
    "python": {
     "delete_cmd_postfix": "",
     "delete_cmd_prefix": "del ",
     "library": "var_list.py",
     "varRefreshCmd": "print(var_dic_list())"
    },
    "r": {
     "delete_cmd_postfix": ") ",
     "delete_cmd_prefix": "rm(",
     "library": "var_list.r",
     "varRefreshCmd": "cat(var_dic_list()) "
    }
   },
   "types_to_exclude": [
    "module",
    "function",
    "builtin_function_or_method",
    "instance",
    "_Feature"
   ],
   "window_display": false
  }
 },
 "nbformat": 4,
 "nbformat_minor": 5
}
