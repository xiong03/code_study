{
 "cells": [
  {
   "cell_type": "code",
   "execution_count": 1,
   "id": "5d97d22a",
   "metadata": {},
   "outputs": [],
   "source": [
    "import ee, os\n",
    "import geemap\n",
    "ee.Initialize()\n",
    "Map = geemap.Map()\n",
    "# Map = geemap.Map(center=(39, 110), zoom=4)\n",
    "# Map"
   ]
  },
  {
   "cell_type": "code",
   "execution_count": 2,
   "id": "8bf9800b",
   "metadata": {},
   "outputs": [],
   "source": [
    "year = 2019, 2021\n",
    "day = '-01-01', '-12-31'\n",
    "\n",
    "start_date = str(year[0]) + day[0]\n",
    "end_date = str(year[1]) + day[1]\n",
    "\n",
    "# jx_bound = ee.FeatureCollection('users/yehuigeo/jx_bound')\n",
    "fw = geemap.shp_to_ee(r'D:\\work\\new\\shp\\fw.shp').geometry()\n",
    "# Map.addLayer(fw,{},'fw')"
   ]
  },
  {
   "cell_type": "code",
   "execution_count": 3,
   "id": "4e2c6ca4",
   "metadata": {},
   "outputs": [],
   "source": [
    "def fun(image):\n",
    "    return (image.select('tmmx').add(image.select('tmmn'))).multiply(0.5).rename('tem')\n",
    "\n",
    "def NDVI(img):\n",
    "    ndvi = img.normalizedDifference(['SR_B4', 'SR_B3']).rename('NDVI')\n",
    "    return img.addBands(ndvi)\n",
    "\n",
    "def EVI(img):\n",
    "    nir = img.select(\"SR_B4\")\n",
    "    red = img.select(\"SR_B3\")\n",
    "    blue = img.select(\"SR_B1\")\n",
    "    evi = img.expression(\"2.5*(B4 - B3)/(B4 + 6*B3 - 7.5*B1 + 1)\",{\"B4\": nir,\"B3\": red ,\"B1\": blue})\n",
    "    evi = evi.rename('EVI')\n",
    "    return img.addBands(evi)\n",
    "\n",
    "def maskL8sr(image):\n",
    "    qaMask = image.select('QA_PIXEL').bitwiseAnd(int('11111',2)).eq(0);\n",
    "    saturationMask = image.select('QA_RADSAT').eq(0);\n",
    "\n",
    "#   // Apply the scaling factors to the appropriate bands.\n",
    "    opticalBands = image.select('SR_B.').multiply(0.0000275).add(-0.2);\n",
    "    thermalBands = image.select('ST_B.*').multiply(0.00341802).add(149.0);\n",
    "    \n",
    "    return image.addBands(opticalBands, None, True)\\\n",
    "                 .addBands(thermalBands, None, True)\\\n",
    "                 .updateMask(qaMask)\\\n",
    "                 .updateMask(saturationMask)\\\n",
    "                 .copyProperties(image, [\"system:time_start\",'system:id'])\n",
    "\n",
    "def K(image):\n",
    "    return image.expression(\n",
    "        'pr/aet',{\n",
    "            'pr':image.select('pr'),\n",
    "            'aet':image.select('aet').multiply(0.1)\n",
    "        }\n",
    "    ).rename('K')\n",
    "\n",
    "def sample_points_to_df(img, ps, col_names=None):\n",
    "    ps_data = img.sampleRegions(ps, \n",
    "                                geometries=True, \n",
    "                                scale=30.0)\n",
    "    values_list = [f['properties'] for f in ps_data.getInfo()[\"features\"]]\n",
    "    if col_names == None:\n",
    "        values_df = pd.DataFrame(values_list)\n",
    "    else:\n",
    "        values_df = pd.DataFrame(values_list)[col_names+['CID']]\n",
    "    return values_df\n",
    "\n",
    "def pro(img):\n",
    "    return img.resample('bicubic').reproject(**{'crs': 'EPSG:4362', 'scale': 30.0})"
   ]
  },
  {
   "cell_type": "code",
   "execution_count": 4,
   "id": "2d9d4ea6",
   "metadata": {},
   "outputs": [],
   "source": [
    "# CRU  https://developers.google.com/earth-engine/datasets/catalog/IDAHO_EPSCOR_TERRACLIMATE\n",
    "collection = ee.ImageCollection('LANDSAT/LC08/C02/T1_L2')\\\n",
    "            .filterBounds(fw) \\\n",
    "            .filterDate(start_date, end_date) \\\n",
    "            .filterMetadata('CLOUD_COVER', 'less_than', 25)\\\n",
    "            .map(maskL8sr) \\\n",
    "            .select(['SR_B1', 'SR_B2', 'SR_B3', 'SR_B4', 'SR_B5', 'SR_B7'])\\\n",
    "            .map(NDVI).map(EVI)\n",
    "\n",
    "dataset = (ee.Image('USGS/SRTMGL1_003').clip(fw))\n",
    "elevation = dataset.select('elevation')\n",
    "slope = ee.Terrain.slope(elevation).rename('slope')\n",
    "\n",
    "images3 = ee.Image([elevation,slope])\n",
    "# print(collection.size().getInfo())"
   ]
  },
  {
   "cell_type": "code",
   "execution_count": 5,
   "id": "9003beef",
   "metadata": {},
   "outputs": [],
   "source": [
    "image1 = []\n",
    "image2 = []\n",
    "\n",
    "for i in range(1,13):\n",
    "#     print('{}_'.format(i))\n",
    "    image = collection.filter(ee.Filter.calendarRange(i, i, 'month'))\\\n",
    "                .sort('CLOUD_COVER', False)\\\n",
    "                .mosaic().clip(fw)\n",
    "    image1.append(image.select(['NDVI','EVI']))\n",
    "    \n",
    "    precipitation = ee.ImageCollection(\"IDAHO_EPSCOR/TERRACLIMATE\")\\\n",
    "                .filterBounds(fw)\\\n",
    "                .filter(ee.Filter.calendarRange(i, i, 'month'))\\\n",
    "                .select('pr')\\\n",
    "                .sum().clip(fw)\n",
    "    image2.append(precipitation)\n",
    "    \n",
    "    temperature = ee.ImageCollection(\"IDAHO_EPSCOR/TERRACLIMATE\")\\\n",
    "                .filterBounds(fw)\\\n",
    "                .filter(ee.Filter.calendarRange(i, i, 'month'))\\\n",
    "                .select(['tmmn','tmmx'])\\\n",
    "                .map(fun).mean().multiply(0.1)\\\n",
    "                .clip(fw)\n",
    "    image2.append(temperature)\n",
    "    \n",
    "    Kdata = ee.ImageCollection(\"IDAHO_EPSCOR/TERRACLIMATE\")\\\n",
    "                .filterBounds(fw)\\\n",
    "                .filter(ee.Filter.calendarRange(i, i, 'month'))\\\n",
    "                .select(['pr','aet'])\n",
    "    Ks = Kdata.map(K).mean().float().clip(fw)\n",
    "    image2.append(Ks)\n",
    "\n",
    "images1 = ee.Image(image1)\n",
    "images2 = ee.Image(image2)\n",
    "\n",
    "# image5 = collection.filter(ee.Filter.calendarRange(5, 5, 'month'))\\\n",
    "#                 .sort('CLOUD_COVER', False)\\\n",
    "#                 .mosaic()\n",
    "\n",
    "# image9 = collection.filter(ee.Filter.calendarRange(9, 9, 'month'))\\\n",
    "#                 .sort('CLOUD_COVER', False)\\\n",
    "#                 .mosaic()"
   ]
  },
  {
   "cell_type": "code",
   "execution_count": 6,
   "id": "c9e02b1f",
   "metadata": {},
   "outputs": [],
   "source": [
    "name1 = []\n",
    "name2 = []\n",
    "name3 = ['elevation','slope']\n",
    "\n",
    "for i in range(1,13):\n",
    "    name1.append('NDVI_{}'.format(i))\n",
    "    name1.append('EVI_{}'.format(i))\n",
    "    name2.append('pr_{}'.format(i))\n",
    "    name2.append('tem_{}'.format(i))\n",
    "    name2.append('K_{}'.format(i))\n",
    "\n",
    "images1 = images1.rename(name1)\n",
    "images2 = images2.rename(name2)"
   ]
  },
  {
   "cell_type": "code",
   "execution_count": 7,
   "id": "49e75543",
   "metadata": {},
   "outputs": [],
   "source": [
    "name = 6\n",
    "shp = geemap.shp_to_ee(r'D:\\work\\new\\point\\6.shp')"
   ]
  },
  {
   "cell_type": "code",
   "execution_count": 8,
   "id": "d81536aa",
   "metadata": {},
   "outputs": [
    {
     "name": "stdout",
     "output_type": "stream",
     "text": [
      "6_\n"
     ]
    }
   ],
   "source": [
    "import glob\n",
    "import pandas as pd\n",
    "\n",
    "path = r'D:\\work\\new\\point'\n",
    "outpath1 = r'D:\\work\\new\\txt\\NDVI'\n",
    "outpath2 = r'D:\\work\\new\\txt\\tem'\n",
    "outpath3 = r'D:\\work\\new\\txt\\dem'\n",
    "\n",
    "# for name in range(1,8):\n",
    "    \n",
    "outfile1 = outpath1+os.sep+'{}.csv'.format(name)\n",
    "outfile2 = outpath2+os.sep+'{}.csv'.format(name)\n",
    "outfile3 = outpath3+os.sep+'{}.csv'.format(name)\n",
    "\n",
    "#     if os.path.exists(outfile1) and os.path.exists(outfile2) and os.path.exists(outfile3):\n",
    "#         continue\n",
    "\n",
    "print('{}_'.format(name))\n",
    "\n",
    "shp = geemap.shp_to_ee(path+os.sep+'{}.shp'.format(name)) # 这一步会很慢\n",
    "\n",
    "df1 = sample_points_to_df(images1, shp, name1)\n",
    "df2 = sample_points_to_df(images2, shp, name2)\n",
    "df3 = sample_points_to_df(images3, shp, name3)\n",
    "\n",
    "df1.to_csv(outfile1,index=False, header=True)\n",
    "df2.to_csv(outfile2,index=False, header=True)\n",
    "df3.to_csv(outfile3,index=False, header=True)"
   ]
  },
  {
   "cell_type": "code",
   "execution_count": 9,
   "id": "a6f48e0e",
   "metadata": {},
   "outputs": [],
   "source": [
    "# Map.addLayer(image5,{},\"image5\")\n",
    "# Map.addLayer(image9,{},\"image9\")\n",
    "# Map"
   ]
  },
  {
   "cell_type": "code",
   "execution_count": null,
   "id": "c695044e",
   "metadata": {},
   "outputs": [],
   "source": []
  }
 ],
 "metadata": {
  "kernelspec": {
   "display_name": "Python 3 (ipykernel)",
   "language": "python",
   "name": "python3"
  },
  "language_info": {
   "codemirror_mode": {
    "name": "ipython",
    "version": 3
   },
   "file_extension": ".py",
   "mimetype": "text/x-python",
   "name": "python",
   "nbconvert_exporter": "python",
   "pygments_lexer": "ipython3",
   "version": "3.9.7"
  },
  "varInspector": {
   "cols": {
    "lenName": 16,
    "lenType": 16,
    "lenVar": 40
   },
   "kernels_config": {
    "python": {
     "delete_cmd_postfix": "",
     "delete_cmd_prefix": "del ",
     "library": "var_list.py",
     "varRefreshCmd": "print(var_dic_list())"
    },
    "r": {
     "delete_cmd_postfix": ") ",
     "delete_cmd_prefix": "rm(",
     "library": "var_list.r",
     "varRefreshCmd": "cat(var_dic_list()) "
    }
   },
   "types_to_exclude": [
    "module",
    "function",
    "builtin_function_or_method",
    "instance",
    "_Feature"
   ],
   "window_display": false
  }
 },
 "nbformat": 4,
 "nbformat_minor": 5
}
