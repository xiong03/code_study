{
 "cells": [
  {
   "cell_type": "code",
   "execution_count": 1,
   "id": "fa2e438d",
   "metadata": {},
   "outputs": [],
   "source": [
    "import geemap, ee\n",
    "from GEE_xiong import ee_export\n",
    "import os\n",
    "from user_gee import clip_dow_merge\n",
    "\n",
    "ee.Initialize()\n",
    "# ee.data.authenticateViaPrivateKey()\n",
    "ee_shp = geemap.shp_to_ee(r'C:/Users/xiong/Documents/geemap/shp/2m/fx/polygon.shp')\n",
    "roi = ee_shp.geometry()\n",
    "\n",
    "Map = geemap.Map()\n",
    "# Map"
   ]
  },
  {
   "cell_type": "code",
   "execution_count": 2,
   "id": "7352f0b3",
   "metadata": {},
   "outputs": [],
   "source": [
    "bands = ['SR_B1', 'SR_B2', 'SR_B3', 'SR_B4', 'SR_B5', 'SR_B7']\n",
    "\n",
    "def maskL8sr(image):\n",
    "    qaMask = image.select('QA_PIXEL').bitwiseAnd(int('11111',2)).eq(0);\n",
    "    saturationMask = image.select('QA_RADSAT').eq(0);\n",
    "\n",
    "#   // Apply the scaling factors to the appropriate bands.\n",
    "    opticalBands = image.select('SR_B.').multiply(0.0000275).add(-0.2);\n",
    "    thermalBands = image.select('ST_B.*').multiply(0.00341802).add(149.0);\n",
    "    \n",
    "    return image.addBands(opticalBands, None, True)\\\n",
    "                 .addBands(thermalBands, None, True)\\\n",
    "                 .updateMask(qaMask)\\\n",
    "                 .updateMask(saturationMask)\\\n",
    "                 .copyProperties(image, [\"system:time_start\",'system:id'])"
   ]
  },
  {
   "cell_type": "code",
   "execution_count": 3,
   "id": "c4162b9c",
   "metadata": {},
   "outputs": [],
   "source": [
    "collection = ee.ImageCollection(\"LANDSAT/LC08/C02/T1_L2\")\\\n",
    "            .filterBounds(roi)\\\n",
    "            .filterDate('2020-01-01', '2020-12-31')\\\n",
    "            .sort('CLOUD_COVER', True)\\\n",
    "            .map(maskL8sr)\\\n",
    "            .select(bands)"
   ]
  },
  {
   "cell_type": "code",
   "execution_count": null,
   "id": "ec97355c",
   "metadata": {},
   "outputs": [
    {
     "name": "stdout",
     "output_type": "stream",
     "text": [
      "分割成10份, 开始下载:\n",
      "Generating URL ...\n",
      "Downloading data from https://earthengine.googleapis.com/v1alpha/projects/earthengine-legacy/thumbnails/27ad2e3c4a75961d8e27336357cefce8-ec43597234f13704f2a23fa96ed389de:getPixels\n",
      "Please wait ...\n",
      "Data downloaded to C:\\Users\\xiong\\Downloads\\out\\result_mk\\temp_0.tif\n",
      "Generating URL ...\n",
      "Downloading data from https://earthengine.googleapis.com/v1alpha/projects/earthengine-legacy/thumbnails/a97ffa1279f48ce46767b0946875063b-16b7a85b08362ccec1d2c324f5f88beb:getPixels\n",
      "Please wait ...\n",
      "Data downloaded to C:\\Users\\xiong\\Downloads\\out\\result_mk\\temp_1.tif\n",
      "Generating URL ...\n",
      "Downloading data from https://earthengine.googleapis.com/v1alpha/projects/earthengine-legacy/thumbnails/a924c63dfb88f72c370438dfd307cc33-9c42e0050a3901a58b3d36e4366eb85c:getPixels\n",
      "Please wait ...\n",
      "Data downloaded to C:\\Users\\xiong\\Downloads\\out\\result_mk\\temp_2.tif\n",
      "Generating URL ...\n",
      "Downloading data from https://earthengine.googleapis.com/v1alpha/projects/earthengine-legacy/thumbnails/a9ca0eca05ecce89d1da2e558a2faf87-043cc7075058dfbf598f46c28d186a8c:getPixels\n",
      "Please wait ...\n"
     ]
    }
   ],
   "source": [
    "from GEE_xiong import ee_export\n",
    "ee_export(roi, collection.first(), r'C:\\Users\\xiong\\Downloads\\out\\result', 30)"
   ]
  },
  {
   "cell_type": "code",
   "execution_count": null,
   "id": "a5e00293",
   "metadata": {},
   "outputs": [],
   "source": [
    "# # ERA  https://developers.google.com/earth-engine/datasets/catalog/ECMWF_ERA5_MONTHLY\n",
    "\n",
    "# precipitation = ee.ImageCollection(\"ECMWF/ERA5/MONTHLY\")\\\n",
    "#                 .filterBounds(roi)\\\n",
    "#                 .filterDate('1975-01-01','1985-01-01')\\\n",
    "#                 .select('total_precipitation')\\\n",
    "#                 .sum().multiply(1000)\n",
    "\n",
    "# temperature = ee.ImageCollection(\"ECMWF/ERA5/MONTHLY\")\\\n",
    "#                 .filterBounds(roi)\\\n",
    "#                 .filterDate('1975-01-01','1985-01-01')\\\n",
    "#                 .select('mean_2m_air_temperature')\\\n",
    "#                 .mean().subtract(272.15)"
   ]
  },
  {
   "cell_type": "code",
   "execution_count": null,
   "id": "18dc4b2b",
   "metadata": {},
   "outputs": [],
   "source": [
    "# def fun(image):\n",
    "#     return (image.select('tmmx').add(image.select('tmmn'))).rename('B1')\n",
    "\n",
    "# # CRU  https://developers.google.com/earth-engine/datasets/catalog/IDAHO_EPSCOR_TERRACLIMATE\n",
    "\n",
    "# precipitation = ee.ImageCollection(\"IDAHO_EPSCOR/TERRACLIMATE\")\\\n",
    "#                 .filterBounds(roi)\\\n",
    "#                 .filterDate('1975-01-01','1985-01-01')\\\n",
    "#                 .select('pr')\\\n",
    "#                 .sum()\n",
    "\n",
    "# temperature = ee.ImageCollection(\"IDAHO_EPSCOR/TERRACLIMATE\")\\\n",
    "#                 .filterBounds(roi)\\\n",
    "#                 .filterDate('1975-01-01','1985-01-01')\\\n",
    "#                 .select(['tmmn','tmmx'])\n",
    "\n",
    "# tem = temperature.map(fun).mean().multiply(0.1)"
   ]
  },
  {
   "cell_type": "code",
   "execution_count": null,
   "id": "933bab84",
   "metadata": {},
   "outputs": [],
   "source": [
    "# outpath = r'C:\\Users\\xiong\\Downloads\\text'\n",
    "# for name in ['precipitation','temperature']:\n",
    "#     outfile = outpath+os.sep+name\n",
    "#     if name == 'precipitation':\n",
    "#         image = precipitation.divide(10)\n",
    "#     else:\n",
    "#         image = temperature\n",
    "#     ee_export(roi, image, outfile, scale = ee.ImageCollection(\"ECMWF/ERA5/MONTHLY\").first().projection().nominalScale().getInfo())"
   ]
  },
  {
   "cell_type": "code",
   "execution_count": null,
   "id": "f96ccdba",
   "metadata": {},
   "outputs": [],
   "source": []
  }
 ],
 "metadata": {
  "kernelspec": {
   "display_name": "Python 3 (ipykernel)",
   "language": "python",
   "name": "python3"
  },
  "language_info": {
   "codemirror_mode": {
    "name": "ipython",
    "version": 3
   },
   "file_extension": ".py",
   "mimetype": "text/x-python",
   "name": "python",
   "nbconvert_exporter": "python",
   "pygments_lexer": "ipython3",
   "version": "3.9.7"
  },
  "varInspector": {
   "cols": {
    "lenName": 16,
    "lenType": 16,
    "lenVar": 40
   },
   "kernels_config": {
    "python": {
     "delete_cmd_postfix": "",
     "delete_cmd_prefix": "del ",
     "library": "var_list.py",
     "varRefreshCmd": "print(var_dic_list())"
    },
    "r": {
     "delete_cmd_postfix": ") ",
     "delete_cmd_prefix": "rm(",
     "library": "var_list.r",
     "varRefreshCmd": "cat(var_dic_list()) "
    }
   },
   "types_to_exclude": [
    "module",
    "function",
    "builtin_function_or_method",
    "instance",
    "_Feature"
   ],
   "window_display": false
  }
 },
 "nbformat": 4,
 "nbformat_minor": 5
}
