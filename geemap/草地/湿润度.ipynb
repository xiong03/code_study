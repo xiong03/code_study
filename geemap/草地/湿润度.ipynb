{
 "cells": [
  {
   "cell_type": "code",
   "execution_count": 1,
   "id": "a97f065a",
   "metadata": {},
   "outputs": [],
   "source": [
    "import geemap, ee\n",
    "from GEE_xiong import ee_export\n",
    "import os\n",
    "\n",
    "ee.Initialize()\n",
    "ee_shp = geemap.shp_to_ee(r'C:\\Users\\xiong\\Documents\\geemap\\shp\\qh\\qhwgs.shp')\n",
    "roi = ee_shp.geometry()"
   ]
  },
  {
   "cell_type": "code",
   "execution_count": 2,
   "id": "eb50c6db",
   "metadata": {},
   "outputs": [],
   "source": [
    "def K(image):\n",
    "    return image.expression(\n",
    "        'pr/aet',{\n",
    "            'pr':image.select('pr'),\n",
    "            'aet':image.select('aet').multiply(0.1)\n",
    "        }\n",
    "    ).rename('K')"
   ]
  },
  {
   "cell_type": "code",
   "execution_count": 3,
   "id": "e055bf73",
   "metadata": {},
   "outputs": [],
   "source": [
    "import numpy as np\n",
    "precipitation = ee.ImageCollection(\"IDAHO_EPSCOR/TERRACLIMATE\")\\\n",
    "                .filterBounds(roi)\\\n",
    "                .filter(ee.Filter.calendarRange(2018,2022,'year'))\\\n",
    "                .select(['pr','aet'])\n",
    "\n",
    "Ks = precipitation.map(K).mean().float()"
   ]
  },
  {
   "cell_type": "code",
   "execution_count": 4,
   "id": "6133f52f",
   "metadata": {},
   "outputs": [
    {
     "data": {
      "text/plain": [
       "9.696819305419922"
      ]
     },
     "execution_count": 4,
     "metadata": {},
     "output_type": "execute_result"
    }
   ],
   "source": [
    "Kmax = ee.Number(Ks.reduceRegion(**{\n",
    "      'reducer': ee.Reducer.max(),\n",
    "      'geometry': roi,\n",
    "      'scale': ee.ImageCollection(\"IDAHO_EPSCOR/TERRACLIMATE\").first().projection().nominalScale().getInfo(),\n",
    "      'maxPixels': 1e13\n",
    "    }).get('K'))\n",
    "\n",
    "Kmax.getInfo()"
   ]
  },
  {
   "cell_type": "code",
   "execution_count": 5,
   "id": "cd3cb42c",
   "metadata": {},
   "outputs": [
    {
     "name": "stdout",
     "output_type": "stream",
     "text": [
      "Generating URL ...\n",
      "Downloading data from https://earthengine.googleapis.com/v1alpha/projects/earthengine-legacy/thumbnails/6e250c46d50e9e79dfc6c163b7341e5b-6022301dbf24d46bcd7ffec61d91ccce:getPixels\n",
      "Please wait ...\n",
      "Data downloaded to C:\\Users\\xiong\\Downloads\\data\\K.tif\n",
      "C:\\Users\\xiong\\Downloads\\data\\K.tif download successful !!!\n"
     ]
    }
   ],
   "source": [
    "outfile = r'C:\\Users\\xiong\\Downloads\\data\\K'\n",
    "ee_export(roi, Ks, outfile, scale = ee.ImageCollection(\"IDAHO_EPSCOR/TERRACLIMATE\").first().projection().nominalScale().getInfo())"
   ]
  },
  {
   "cell_type": "code",
   "execution_count": null,
   "id": "80a1c5be",
   "metadata": {},
   "outputs": [],
   "source": []
  }
 ],
 "metadata": {
  "kernelspec": {
   "display_name": "Python 3 (ipykernel)",
   "language": "python",
   "name": "python3"
  },
  "language_info": {
   "codemirror_mode": {
    "name": "ipython",
    "version": 3
   },
   "file_extension": ".py",
   "mimetype": "text/x-python",
   "name": "python",
   "nbconvert_exporter": "python",
   "pygments_lexer": "ipython3",
   "version": "3.9.7"
  },
  "varInspector": {
   "cols": {
    "lenName": 16,
    "lenType": 16,
    "lenVar": 40
   },
   "kernels_config": {
    "python": {
     "delete_cmd_postfix": "",
     "delete_cmd_prefix": "del ",
     "library": "var_list.py",
     "varRefreshCmd": "print(var_dic_list())"
    },
    "r": {
     "delete_cmd_postfix": ") ",
     "delete_cmd_prefix": "rm(",
     "library": "var_list.r",
     "varRefreshCmd": "cat(var_dic_list()) "
    }
   },
   "types_to_exclude": [
    "module",
    "function",
    "builtin_function_or_method",
    "instance",
    "_Feature"
   ],
   "window_display": false
  }
 },
 "nbformat": 4,
 "nbformat_minor": 5
}
