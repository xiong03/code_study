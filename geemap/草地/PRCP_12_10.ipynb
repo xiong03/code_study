{
 "cells": [
  {
   "cell_type": "code",
   "execution_count": 1,
   "id": "6529443a",
   "metadata": {
    "ExecuteTime": {
     "end_time": "2022-12-10T07:30:50.300875Z",
     "start_time": "2022-12-10T07:30:40.920476Z"
    }
   },
   "outputs": [
    {
     "data": {
      "application/vnd.jupyter.widget-view+json": {
       "model_id": "7cc921f07cf94229b50fae370afc8667",
       "version_major": 2,
       "version_minor": 0
      },
      "text/plain": [
       "Map(center=[20, 0], controls=(WidgetControl(options=['position', 'transparent_bg'], widget=HBox(children=(Togg…"
      ]
     },
     "execution_count": 1,
     "metadata": {},
     "output_type": "execute_result"
    }
   ],
   "source": [
    "import ee\n",
    "import os\n",
    "import geemap\n",
    "geemap.set_proxy(port=1082)\n",
    "import user_gee\n",
    "Map = geemap.Map()\n",
    "Map"
   ]
  },
  {
   "cell_type": "code",
   "execution_count": 2,
   "id": "3dedfb7b",
   "metadata": {
    "ExecuteTime": {
     "end_time": "2022-12-10T07:31:07.940568Z",
     "start_time": "2022-12-10T07:31:01.905766Z"
    }
   },
   "outputs": [],
   "source": [
    "dataset = ee.FeatureCollection('USDOS/LSIB_SIMPLE/2017')\n",
    "Earth_roi = dataset.union()\n",
    "roi = Earth_roi.geometry()\n",
    "# styleParams = {fillColor: 'b5ffb4',color: '00909F',width: 3.0,}\n",
    "# countries = dataset.style(styleParams)\n",
    "Map.setCenter(16.35, 48.83, 4)\n",
    "Map.addLayer(Earth_roi, {}, 'USDOS/LSIB_SIMPLE/2017')\n",
    "def Mul_(image):\n",
    "    out = image.multiply(0.0001)\n",
    "    return out\n"
   ]
  },
  {
   "cell_type": "code",
   "execution_count": 3,
   "id": "05ac0fd8",
   "metadata": {
    "ExecuteTime": {
     "end_time": "2022-12-10T07:31:17.442665Z",
     "start_time": "2022-12-10T07:31:17.418666Z"
    },
    "scrolled": true
   },
   "outputs": [],
   "source": [
    "NDVI_data = ee.ImageCollection(\"MODIS/061/MOD13A2\")\n",
    "EVI_data = ee.ImageCollection(\"MODIS/061/MOD13A2\")\n",
    "PRCP_data = ee.ImageCollection(\"ECMWF/ERA5_LAND/HOURLY\")\n",
    "Tas_data = ee.ImageCollection(\"ECMWF/ERA5_LAND/HOURLY\")\n",
    "# PRCP_2022_data = PRCP_data.filter(ee.Filter.calendarRange(2022,2022,'year')).filter(ee.Filter.calendarRange(6,8,'month')).select(\"total_precipitation\").sum()\n",
    "# Tas_2022_data = Tas_data.filter(ee.Filter.calendarRange(2022,2022,'year')).filter(ee.Filter.calendarRange(6,8,'month')).select(\"temperature_2m\").mean()\n",
    "EVI_2022_data = EVI_data.filter(ee.Filter.calendarRange(2022,2022,'year')).filter(ee.Filter.calendarRange(6,8,'month')).select(\"EVI\").map(Mul_).mean()\n",
    "NDVI_2022_data = NDVI_data.filter(ee.Filter.calendarRange(2022,2022,'year')).filter(ee.Filter.calendarRange(6,8,'month')).select(\"NDVI\").map(Mul_).mean()\n",
    "\n",
    "# geemap.ee_export_image_to_drive(PRCP_2022_data,description = 'PRCP_2022_sum' ,crs =  \"EPSG:4326\",scale =  10000,region =  roi,folder='GEE_down')\n",
    "# geemap.ee_export_image_to_drive(Tas_2022_data,description = 'Tas_2022_mean' ,crs =  \"EPSG:4326\",scale =  10000,region =  roi,folder='GEE_down')\n",
    "# geemap.ee_export_image_to_drive(EVI_2022_data,description = 'EVI_2022_mean' ,crs =  \"EPSG:4326\",scale =  10000,region =  roi,folder='GEE_down')\n",
    "# geemap.ee_export_image_to_drive(NDVI_2022_data,description = 'NDVI_2022_mean' ,crs =  \"EPSG:4326\",scale =  10000,region =  roi,folder='GEE_down')\n",
    "# try:\n",
    "#     geemap.ee_export_image(PRCP_2022_data, 'E:/GEE_down/' + 'PRCP_2022_sum.tif', scale=10000, crs=\"EPSG:4326\", region=roi, file_per_band=False)\n",
    "# except:\n",
    "#     geemap.ee_export_image(PRCP_2022_data, 'E:/GEE_down/' + 'PRCP_2022_sum.tif', scale=10000, crs=\"EPSG:4326\", region=roi, file_per_band=False)\n",
    "# try:\n",
    "#     geemap.ee_export_image(Tas_2022_data, 'E:/GEE_down/' + 'Tas_2022_mean.tif', scale=10000, crs=\"EPSG:4326\", region=roi, file_per_band=False)\n",
    "# except:\n",
    "#     geemap.ee_export_image(Tas_2022_data, 'E:/GEE_down/' + 'Tas_2022_mean.tif', scale=10000, crs=\"EPSG:4326\", region=roi, file_per_band=False)\n",
    "# try:\n",
    "#     geemap.ee_export_image(EVI_2022_data, 'E:/GEE_down/' + 'EVI_2022_mean.tif', scale=10000, crs=\"EPSG:4326\", region=roi, file_per_band=False)\n",
    "# except:\n",
    "#     geemap.ee_export_image(EVI_2022_data, 'E:/GEE_down/' + 'EVI_2022_mean.tif', scale=10000, crs=\"EPSG:4326\", region=roi, file_per_band=False)\n",
    "# try:\n",
    "#     geemap.ee_export_image(NDVI_2022_data, 'E:/GEE_down/' + 'NDVI_2022_mean.tif', scale=10000, crs=\"EPSG:4326\", region=roi, file_per_band=False)\n",
    "# except:\n",
    "#     geemap.ee_export_image(NDVI_2022_data, 'E:/GEE_down/' + 'NDVI_2022_mean.tif', scale=10000, crs=\"EPSG:4326\", region=roi, file_per_band=False)\n",
    "\n",
    "# user_gee.clip_dow_merge(roi,PRCP_2022_data,'E:/GEE_down/' + 'PRCP_2022_sum',10000,2, crs='EPSG:4326')\n",
    "# user_gee.clip_dow_merge(roi,Tas_2022_data,'E:/GEE_down/' + 'Tas_2022_mean',10000,2, crs='EPSG:4326')\n",
    "# user_gee.clip_dow_merge(roi,EVI_2022_data,'E:/GEE_down/' + 'EVI_2022_mean',10000,4, crs='EPSG:4326')\n",
    "# user_gee.clip_dow_merge(roi,NDVI_2022_data,'E:/GEE_down/' + 'NDVI_2022_mean',10000,4, crs='EPSG:4326')"
   ]
  },
  {
   "cell_type": "code",
   "execution_count": null,
   "id": "e6ade26f",
   "metadata": {
    "ExecuteTime": {
     "end_time": "2022-12-10T06:28:12.734087Z",
     "start_time": "2022-12-10T06:28:04.734273Z"
    }
   },
   "outputs": [],
   "source": [
    "!earthengine task list"
   ]
  },
  {
   "cell_type": "code",
   "execution_count": null,
   "id": "b9e473dc",
   "metadata": {
    "ExecuteTime": {
     "end_time": "2022-12-10T06:27:43.436354Z",
     "start_time": "2022-12-10T06:27:31.340038Z"
    }
   },
   "outputs": [],
   "source": [
    "!earthengine task cancel all"
   ]
  },
  {
   "cell_type": "code",
   "execution_count": null,
   "id": "5c83d178",
   "metadata": {
    "ExecuteTime": {
     "start_time": "2022-12-10T07:28:48.949Z"
    }
   },
   "outputs": [],
   "source": [
    "# Tas_all_data = Tas_data.filter(ee.Filter.calendarRange(2000,2021,'year')).filter(ee.Filter.calendarRange(6,8,'month')).select(\"temperature_2m\").mean()\n",
    "EVI_all_data = EVI_data.filter(ee.Filter.calendarRange(2000,2021,'year')).filter(ee.Filter.calendarRange(6,8,'month')).select(\"EVI\").map(Mul_).mean()\n",
    "NDVI_all_data = NDVI_data.filter(ee.Filter.calendarRange(2000,2021,'year')).filter(ee.Filter.calendarRange(6,8,'month')).select(\"NDVI\").map(Mul_).mean()\n",
    "\n",
    "# geemap.ee_export_image_to_drive(Tas_all_data,description = 'Tas_22_mean' ,crs =  \"EPSG:4326\",scale =  10000,region =  roi,folder='GEE_down')\n",
    "# geemap.ee_export_image_to_drive(EVI_all_data,description = 'EVI_22_mean' ,crs =  \"EPSG:4326\",scale =  10000,region =  roi,folder='GEE_down')\n",
    "# geemap.ee_export_image_to_drive(NDVI_all_data,description = 'NDVI_22_mean' ,crs =  \"EPSG:4326\",scale =  10000,region =  roi,folder='GEE_down')\n",
    "\n",
    "\n",
    "# geemap.ee_export_image(Tas_all_data, 'E:/GEE_down/' + 'Tas_22_mean.tif', scale=10000, crs=\"EPSG:4326\", region=roi, file_per_band=False)\n",
    "# geemap.ee_export_image(EVI_all_data, 'E:/GEE_down/' + 'EVI_22_mean.tif', scale=10000, crs=\"EPSG:4326\", region=roi, file_per_band=False)\n",
    "# geemap.ee_export_image(NDVI_all_data, 'E:/GEE_down/' + 'NDVI_22_mean.tif', scale=10000, crs=\"EPSG:4326\", region=roi, file_per_band=False)\n",
    "\n",
    "# user_gee.clip_dow_merge(roi,Tas_2022_data,'E:/GEE_down/' + 'Tas_22_mean',10000,2, crs='EPSG:4326')\n",
    "# user_gee.clip_dow_merge(roi,EVI_2022_data,'E:/GEE_down/' + 'EVI_22_mean',10000,4, crs='EPSG:4326')\n",
    "# user_gee.clip_dow_merge(roi,NDVI_2022_data,'E:/GEE_down/' + 'NDVI_22_mean',10000,4, crs='EPSG:4326')"
   ]
  },
  {
   "cell_type": "code",
   "execution_count": null,
   "id": "809d8303",
   "metadata": {
    "ExecuteTime": {
     "start_time": "2022-12-10T07:31:24.095Z"
    },
    "code_folding": [],
    "scrolled": false
   },
   "outputs": [
    {
     "name": "stdout",
     "output_type": "stream",
     "text": [
      "2000\n",
      "2001\n",
      "2002\n",
      "2003\n",
      "2004\n",
      "2005\n",
      "2006\n",
      "2007\n",
      "2008\n",
      "2009\n",
      "2010\n",
      "2011\n",
      "2012\n",
      "2013\n",
      "2014\n",
      "2015\n",
      "2016\n",
      "2017\n",
      "2018\n",
      "2019\n",
      "2020\n",
      "2021\n"
     ]
    }
   ],
   "source": [
    "cols_list = ee.List([])\n",
    "for year in range(2000,2022):\n",
    "    PRCP_6_8_data = PRCP_data.filter(ee.Filter.calendarRange(year,year+1,'year')).filter(ee.Filter.calendarRange(6,8,'month')).select(\"total_precipitation\").sum()\n",
    "    cols_list = cols_list.add(PRCP_6_8_data)\n",
    "cols = ee.ImageCollection.fromImages(cols_list)\n",
    "print(cols.size().getInfo())\n",
    "PRCP_mean = cols.mean()\n",
    "# geemap.ee_export_image_to_drive(PRCP_mean,description = 'PRCP_22_mean' ,crs =  \"EPSG:4326\",scale =  10000,region =  roi,folder='GEE_down')\n",
    "# geemap.ee_export_image(PRCP_mean, 'E:/GEE_down/' + 'PRCP_22_mean.tif', scale=10000, crs=\"EPSG:4326\", region=roi, file_per_band=False)"
   ]
  },
  {
   "cell_type": "code",
   "execution_count": null,
   "id": "30d16e9a",
   "metadata": {},
   "outputs": [],
   "source": []
  }
 ],
 "metadata": {
  "kernelspec": {
   "display_name": "Python 3 (ipykernel)",
   "language": "python",
   "name": "python3"
  },
  "language_info": {
   "codemirror_mode": {
    "name": "ipython",
    "version": 3
   },
   "file_extension": ".py",
   "mimetype": "text/x-python",
   "name": "python",
   "nbconvert_exporter": "python",
   "pygments_lexer": "ipython3",
   "version": "3.9.7"
  },
  "toc": {
   "base_numbering": 1,
   "nav_menu": {},
   "number_sections": true,
   "sideBar": true,
   "skip_h1_title": false,
   "title_cell": "Table of Contents",
   "title_sidebar": "Contents",
   "toc_cell": false,
   "toc_position": {},
   "toc_section_display": true,
   "toc_window_display": false
  },
  "varInspector": {
   "cols": {
    "lenName": 16,
    "lenType": 16,
    "lenVar": 40
   },
   "kernels_config": {
    "python": {
     "delete_cmd_postfix": "",
     "delete_cmd_prefix": "del ",
     "library": "var_list.py",
     "varRefreshCmd": "print(var_dic_list())"
    },
    "r": {
     "delete_cmd_postfix": ") ",
     "delete_cmd_prefix": "rm(",
     "library": "var_list.r",
     "varRefreshCmd": "cat(var_dic_list()) "
    }
   },
   "types_to_exclude": [
    "module",
    "function",
    "builtin_function_or_method",
    "instance",
    "_Feature"
   ],
   "window_display": false
  }
 },
 "nbformat": 4,
 "nbformat_minor": 5
}
