{
 "cells": [
  {
   "cell_type": "code",
   "execution_count": 1,
   "id": "6b44654f",
   "metadata": {},
   "outputs": [],
   "source": [
    "import geemap,ee\n",
    "import pandas as pd\n",
    "import os\n",
    "\n",
    "ee.Initialize()\n",
    "\n",
    "roi = ee.FeatureCollection(\"users/yehuigeo/poyanghu\")\n",
    "shp = ee.Feature(roi.first()).geometry()"
   ]
  },
  {
   "cell_type": "code",
   "execution_count": 2,
   "id": "38da42e3",
   "metadata": {},
   "outputs": [],
   "source": [
    "def cloudfunction_ST2(image):\n",
    "    # use add the cloud likelihood band to the image\n",
    "    qa = image.select(\"QA60\")\n",
    "    # Bits 10 and 11 are clouds and cirrus, respectively.\n",
    "    cloudBitMask = 1 << 10\n",
    "    cirrusBitMask = 1 << 11\n",
    "\n",
    "    # Both flags should be set to zero, indicating clear conditions.\n",
    "    mask = qa.bitwiseAnd(cloudBitMask).eq(0).And(\n",
    "             qa.bitwiseAnd(cirrusBitMask).eq(0))\n",
    "\n",
    "    # Return the masked and scaled data, without the QA bands.\n",
    "    return image.updateMask(mask).divide(10000)\\\n",
    "        .select(\"B.*\")\\\n",
    "        .copyProperties(image, [\"system:index\",\"system:time_start\"])\n",
    "\n",
    "def NMDI(img):\n",
    "    nmdi = img.expression(\n",
    "        '(NIR-(SWIR1-SWIR2))/(NIR+(SWIR1-SWIR2))', {\n",
    "          'NIR': img.select('B8'),\n",
    "          'SWIR1': img.select('B11'),\n",
    "          'SWIR2':img.select('B12')}).rename('NMDI')\n",
    "    return nmdi\n",
    "\n",
    "def NDVI(img):\n",
    "    ndvi = img.normalizedDifference(['B8', 'B4']).rename('NDVI')\n",
    "    return ndvi"
   ]
  },
  {
   "cell_type": "code",
   "execution_count": 4,
   "id": "c8da4d91",
   "metadata": {},
   "outputs": [
    {
     "name": "stdout",
     "output_type": "stream",
     "text": [
      "影像切割完毕！！！\n",
      "需要下载的影像数: 11\n",
      "\n",
      "Generating URL ...\n",
      "Generating URL ...\n",
      "Downloading data from https://earthengine.googleapis.com/v1alpha/projects/earthengine-legacy/thumbnails/fc6fdad6aff36101cfe6d2d58669bd1f-e84f50c3ec624525d321299d75615cb3:getPixels\n",
      "Please wait ...\n",
      "Downloading data from https://earthengine.googleapis.com/v1alpha/projects/earthengine-legacy/thumbnails/919f672ba0b8e14265a21ee91d958e89-81a4ec02fa4e84b8a85b29050b612b1c:getPixels\n",
      "Please wait ...\n",
      "Data downloaded to C:\\Users\\xiong\\Downloads\\data\\NMDI4_1_mk\\0.tif\n",
      "Generating URL ...\n",
      "Downloading data from https://earthengine.googleapis.com/v1alpha/projects/earthengine-legacy/thumbnails/db5da9b76b0112a95082b21badf5847d-6b614c45d418d19872cafa82411af622:getPixels\n",
      "Please wait ...\n",
      "Data downloaded to C:\\Users\\xiong\\Downloads\\data\\NMDI4_1_mk\\1.tif\n",
      "Generating URL ...\n",
      "Downloading data from https://earthengine.googleapis.com/v1alpha/projects/earthengine-legacy/thumbnails/7cc4b531fc0b18eda95d027d4b79510a-b7858012d406da5180857a395172ad08:getPixels\n",
      "Please wait ...\n",
      "Data downloaded to C:\\Users\\xiong\\Downloads\\data\\NMDI4_1_mk\\2.tif\n",
      "Generating URL ...\n",
      "Downloading data from https://earthengine.googleapis.com/v1alpha/projects/earthengine-legacy/thumbnails/b44ace8bb471e0bd4229329f801b62ad-d779114c1658cbe8b8943077f4e66dc0:getPixels\n",
      "Please wait ...\n",
      "Data downloaded to C:\\Users\\xiong\\Downloads\\data\\NMDI4_1_mk\\3.tif\n",
      "Generating URL ...\n",
      "Downloading data from https://earthengine.googleapis.com/v1alpha/projects/earthengine-legacy/thumbnails/4c3af1e503af9ee7a0423c9526f3c07e-e0955f80131569a645c116570cae2660:getPixels\n",
      "Please wait ...\n",
      "Data downloaded to C:\\Users\\xiong\\Downloads\\data\\NMDI4_1_mk\\4.tif\n",
      "Generating URL ...\n",
      "Downloading data from https://earthengine.googleapis.com/v1alpha/projects/earthengine-legacy/thumbnails/22f410c78f2680f8d5bead646b0db608-fa3ae877ab7c25acfa5e4094b3cbf4f9:getPixels\n",
      "Please wait ...\n",
      "Data downloaded to C:\\Users\\xiong\\Downloads\\data\\NMDI4_1_mk\\5.tif\n",
      "Generating URL ...\n",
      "Downloading data from https://earthengine.googleapis.com/v1alpha/projects/earthengine-legacy/thumbnails/62b421068463fc3686b9837028f79e33-fad417df8e5b284e0b9dfa8c3d1e186f:getPixels\n",
      "Please wait ...\n",
      "Data downloaded to C:\\Users\\xiong\\Downloads\\data\\NMDI4_1_mk\\6.tif\n",
      "Generating URL ...\n",
      "Downloading data from https://earthengine.googleapis.com/v1alpha/projects/earthengine-legacy/thumbnails/5a3922e8bd1fb1280ddd9b1225169b83-401c25665fd74a3f69d0d48a7fdc063c:getPixels\n",
      "Please wait ...\n",
      "Data downloaded to C:\\Users\\xiong\\Downloads\\data\\NMDI4_1_mk\\7.tif\n",
      "Generating URL ...\n",
      "Downloading data from https://earthengine.googleapis.com/v1alpha/projects/earthengine-legacy/thumbnails/0873a293c7ac79510361ff278d0d2a59-488fc24c2601a71bae71db28bd87d40b:getPixels\n",
      "Please wait ...\n",
      "Data downloaded to C:\\Users\\xiong\\Downloads\\data\\NMDI4_1_mk\\8.tif\n",
      "Generating URL ...\n",
      "Downloading data from https://earthengine.googleapis.com/v1alpha/projects/earthengine-legacy/thumbnails/9a0140d3ba8030b73dc5bb8e9d38942e-947ed4ea0cd108cd46a08039b694c9c0:getPixels\n",
      "Please wait ...\n",
      "Data downloaded to C:\\Users\\xiong\\Downloads\\data\\NMDI4_1_mk\\10.tif\n",
      "Data downloaded to C:\\Users\\xiong\\Downloads\\data\\NMDI4_1_mk\\9.tif\n",
      "总耗时:00h02m49s\n"
     ]
    }
   ],
   "source": [
    "bands = ['NMDI']\n",
    "\n",
    "s2m = ee.ImageCollection('COPERNICUS/S2_SR_HARMONIZED')\\\n",
    "            .filter(ee.Filter.calendarRange(2017,2021,'year')).filter(ee.Filter.calendarRange(4,4+1,'month'))\\\n",
    "            .filterBounds(shp)\\\n",
    "            .filter(ee.Filter.lt('CLOUDY_PIXEL_PERCENTAGE',25))\\\n",
    "            .sort('CLOUDY_PIXEL_PERCENTAGE', False)\\\n",
    "            .map(cloudfunction_ST2)\\\n",
    "            .mosaic()\n",
    "\n",
    "s2m = s2m.addBands(NDVI(s2m))\n",
    "s2m = s2m.addBands(NMDI(s2m))\n",
    "s2m = s2m.where(s2m.gt(1),1).where(s2m.lt(0),0)\n",
    "\n",
    "from user_gee import clip_dow_merge\n",
    "clip_dow_merge(shp, s2m.select(bands), r'C:\\Users\\xiong\\Downloads\\data\\NMDI4_1', 20, 10, 'EPSG:3857')"
   ]
  },
  {
   "cell_type": "code",
   "execution_count": null,
   "id": "f0f25552",
   "metadata": {},
   "outputs": [],
   "source": []
  }
 ],
 "metadata": {
  "kernelspec": {
   "display_name": "Python 3 (ipykernel)",
   "language": "python",
   "name": "python3"
  },
  "language_info": {
   "codemirror_mode": {
    "name": "ipython",
    "version": 3
   },
   "file_extension": ".py",
   "mimetype": "text/x-python",
   "name": "python",
   "nbconvert_exporter": "python",
   "pygments_lexer": "ipython3",
   "version": "3.9.7"
  },
  "varInspector": {
   "cols": {
    "lenName": 16,
    "lenType": 16,
    "lenVar": 40
   },
   "kernels_config": {
    "python": {
     "delete_cmd_postfix": "",
     "delete_cmd_prefix": "del ",
     "library": "var_list.py",
     "varRefreshCmd": "print(var_dic_list())"
    },
    "r": {
     "delete_cmd_postfix": ") ",
     "delete_cmd_prefix": "rm(",
     "library": "var_list.r",
     "varRefreshCmd": "cat(var_dic_list()) "
    }
   },
   "types_to_exclude": [
    "module",
    "function",
    "builtin_function_or_method",
    "instance",
    "_Feature"
   ],
   "window_display": false
  }
 },
 "nbformat": 4,
 "nbformat_minor": 5
}
