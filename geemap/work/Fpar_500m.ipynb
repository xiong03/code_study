{
 "cells": [
  {
   "cell_type": "code",
   "execution_count": 1,
   "id": "d7471d82",
   "metadata": {
    "scrolled": true
   },
   "outputs": [
    {
     "data": {
      "application/vnd.jupyter.widget-view+json": {
       "model_id": "9b0707e4b6e94ed690404542d85e14cd",
       "version_major": 2,
       "version_minor": 0
      },
      "text/plain": [
       "Map(center=[20, 0], controls=(WidgetControl(options=['position', 'transparent_bg'], widget=HBox(children=(Togg…"
      ]
     },
     "metadata": {},
     "output_type": "display_data"
    }
   ],
   "source": [
    "import ee,geemap\n",
    "from sg import sg_images\n",
    "from GEE import ee_export\n",
    "import os\n",
    "# # ee.Initialize()\n",
    "Map = geemap.Map()\n",
    "Map"
   ]
  },
  {
   "cell_type": "code",
   "execution_count": 2,
   "id": "b567258e",
   "metadata": {
    "scrolled": true
   },
   "outputs": [],
   "source": [
    "# 空间范围\n",
    "f_shp = r'C:\\Users\\xiong\\Documents\\geemap\\shp\\broader\\jx_bound_boun_albers.shp'\n",
    "ee_shp = geemap.shp_to_ee(f_shp)"
   ]
  },
  {
   "cell_type": "code",
   "execution_count": 3,
   "id": "58388d95",
   "metadata": {},
   "outputs": [],
   "source": [
    "collection1 = ee.ImageCollection(\"MODIS/061/MOD15A2H\")\\\n",
    "            .filterBounds(ee_shp.geometry())\\\n",
    "            .filterDate('2018-03-15','2018-12-31')\\\n",
    "            .select('Fpar_500m')"
   ]
  },
  {
   "cell_type": "code",
   "execution_count": 4,
   "id": "9011346c",
   "metadata": {
    "scrolled": true
   },
   "outputs": [],
   "source": [
    "result = sg_images(collection1,11,10)\n",
    "cols = collection1.aggregate_array('system:id').getInfo()\n",
    "f_dir = r\"C:\\Users\\xiong\\Downloads\\modis\""
   ]
  },
  {
   "cell_type": "code",
   "execution_count": 5,
   "id": "0cd78121",
   "metadata": {},
   "outputs": [],
   "source": [
    "# image = result[0].where(result[0].lte(0),0)"
   ]
  },
  {
   "cell_type": "code",
   "execution_count": 6,
   "id": "25d05463",
   "metadata": {
    "collapsed": true
   },
   "outputs": [
    {
     "name": "stdout",
     "output_type": "stream",
     "text": [
      "Generating URL ...\n",
      "Downloading data from https://earthengine.googleapis.com/v1alpha/projects/earthengine-legacy/thumbnails/91e123e30ca3353c96a199eaed2856ea-aeeb6e53eb28eb8cbe165e4e70a1ff61:getPixels\n",
      "Please wait ...\n",
      "Data downloaded to C:\\Users\\xiong\\Downloads\\modis\\MOD15A2H_2018_03_22.tif\n",
      "Generating URL ...\n",
      "Downloading data from https://earthengine.googleapis.com/v1alpha/projects/earthengine-legacy/thumbnails/5668d1ea9d224d2341d0664c51ab0936-61362400819f9a0869ce068b5f41b783:getPixels\n",
      "Please wait ...\n",
      "Data downloaded to C:\\Users\\xiong\\Downloads\\modis\\MOD15A2H_2018_03_30.tif\n",
      "Generating URL ...\n",
      "Downloading data from https://earthengine.googleapis.com/v1alpha/projects/earthengine-legacy/thumbnails/818a39b5e1612601eaa3ca8a3731d889-72cd05258227ba78ef9b2b6d2c4cb8fc:getPixels\n",
      "Please wait ...\n",
      "Data downloaded to C:\\Users\\xiong\\Downloads\\modis\\MOD15A2H_2018_04_07.tif\n",
      "Generating URL ...\n",
      "Downloading data from https://earthengine.googleapis.com/v1alpha/projects/earthengine-legacy/thumbnails/93b59b70f23687066ac6572b8d000c82-c6c6852ea8f6aa1dd75a1a31edca6bdf:getPixels\n",
      "Please wait ...\n",
      "Data downloaded to C:\\Users\\xiong\\Downloads\\modis\\MOD15A2H_2018_04_15.tif\n",
      "Generating URL ...\n",
      "Downloading data from https://earthengine.googleapis.com/v1alpha/projects/earthengine-legacy/thumbnails/f9f708493bc81e7f9412d411c7b9adf5-021e66d6ad07eff199793245769d56f5:getPixels\n",
      "Please wait ...\n",
      "Data downloaded to C:\\Users\\xiong\\Downloads\\modis\\MOD15A2H_2018_04_23.tif\n",
      "Generating URL ...\n",
      "Downloading data from https://earthengine.googleapis.com/v1alpha/projects/earthengine-legacy/thumbnails/7ef25bbcba97bac2e9c36422e9862490-8fa9927749a38942b044a99bbd74f63a:getPixels\n",
      "Please wait ...\n",
      "Data downloaded to C:\\Users\\xiong\\Downloads\\modis\\MOD15A2H_2018_05_01.tif\n",
      "Generating URL ...\n",
      "Downloading data from https://earthengine.googleapis.com/v1alpha/projects/earthengine-legacy/thumbnails/4f810f7da77164b799b1ef8a6b2a0604-9ff17e04f409d90f88532a7a8b9461c0:getPixels\n",
      "Please wait ...\n",
      "Data downloaded to C:\\Users\\xiong\\Downloads\\modis\\MOD15A2H_2018_05_09.tif\n",
      "Generating URL ...\n",
      "Downloading data from https://earthengine.googleapis.com/v1alpha/projects/earthengine-legacy/thumbnails/87093b3783be991a5b5424b2752ec4d6-3aca3763b6ccb2d259d99e71d3eec5e5:getPixels\n",
      "Please wait ...\n",
      "Data downloaded to C:\\Users\\xiong\\Downloads\\modis\\MOD15A2H_2018_05_17.tif\n",
      "Generating URL ...\n",
      "Downloading data from https://earthengine.googleapis.com/v1alpha/projects/earthengine-legacy/thumbnails/58d7428bf3866554362eaefb566d80fa-666e50e25b97205b845e75879c0659dc:getPixels\n",
      "Please wait ...\n",
      "Data downloaded to C:\\Users\\xiong\\Downloads\\modis\\MOD15A2H_2018_05_25.tif\n",
      "Generating URL ...\n",
      "Downloading data from https://earthengine.googleapis.com/v1alpha/projects/earthengine-legacy/thumbnails/53ae1cc71339f5a1c444e03db3554d18-6b457c5634630a5dd059a7fadc575601:getPixels\n",
      "Please wait ...\n",
      "Data downloaded to C:\\Users\\xiong\\Downloads\\modis\\MOD15A2H_2018_06_02.tif\n",
      "Generating URL ...\n",
      "Downloading data from https://earthengine.googleapis.com/v1alpha/projects/earthengine-legacy/thumbnails/0e8c1d017deed34f60b0926ff1d5820e-abe7030120fb60b9f63374bd1f1f5da5:getPixels\n",
      "Please wait ...\n",
      "Data downloaded to C:\\Users\\xiong\\Downloads\\modis\\MOD15A2H_2018_06_10.tif\n",
      "Generating URL ...\n",
      "Downloading data from https://earthengine.googleapis.com/v1alpha/projects/earthengine-legacy/thumbnails/51647c91803054d544b9696ca04c27f8-a5409623460a50a4f441b9c0bd72475d:getPixels\n",
      "Please wait ...\n",
      "Data downloaded to C:\\Users\\xiong\\Downloads\\modis\\MOD15A2H_2018_06_18.tif\n",
      "Generating URL ...\n",
      "Downloading data from https://earthengine.googleapis.com/v1alpha/projects/earthengine-legacy/thumbnails/188b12f96e4d901a9f7ac3b31496c3f0-0a5707a9c63fcfc5f87e508464088705:getPixels\n",
      "Please wait ...\n",
      "Data downloaded to C:\\Users\\xiong\\Downloads\\modis\\MOD15A2H_2018_06_26.tif\n",
      "Generating URL ...\n",
      "Downloading data from https://earthengine.googleapis.com/v1alpha/projects/earthengine-legacy/thumbnails/575d2b9e62b88bd6948b7b9a0e64a5aa-6003b47ff1349f996a2d00f83e260b87:getPixels\n",
      "Please wait ...\n",
      "Data downloaded to C:\\Users\\xiong\\Downloads\\modis\\MOD15A2H_2018_07_04.tif\n",
      "Generating URL ...\n",
      "Downloading data from https://earthengine.googleapis.com/v1alpha/projects/earthengine-legacy/thumbnails/6d58b294c85756614206f570bc3f1ee7-817c40ff4fe9fb85b47f0104348e6aee:getPixels\n",
      "Please wait ...\n",
      "Data downloaded to C:\\Users\\xiong\\Downloads\\modis\\MOD15A2H_2018_07_12.tif\n",
      "Generating URL ...\n",
      "Downloading data from https://earthengine.googleapis.com/v1alpha/projects/earthengine-legacy/thumbnails/dc45f79369b96668064854e40439d292-ce5f2b6dfd075f10ec722bab63e261d7:getPixels\n",
      "Please wait ...\n",
      "Data downloaded to C:\\Users\\xiong\\Downloads\\modis\\MOD15A2H_2018_07_20.tif\n",
      "Generating URL ...\n",
      "Downloading data from https://earthengine.googleapis.com/v1alpha/projects/earthengine-legacy/thumbnails/cd4b73e55151ce98307b9f438fb6621b-e0c17ae75d5b82852bd7f13e5f3becee:getPixels\n",
      "Please wait ...\n",
      "Data downloaded to C:\\Users\\xiong\\Downloads\\modis\\MOD15A2H_2018_07_28.tif\n",
      "Generating URL ...\n",
      "Downloading data from https://earthengine.googleapis.com/v1alpha/projects/earthengine-legacy/thumbnails/5f284b606e042d97c05a016a9a398004-1a1f603e2d5f2efa850697e2e8dfda52:getPixels\n",
      "Please wait ...\n",
      "Data downloaded to C:\\Users\\xiong\\Downloads\\modis\\MOD15A2H_2018_08_05.tif\n",
      "Generating URL ...\n",
      "Downloading data from https://earthengine.googleapis.com/v1alpha/projects/earthengine-legacy/thumbnails/a0c2de759dcc55d54c016ba9b453224b-e6793bcce644a69d9ed1d98dc4092e9a:getPixels\n",
      "Please wait ...\n",
      "Data downloaded to C:\\Users\\xiong\\Downloads\\modis\\MOD15A2H_2018_08_13.tif\n",
      "Generating URL ...\n",
      "Downloading data from https://earthengine.googleapis.com/v1alpha/projects/earthengine-legacy/thumbnails/bcabf28c1d512aad826abc907b2243c3-7fbe2a470641cd1acaf3c5880fdc79c7:getPixels\n",
      "Please wait ...\n",
      "Data downloaded to C:\\Users\\xiong\\Downloads\\modis\\MOD15A2H_2018_08_21.tif\n",
      "Generating URL ...\n",
      "Downloading data from https://earthengine.googleapis.com/v1alpha/projects/earthengine-legacy/thumbnails/cf0aeec8a88fe4df748742170b8f1855-d7e3ebece3e978115c20ada7755b383a:getPixels\n",
      "Please wait ...\n",
      "Data downloaded to C:\\Users\\xiong\\Downloads\\modis\\MOD15A2H_2018_08_29.tif\n",
      "Generating URL ...\n",
      "Downloading data from https://earthengine.googleapis.com/v1alpha/projects/earthengine-legacy/thumbnails/4269e99f51bb6504303e657195210ef6-031b4bbca5fe7bcca8b3ba329d4be132:getPixels\n",
      "Please wait ...\n",
      "Data downloaded to C:\\Users\\xiong\\Downloads\\modis\\MOD15A2H_2018_09_06.tif\n",
      "Generating URL ...\n",
      "Downloading data from https://earthengine.googleapis.com/v1alpha/projects/earthengine-legacy/thumbnails/e3a781c8fb5d5e0039f4cec17fda5c7c-e44a494050106563b5f9129e781d21a1:getPixels\n",
      "Please wait ...\n",
      "Data downloaded to C:\\Users\\xiong\\Downloads\\modis\\MOD15A2H_2018_09_14.tif\n",
      "Generating URL ...\n",
      "Downloading data from https://earthengine.googleapis.com/v1alpha/projects/earthengine-legacy/thumbnails/6e8274a7efe1958337ad9f736d37d4b2-23f8bf566112e608053359ec18806fe4:getPixels\n",
      "Please wait ...\n",
      "Data downloaded to C:\\Users\\xiong\\Downloads\\modis\\MOD15A2H_2018_09_22.tif\n",
      "Generating URL ...\n",
      "Downloading data from https://earthengine.googleapis.com/v1alpha/projects/earthengine-legacy/thumbnails/91831559c9725f629561fa4ff449d772-8d85b9d35790dff3046be18fa936c1de:getPixels\n",
      "Please wait ...\n",
      "Data downloaded to C:\\Users\\xiong\\Downloads\\modis\\MOD15A2H_2018_09_30.tif\n",
      "Generating URL ...\n",
      "Downloading data from https://earthengine.googleapis.com/v1alpha/projects/earthengine-legacy/thumbnails/046e210137bae85eb629a689673c5e41-335d21b4fccdfacf2253bf9dd8baa4b6:getPixels\n",
      "Please wait ...\n",
      "Data downloaded to C:\\Users\\xiong\\Downloads\\modis\\MOD15A2H_2018_10_08.tif\n",
      "Generating URL ...\n",
      "Downloading data from https://earthengine.googleapis.com/v1alpha/projects/earthengine-legacy/thumbnails/692cdad2cc949981768974b6d01a74ca-d99888a29cde0eb5e23f8a3ccb04c85c:getPixels\n",
      "Please wait ...\n",
      "Data downloaded to C:\\Users\\xiong\\Downloads\\modis\\MOD15A2H_2018_10_16.tif\n",
      "Generating URL ...\n",
      "Downloading data from https://earthengine.googleapis.com/v1alpha/projects/earthengine-legacy/thumbnails/2a80d765a0f2f80bb7d3ee4f983df5ea-c0116869152657b6a74751d7fd90cc12:getPixels\n",
      "Please wait ...\n",
      "Data downloaded to C:\\Users\\xiong\\Downloads\\modis\\MOD15A2H_2018_10_24.tif\n",
      "Generating URL ...\n",
      "Downloading data from https://earthengine.googleapis.com/v1alpha/projects/earthengine-legacy/thumbnails/659250e4e368e87690799dd3a2c79340-b9b7495899f362633b0a270feff663e9:getPixels\n",
      "Please wait ...\n"
     ]
    },
    {
     "name": "stdout",
     "output_type": "stream",
     "text": [
      "Data downloaded to C:\\Users\\xiong\\Downloads\\modis\\MOD15A2H_2018_11_01.tif\n",
      "Generating URL ...\n",
      "Downloading data from https://earthengine.googleapis.com/v1alpha/projects/earthengine-legacy/thumbnails/a1aa6ba475c3574f1b5705eb96678e2e-6265bfe10746b540ab657ae8bf6f05aa:getPixels\n",
      "Please wait ...\n",
      "Data downloaded to C:\\Users\\xiong\\Downloads\\modis\\MOD15A2H_2018_11_09.tif\n",
      "Generating URL ...\n",
      "Downloading data from https://earthengine.googleapis.com/v1alpha/projects/earthengine-legacy/thumbnails/1b4427678e5d7a06f13e1381b506bca3-708b47ee853e3fd0620a32ae0289392b:getPixels\n",
      "Please wait ...\n",
      "Data downloaded to C:\\Users\\xiong\\Downloads\\modis\\MOD15A2H_2018_11_17.tif\n",
      "Generating URL ...\n",
      "Downloading data from https://earthengine.googleapis.com/v1alpha/projects/earthengine-legacy/thumbnails/27774c3a0f1343b205b29451d7593c80-5d2c468a49d4f71e0efb42d672231eb1:getPixels\n",
      "Please wait ...\n",
      "Data downloaded to C:\\Users\\xiong\\Downloads\\modis\\MOD15A2H_2018_11_25.tif\n",
      "Generating URL ...\n",
      "Downloading data from https://earthengine.googleapis.com/v1alpha/projects/earthengine-legacy/thumbnails/8119d3dff6e79866964343151f823c89-c5e1243b6625c72a4fa953d5c83439de:getPixels\n",
      "Please wait ...\n",
      "Data downloaded to C:\\Users\\xiong\\Downloads\\modis\\MOD15A2H_2018_12_03.tif\n",
      "Generating URL ...\n",
      "Downloading data from https://earthengine.googleapis.com/v1alpha/projects/earthengine-legacy/thumbnails/88892422c3925ac3d492ff3f70a4d59d-c4d64325912bd9033c6d978c649b124f:getPixels\n",
      "Please wait ...\n",
      "Data downloaded to C:\\Users\\xiong\\Downloads\\modis\\MOD15A2H_2018_12_11.tif\n",
      "Generating URL ...\n",
      "Downloading data from https://earthengine.googleapis.com/v1alpha/projects/earthengine-legacy/thumbnails/1c0f101c3ca8f794cb9ff7e21f4d9948-de8dc3eee6a3d8a2cd28bf58de66d7ef:getPixels\n",
      "Please wait ...\n",
      "Data downloaded to C:\\Users\\xiong\\Downloads\\modis\\MOD15A2H_2018_12_19.tif\n",
      "Generating URL ...\n",
      "Downloading data from https://earthengine.googleapis.com/v1alpha/projects/earthengine-legacy/thumbnails/c055be8792280e840b8d3580d89eddc1-69b71edbac03768862c5af8e8ab48780:getPixels\n",
      "Please wait ...\n",
      "Data downloaded to C:\\Users\\xiong\\Downloads\\modis\\MOD15A2H_2018_12_27.tif\n"
     ]
    }
   ],
   "source": [
    "for image, i in zip(result, cols):\n",
    "    image = image.where(image.lte(0),0)\n",
    "    image = image.divide(100)\n",
    "    # 将填充值mask\n",
    "    bare = image.select(0).lte(1)\n",
    "    image = image.updateMask(bare)\n",
    "    a = i.split('/')[2:]\n",
    "    b = '_'.join(a)\n",
    "    f_img = f_dir + os.sep + b\n",
    "    geemap.ee_export_image(image, f_img+'.tif',scale=500, crs=ee.Image('users/JunJiang/Albers').projection(), region=ee_shp.geometry())\n",
    "#     ee_export(ee_shp.geometry(), image, f_img, 500, crs=ee.Image('users/JunJiang/Albers').projection(), sep=0.2)"
   ]
  },
  {
   "cell_type": "code",
   "execution_count": 7,
   "id": "60febf0e",
   "metadata": {},
   "outputs": [],
   "source": [
    "# def fun(image, i):\n",
    "#     try:\n",
    "#         a = i.split('/')[2:]\n",
    "#         b = '_'.join(a)\n",
    "#         f_img = f_dir + os.sep + b+'.tif'\n",
    "#         if not os.path.exists(outfile + \".tif\"):\n",
    "#             print('please wait....')\n",
    "#             geemap.ee_export_image(image, f_img, scale=500, crs=ee.Image('projects/ee-junjiang/assets/Albers_Conic_Equal_Area').projection()\n",
    "#                                    , region=ee_shp.geometry(), file_per_band=True)\n",
    "#             print(f'successful {b}')\n",
    "#         else:\n",
    "#             print(f_img +\"已存在\")\n",
    "#     except:\n",
    "#         fun(image,i)"
   ]
  }
 ],
 "metadata": {
  "kernelspec": {
   "display_name": "Python 3 (ipykernel)",
   "language": "python",
   "name": "python3"
  },
  "language_info": {
   "codemirror_mode": {
    "name": "ipython",
    "version": 3
   },
   "file_extension": ".py",
   "mimetype": "text/x-python",
   "name": "python",
   "nbconvert_exporter": "python",
   "pygments_lexer": "ipython3",
   "version": "3.9.7"
  },
  "varInspector": {
   "cols": {
    "lenName": 16,
    "lenType": 16,
    "lenVar": 40
   },
   "kernels_config": {
    "python": {
     "delete_cmd_postfix": "",
     "delete_cmd_prefix": "del ",
     "library": "var_list.py",
     "varRefreshCmd": "print(var_dic_list())"
    },
    "r": {
     "delete_cmd_postfix": ") ",
     "delete_cmd_prefix": "rm(",
     "library": "var_list.r",
     "varRefreshCmd": "cat(var_dic_list()) "
    }
   },
   "types_to_exclude": [
    "module",
    "function",
    "builtin_function_or_method",
    "instance",
    "_Feature"
   ],
   "window_display": false
  }
 },
 "nbformat": 4,
 "nbformat_minor": 5
}
