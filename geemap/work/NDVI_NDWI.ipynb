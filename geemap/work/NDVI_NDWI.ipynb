{
 "cells": [
  {
   "cell_type": "code",
   "execution_count": 1,
   "id": "21c30958",
   "metadata": {},
   "outputs": [
    {
     "name": "stdout",
     "output_type": "stream",
     "text": [
      "37\n"
     ]
    }
   ],
   "source": [
    "import geemap,ee\n",
    "import pandas as pd\n",
    "import os\n",
    "\n",
    "ee.Initialize()\n",
    "\n",
    "path = r'C:\\Users\\xiong\\Documents\\geemap\\shp\\jxwgs'+os.sep+'jx.shp'\n",
    "ee_shp = geemap.shp_to_ee(path)\n",
    "jx = ee_shp.geometry()\n",
    "\n",
    "path = r'C:/Users/xiong/Documents/geemap/shp/2m/vi-wi'+os.sep+'point1.shp'\n",
    "sample = geemap.shp_to_ee(path)\n",
    "\n",
    "print(sample.size().getInfo())\n",
    "Map = geemap.Map()\n",
    "# Map"
   ]
  },
  {
   "cell_type": "code",
   "execution_count": 2,
   "id": "2c32af2a",
   "metadata": {},
   "outputs": [],
   "source": [
    "# NDWI LSWI mNDWI NMDI\n",
    "\n",
    "def cloudfunction_ST2(image):\n",
    "    # use add the cloud likelihood band to the image\n",
    "    qa = image.select(\"QA60\")\n",
    "    # Bits 10 and 11 are clouds and cirrus, respectively.\n",
    "    cloudBitMask = 1 << 10\n",
    "    cirrusBitMask = 1 << 11\n",
    "\n",
    "    # Both flags should be set to zero, indicating clear conditions.\n",
    "    mask = qa.bitwiseAnd(cloudBitMask).eq(0).And(\n",
    "             qa.bitwiseAnd(cirrusBitMask).eq(0))\n",
    "\n",
    "    # Return the masked and scaled data, without the QA bands.\n",
    "    return image.updateMask(mask).divide(10000)\\\n",
    "        .select(\"B.*\")\\\n",
    "        .copyProperties(image, [\"system:index\",\"system:time_start\"])\n",
    "\n",
    "def NDWI(img):\n",
    "    ndwi = img.normalizedDifference(['B3', 'B8']).rename('NDWI')\n",
    "    return ndwi\n",
    "\n",
    "def NDVI(img):\n",
    "    ndvi = img.normalizedDifference(['B8', 'B4']).rename('NDVI')\n",
    "    return ndvi\n",
    "\n",
    "def mNDWI(img):\n",
    "    mndwi = img.normalizedDifference(['B3', 'B11']).rename('mNDWI')\n",
    "    return mndwi\n",
    "    \n",
    "def LSWI(img):\n",
    "    lswi = img.normalizedDifference(['B8', 'B11']).rename('LSWI')\n",
    "    return lswi\n",
    "\n",
    "def NMDI(img):\n",
    "    nwdi = img.expression(\n",
    "        '(NIR-(SWIR1-SWIR2))/(NIR+(SWIR1-SWIR2))', {\n",
    "          'NIR': img.select('B8'),\n",
    "          'SWIR1': img.select('B11'),\n",
    "          'SWIR2':img.select('B12')}).rename('NMDI')\n",
    "    return nwdi\n",
    "\n",
    "def EVI(img):\n",
    "    nir = img.select(\"B8\")\n",
    "    red = img.select(\"B4\")\n",
    "    blue = img.select(\"B2\")\n",
    "    evi = img.expression(\"2.5*(B4 - B3)/(B4 + 6*B3 - 7.5*B1 + 1)\",{\"B4\": nir,\"B3\": red ,\"B1\": blue})\n",
    "    evi = evi.rename('EVI')\n",
    "    return evi\n",
    "\n",
    "# 获取ps点的img数据，col_names为要筛选的波段数据\n",
    "def sample_points_to_df(img, ps, col_names=None):\n",
    "    ps_data = img.sampleRegions(ps, \n",
    "                                geometries=True, \n",
    "                                scale=ee.ImageCollection('COPERNICUS/S2').first().select(0).projection().nominalScale())\n",
    "    values_list = [f['properties'] for f in ps_data.getInfo()[\"features\"]]\n",
    "    if col_names == None:\n",
    "        values_df = pd.DataFrame(values_list)\n",
    "    else:\n",
    "        values_df = pd.DataFrame(values_list)[col_names]\n",
    "    return values_df"
   ]
  },
  {
   "cell_type": "code",
   "execution_count": 3,
   "id": "d7eb94c5",
   "metadata": {},
   "outputs": [
    {
     "name": "stdout",
     "output_type": "stream",
     "text": [
      "3-4-5-6-7-8-9-10-"
     ]
    }
   ],
   "source": [
    "bands = ['NDVI','NDWI','mNDWI','LSWI','NMDI','EVI']\n",
    "\n",
    "for month in range(3,11):\n",
    "    print(month,end='-')\n",
    "    outfile = r'C:\\Users\\xiong\\Downloads\\vi-wi'+os.sep+str(month)+'.csv'\n",
    "    \n",
    "#     !jupyter notebook --NotebookApp.iopub_data_rate_limit=10000000 \n",
    "    \n",
    "    if os.path.exists(outfile):\n",
    "        continue\n",
    "    \n",
    "    s2m = ee.ImageCollection('COPERNICUS/S2_SR_HARMONIZED')\\\n",
    "            .filter(ee.Filter.calendarRange(2017,2021,'year')).filter(ee.Filter.calendarRange(month,month+1,'month'))\\\n",
    "            .filterBounds(jx)\\\n",
    "            .filter(ee.Filter.lt('CLOUDY_PIXEL_PERCENTAGE',25))\\\n",
    "            .sort('CLOUDY_PIXEL_PERCENTAGE', False)\\\n",
    "            .map(cloudfunction_ST2)\\\n",
    "            .mosaic()\n",
    "\n",
    "    s2m = s2m.addBands(NDWI(s2m))\n",
    "    s2m = s2m.addBands(NDVI(s2m))\n",
    "    s2m = s2m.addBands(mNDWI(s2m))\n",
    "    s2m = s2m.addBands(LSWI(s2m))\n",
    "    s2m = s2m.addBands(NMDI(s2m))\n",
    "    s2m = s2m.addBands(EVI(s2m))\n",
    "    \n",
    "#     r_shp = s2m.select(bands).sampleRegions(collection=sample,\n",
    "#                               scale=ee.ImageCollection('COPERNICUS/S2').first().select(0).projection().nominalScale().getInfo(), \n",
    "#                               geometries=True)\n",
    "    \n",
    "#     arr = r_shp.reduceColumns(ee.Reducer.toList(len(bands)), bands).values().get(0).getInfo()\n",
    "#     df = pd.DataFrame(arr,columns=bands)\n",
    "    \n",
    "    df = sample_points_to_df(s2m,sample,bands)\n",
    "\n",
    "    df.to_csv(outfile,index=False,header=True)\n",
    "#     print(r_shp.size().getInfo())"
   ]
  },
  {
   "cell_type": "code",
   "execution_count": null,
   "id": "be8f5cca",
   "metadata": {},
   "outputs": [],
   "source": []
  }
 ],
 "metadata": {
  "kernelspec": {
   "display_name": "Python 3 (ipykernel)",
   "language": "python",
   "name": "python3"
  },
  "language_info": {
   "codemirror_mode": {
    "name": "ipython",
    "version": 3
   },
   "file_extension": ".py",
   "mimetype": "text/x-python",
   "name": "python",
   "nbconvert_exporter": "python",
   "pygments_lexer": "ipython3",
   "version": "3.9.7"
  },
  "varInspector": {
   "cols": {
    "lenName": 16,
    "lenType": 16,
    "lenVar": 40
   },
   "kernels_config": {
    "python": {
     "delete_cmd_postfix": "",
     "delete_cmd_prefix": "del ",
     "library": "var_list.py",
     "varRefreshCmd": "print(var_dic_list())"
    },
    "r": {
     "delete_cmd_postfix": ") ",
     "delete_cmd_prefix": "rm(",
     "library": "var_list.r",
     "varRefreshCmd": "cat(var_dic_list()) "
    }
   },
   "types_to_exclude": [
    "module",
    "function",
    "builtin_function_or_method",
    "instance",
    "_Feature"
   ],
   "window_display": false
  }
 },
 "nbformat": 4,
 "nbformat_minor": 5
}
