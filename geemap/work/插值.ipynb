{
 "cells": [
  {
   "cell_type": "code",
   "execution_count": 1,
   "id": "89ffb842",
   "metadata": {},
   "outputs": [],
   "source": [
    "import geemap,ee\n",
    "from ployinterp import ployinterp_column\n",
    "\n",
    "ee.Initialize()\n",
    "\n",
    "jx = geemap.shp_to_ee(r'C:\\Users\\xiong\\Documents\\geemap\\shp\\boundary\\boundary2.shp')\n",
    "\n",
    "image1 = ee.ImageCollection(\"MODIS/MCD43A4_006_NDVI\")\\\n",
    "                .filterDate('2018-01-01','2018-02-01')\\\n",
    "                .first().clip(jx.geometry())\n",
    "image2 = ee.ImageCollection(\"MODIS/MCD43A4_006_NDVI\")\\\n",
    "                .filterDate('2019-01-01','2019-02-01')\\\n",
    "                .first().clip(jx.geometry())\n",
    "image3 = ee.ImageCollection(\"MODIS/MCD43A4_006_NDVI\")\\\n",
    "                .filterDate('2020-01-01','2020-02-01')\\\n",
    "                .first().clip(jx.geometry())\n",
    "List = [image1,image2]"
   ]
  },
  {
   "cell_type": "code",
   "execution_count": 2,
   "id": "c732be52",
   "metadata": {},
   "outputs": [],
   "source": [
    "region = jx.geometry()\n",
    "num=1\n",
    "default_value=0"
   ]
  },
  {
   "cell_type": "code",
   "execution_count": 3,
   "id": "6d793dcd",
   "metadata": {},
   "outputs": [],
   "source": [
    "import traceback\n",
    "import pandas as pd\n",
    "import numpy as np\n",
    "from scipy.interpolate import lagrange\n",
    "import geemap\n",
    "\n",
    "def ployinterp_column(s, n):\n",
    "    List = list(range(0, n)) + list(range(n+1, len(s)))\n",
    "    y = s.values[List] #取数，转换成列表\n",
    "    List = np.array(List)[~np.isnan(y)]\n",
    "    y = y[~np.isnan(y)] #剔除空值\n",
    "    # print(\"List:{},y:{}\".format(List,y))\n",
    "    #print(\"表达式:{}\".format(lagrange(List, y)))\n",
    "    return lagrange(List, y)(n) #插值并返回插值结果，n是被插值的位置\n",
    "\n",
    "\n",
    "arr = geemap.ee_to_numpy(ee_object=List[0],region=region,default_value=default_value)\n",
    "result = pd.DataFrame(arr.reshape(-1,1))\n",
    "\n",
    "for image in List[1:]:\n",
    "    arr_temp = geemap.ee_to_numpy(ee_object=image,region=region,default_value=default_value)\n",
    "    arr_temp = arr_temp.reshape(-1,1)\n",
    "    result = pd.concat([result,pd.DataFrame(arr_temp.reshape(-1,1))],axis=1)\n",
    "\n",
    "result_m = result.mean(axis=1).copy()\n",
    "result_s = np.std(np.array(result),axis=1)\n",
    "\n",
    "result_max = pd.DataFrame(result_m)+pd.DataFrame(result_s)*2\n",
    "result_min = pd.DataFrame(result_m)-pd.DataFrame(result_s)*2\n",
    "del result_m,result_s\n",
    "\n",
    "result.columns = [i for i in range(len(List))]\n",
    "\n",
    "r_handle = result[[num]].copy()\n",
    "\n",
    "for n, Max, Min, data in zip(result.index, result_max.values, result_min.values, r_handle.values):\n",
    "    if (data[0] < Min[0]) or (data[0] > Max[0]) or (data[0] == default_value):\n",
    "        r_handle.iloc[n,0] = default_value\n",
    "        r_handle.iloc[n,0] = ployinterp_column(result.iloc[n],num)\n",
    "\n",
    "r_arr = np.array(r_handle).astype(type(List[0])).reshape(arr.shape[0],arr.shape[1])\n",
    "\n",
    "\n",
    "# numpy to ee\n",
    "# data = geemap.numpy_to_ee(np_array=r_arr,\n",
    "#                   crs=List[0].projection().getInfo()['crs'],\n",
    "#                   transform=List[0].projection().getInfo()['transform'],\n",
    "#                   band_names=List[0].bandNames().getInfo())"
   ]
  },
  {
   "cell_type": "code",
   "execution_count": 7,
   "id": "9632cd6e",
   "metadata": {},
   "outputs": [],
   "source": [
    "crs=List[0].projection().getInfo()['crs']\n",
    "transform=List[0].projection().getInfo()['transform']\n",
    "\n",
    "projection = ee.Projection(crs, transform)\n",
    "coords = ee.Image.pixelCoordinates(projection).floor().int32()\n",
    "x = coords.select(\"x\")\n",
    "y = coords.select(\"y\")\n",
    "s = r_arr.shape\n",
    "if len(s) < 3:\n",
    "    dimx = s[0]\n",
    "    dimy = s[1]\n",
    "else:\n",
    "    dimx = s[1]\n",
    "    dimy = s[2]\n",
    "    dimz = s[0]\n",
    "\n",
    "coord_mask = x.gte(0).And(y.gte(0)).And(x.lt(dimx)).And(y.lt(dimy))\n",
    "coords = coords.updateMask(coord_mask)"
   ]
  },
  {
   "cell_type": "code",
   "execution_count": null,
   "id": "243215ac",
   "metadata": {},
   "outputs": [],
   "source": []
  }
 ],
 "metadata": {
  "kernelspec": {
   "display_name": "Python 3 (ipykernel)",
   "language": "python",
   "name": "python3"
  },
  "language_info": {
   "codemirror_mode": {
    "name": "ipython",
    "version": 3
   },
   "file_extension": ".py",
   "mimetype": "text/x-python",
   "name": "python",
   "nbconvert_exporter": "python",
   "pygments_lexer": "ipython3",
   "version": "3.9.7"
  },
  "varInspector": {
   "cols": {
    "lenName": 16,
    "lenType": 16,
    "lenVar": 40
   },
   "kernels_config": {
    "python": {
     "delete_cmd_postfix": "",
     "delete_cmd_prefix": "del ",
     "library": "var_list.py",
     "varRefreshCmd": "print(var_dic_list())"
    },
    "r": {
     "delete_cmd_postfix": ") ",
     "delete_cmd_prefix": "rm(",
     "library": "var_list.r",
     "varRefreshCmd": "cat(var_dic_list()) "
    }
   },
   "types_to_exclude": [
    "module",
    "function",
    "builtin_function_or_method",
    "instance",
    "_Feature"
   ],
   "window_display": false
  }
 },
 "nbformat": 4,
 "nbformat_minor": 5
}
