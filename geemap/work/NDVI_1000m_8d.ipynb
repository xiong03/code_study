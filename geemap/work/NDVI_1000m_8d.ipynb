{
 "cells": [
  {
   "cell_type": "code",
   "execution_count": 1,
   "id": "6c9fe71a",
   "metadata": {
    "scrolled": true
   },
   "outputs": [],
   "source": [
    "import ee,geemap\n",
    "import os\n",
    "from GEE_xiong import ee_export\n",
    "\n",
    "# ee.Initialize()\n",
    "Map = geemap.Map()\n",
    "\n",
    "fearture = geemap.shp_to_ee(r'C:\\Users\\xiong\\Documents\\geemap\\shp\\model\\bound_dis.shp')\n",
    "roi = fearture.geometry()\n",
    "# Map.addLayer(fearture, {}, 'roi')\n",
    "# Map"
   ]
  },
  {
   "cell_type": "code",
   "execution_count": 2,
   "id": "318a9c9e",
   "metadata": {},
   "outputs": [],
   "source": [
    "def NDVI(image):\n",
    "    ndvi = image.normalizedDifference(['sur_refl_b02', 'sur_refl_b01']).rename('NDVI')\n",
    "    return image.addBands(ndvi)"
   ]
  },
  {
   "cell_type": "code",
   "execution_count": 7,
   "id": "f3343172",
   "metadata": {},
   "outputs": [
    {
     "name": "stdout",
     "output_type": "stream",
     "text": [
      "all successful\n",
      "Generating URL ...\n",
      "Downloading data from https://earthengine.googleapis.com/v1alpha/projects/earthengine-legacy/thumbnails/4c540a32d58bbbaad281bf6df5fcec16-036f7414cfeb1d56c62cd0261c78db02:getPixels\n",
      "Please wait ...\n",
      "Data downloaded to C:\\Users\\xiong\\Downloads\\text\\NIDV_2016201.tif\n",
      "all successful\n",
      "all successful\n",
      "all successful\n",
      "all successful\n",
      "all successful\n"
     ]
    }
   ],
   "source": [
    "for year in range(2015,2021):\n",
    "    collection = ee.ImageCollection(\"MODIS/061/MOD09Q1\")\\\n",
    "                .filterDate('{}-01-01'.format(year), '{}-12-31'.format(year))\\\n",
    "                .filterBounds(roi)\\\n",
    "                .map(NDVI)\n",
    "    path = r'C:\\Users\\xiong\\Downloads\\text'\n",
    "\n",
    "    images = collection.toList(collection.size().getInfo())\n",
    "\n",
    "    for i in range(0,collection.size().getInfo()):\n",
    "\n",
    "        image = ee.Image(images.get(i)).select('NDVI')\n",
    "        image = image.where(image.lte(0),0)\n",
    "        a = 'NIDV_{}'.format(year)+str(i*8+1).zfill(3)\n",
    "    #     print(i)\n",
    "        file = os.path.join(path,a)\n",
    "    #     ee_export(roi, image, file, 1000, crs = ee.Image('users/JunJiang/Albers').projection().getInfo())\n",
    "        if not os.path.exists(file+'.tif'):\n",
    "#             print(file)\n",
    "            geemap.ee_export_image(image,file+'.tif',scale=1000,crs=ee.Image('users/JunJiang/Albers').projection().getInfo()['wkt'],region=roi)\n",
    "    print('all successful')"
   ]
  },
  {
   "cell_type": "code",
   "execution_count": 4,
   "id": "c14d1d8a",
   "metadata": {},
   "outputs": [],
   "source": [
    "# collection = ee.ImageCollection(\"MODIS/061/MOD09Q1\")\\\n",
    "#                 .filterDate('{}-01-01'.format(year), '{}-12-31'.format(year))\\\n",
    "#                 .filterBounds(roi)\\\n",
    "#                 .map(NDVI)"
   ]
  },
  {
   "cell_type": "code",
   "execution_count": 5,
   "id": "5e8cc476",
   "metadata": {},
   "outputs": [],
   "source": [
    "# path = r'C:\\Users\\xiong\\Downloads\\ndvi'\n",
    "\n",
    "# images = collection.toList(collection.size().getInfo())\n",
    "\n",
    "# for i in range(0,collection.size().getInfo()):\n",
    "    \n",
    "#     image = ee.Image(images.get(i)).select('NDVI')\n",
    "#     image = image.where(image.lte(0),0)\n",
    "#     a = 'NIDV_'+str(i*8+1).zfill(3)\n",
    "# #     print(i)\n",
    "#     file = os.path.join(path,a)\n",
    "# #     print(file)\n",
    "# #     ee_export(roi, image, file, 1000, crs = ee.Image('users/JunJiang/Albers').projection().getInfo())\n",
    "#     geemap.ee_export_image(image,file+'.tif',scale=1000,crs=ee.Image('users/JunJiang/Albers').projection().getInfo()['wkt'],region=roi)"
   ]
  },
  {
   "cell_type": "code",
   "execution_count": null,
   "id": "868671b9",
   "metadata": {},
   "outputs": [],
   "source": []
  }
 ],
 "metadata": {
  "kernelspec": {
   "display_name": "Python 3 (ipykernel)",
   "language": "python",
   "name": "python3"
  },
  "language_info": {
   "codemirror_mode": {
    "name": "ipython",
    "version": 3
   },
   "file_extension": ".py",
   "mimetype": "text/x-python",
   "name": "python",
   "nbconvert_exporter": "python",
   "pygments_lexer": "ipython3",
   "version": "3.9.7"
  },
  "varInspector": {
   "cols": {
    "lenName": 16,
    "lenType": 16,
    "lenVar": 40
   },
   "kernels_config": {
    "python": {
     "delete_cmd_postfix": "",
     "delete_cmd_prefix": "del ",
     "library": "var_list.py",
     "varRefreshCmd": "print(var_dic_list())"
    },
    "r": {
     "delete_cmd_postfix": ") ",
     "delete_cmd_prefix": "rm(",
     "library": "var_list.r",
     "varRefreshCmd": "cat(var_dic_list()) "
    }
   },
   "types_to_exclude": [
    "module",
    "function",
    "builtin_function_or_method",
    "instance",
    "_Feature"
   ],
   "window_display": false
  }
 },
 "nbformat": 4,
 "nbformat_minor": 5
}
